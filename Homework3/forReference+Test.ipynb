{
 "cells": [
  {
   "cell_type": "code",
   "execution_count": 4,
   "id": "288c5fac",
   "metadata": {},
   "outputs": [],
   "source": [
    "import requests\n",
    "import json\n",
    "import pandas as pd\n",
    "import time"
   ]
  },
  {
   "cell_type": "code",
   "execution_count": 5,
   "id": "e43a23b8",
   "metadata": {},
   "outputs": [],
   "source": [
    "keyword = '鞋櫃'\n",
    "# 要抓取的網址\n",
    "url = 'https://ecshweb.pchome.com.tw/search/v3.3/all/results?q='+keyword+'&page=1&sort=sale/dc'\n",
    "#請求網站\n",
    "list_req = requests.get(url)\n",
    "#將整個網站的程式碼爬下來\n",
    "getdata = json.loads(list_req.content)\n",
    "\n",
    "\n",
    "# 蒐集多頁的資料，打包成csv檔案\n",
    "alldata = pd.DataFrame() # 準備一個容器\n",
    "for i in range(1,10):\n",
    "    # 要抓取的網址\n",
    "    url = 'https://ecshweb.pchome.com.tw/search/v3.3/all/results?q='+keyword+'&page='+str(i)+'&sort=sale/dc'\n",
    "    #請求網站\n",
    "    list_req = requests.get(url)\n",
    "    #將整個網站的程式碼爬下來\n",
    "    getdata = json.loads(list_req.content)\n",
    "    todataFrame = pd.DataFrame(getdata['prods']) # 轉成Dataframe格式\n",
    "    alldata = pd.concat([alldata, todataFrame]) # 將結果裝進容器\n",
    "    \n",
    "    time.sleep(5) #拖延時間\n",
    "    \n",
    "# 儲存檔案\n",
    "alldata.to_csv('PChome.csv', # 名稱\n",
    "               encoding='utf-8-sig', # 編碼 \n",
    "               index=False) # 是否保留Index"
   ]
  },
  {
   "cell_type": "code",
   "execution_count": 6,
   "id": "1d3b2420",
   "metadata": {},
   "outputs": [
    {
     "data": {
      "text/plain": [
       "requests.models.Response"
      ]
     },
     "execution_count": 6,
     "metadata": {},
     "output_type": "execute_result"
    }
   ],
   "source": [
    "type(list_req)"
   ]
  },
  {
   "cell_type": "code",
   "execution_count": 4,
   "id": "ccd620ec",
   "metadata": {},
   "outputs": [
    {
     "name": "stdout",
     "output_type": "stream",
     "text": [
      "<Response [200]>\n"
     ]
    }
   ],
   "source": [
    "import requests as req\n",
    "\n",
    "#目標網站\n",
    "url = \"https://www.ptt.cc/man/part-time/DF76/D780/DC4F/index.html\"\n",
    "\n",
    "#請求網站\n",
    "r = req.get(url)\n",
    "\n",
    "#檢查回應。如果是200則成功請求\n",
    "print(r)"
   ]
  },
  {
   "cell_type": "code",
   "execution_count": 6,
   "id": "1b16118a",
   "metadata": {},
   "outputs": [
    {
     "name": "stdout",
     "output_type": "stream",
     "text": [
      "[抱怨] 台北大安美登利 ~又貴又雷~\n",
      "https://www.ptt.cc/bbs/Food/M.1666955950.A.22A.html\n",
      "[食記] 嘉義 稻荷壽司外帶專賣\n",
      "https://www.ptt.cc/bbs/Food/M.1666961893.A.733.html\n",
      "[食記] 台北 味処 初梅~來吃鮎飯\n",
      "https://www.ptt.cc/bbs/Food/M.1666965280.A.981.html\n",
      "[食記] 台北中山 行天宮捷運站 填一點甜點工作室\n",
      "https://www.ptt.cc/bbs/Food/M.1666966718.A.606.html\n",
      "[食記] 萬金缸爐碳烤燒餅 基隆暖暖 蔥香足五香餅\n",
      "https://www.ptt.cc/bbs/Food/M.1666967100.A.FCC.html\n",
      "[食記] 高雄 鳳鳴 日式串燒&丼飯\n",
      "https://www.ptt.cc/bbs/Food/M.1666970131.A.BFA.html\n",
      "[食記] 淡水 大腳印複合餐廳\n",
      "https://www.ptt.cc/bbs/Food/M.1667005385.A.6F4.html\n",
      "[食記] 高雄 鼓山區│丹丹漢堡 西子灣店\n",
      "https://www.ptt.cc/bbs/Food/M.1667014441.A.D31.html\n",
      "[請益] 台北古早味早餐\n",
      "https://www.ptt.cc/bbs/Food/M.1667041472.A.6BD.html\n",
      "[食記] 台北 嘉義栗子和法國栗子蒙布朗《法朋烘\n",
      "https://www.ptt.cc/bbs/Food/M.1667046751.A.9F5.html\n",
      "[食記] 施家鮮肉湯圓 台北大同 鹹香夠味鮮肉湯圓\n",
      "https://www.ptt.cc/bbs/Food/M.1667046965.A.482.html\n",
      "[食記] 南投埔里｜隱咖啡IN CAFÉ\n",
      "https://www.ptt.cc/bbs/Food/M.1667050338.A.2D0.html\n",
      "[公告] Food板 板規 V3.91\n",
      "https://www.ptt.cc/bbs/Food/M.1355673582.A.5F7.html\n",
      "[公告] 發文請在標題加上地區及提供地址電話。^^\n",
      "https://www.ptt.cc/bbs/Food/M.1190944426.A.E6C.html\n",
      "[公告] 文章被刪除者請洽精華區的資源回收桶\n",
      "https://www.ptt.cc/bbs/Food/M.1128132666.A.0FD.html\n",
      "[公告] 新增板規22：發文禁附延伸閱讀連結\n",
      "https://www.ptt.cc/bbs/Food/M.1496532469.A.C36.html\n"
     ]
    }
   ],
   "source": [
    "import bs4\n",
    "\n",
    "#透過BeautiFul整理且用html.parser解析\n",
    "root = bs4.BeautifulSoup(r.text,\"html.parser\")\n",
    "#找到所有屬性class = \"m-ent\"\n",
    "ment = root.find_all(\"div\",class_=\"title\")\n",
    "#一個一個印出要的資料\n",
    "for title in ment:\n",
    "    print(title.a.string)#取得文章標題\n",
    "    print(\"https://www.ptt.cc\"+title.a.get(\"href\"))#取得文章連結"
   ]
  },
  {
   "cell_type": "code",
   "execution_count": 3,
   "id": "77a657fd",
   "metadata": {},
   "outputs": [
    {
     "data": {
      "text/plain": [
       "requests.models.Response"
      ]
     },
     "execution_count": 3,
     "metadata": {},
     "output_type": "execute_result"
    }
   ],
   "source": [
    "type(r)"
   ]
  },
  {
   "cell_type": "code",
   "execution_count": null,
   "id": "e0506c2f",
   "metadata": {},
   "outputs": [],
   "source": []
  }
 ],
 "metadata": {
  "kernelspec": {
   "display_name": "Python 3 (ipykernel)",
   "language": "python",
   "name": "python3"
  },
  "language_info": {
   "codemirror_mode": {
    "name": "ipython",
    "version": 3
   },
   "file_extension": ".py",
   "mimetype": "text/x-python",
   "name": "python",
   "nbconvert_exporter": "python",
   "pygments_lexer": "ipython3",
   "version": "3.9.12"
  }
 },
 "nbformat": 4,
 "nbformat_minor": 5
}
