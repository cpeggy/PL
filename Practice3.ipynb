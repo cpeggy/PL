{
 "cells": [
  {
   "cell_type": "code",
   "execution_count": 19,
   "id": "b6733fba",
   "metadata": {
    "scrolled": true
   },
   "outputs": [
    {
     "data": {
      "text/plain": [
       "{'encoding': 'ISO-8859-1', 'confidence': 0.3807972665148064, 'language': ''}"
      ]
     },
     "execution_count": 19,
     "metadata": {},
     "output_type": "execute_result"
    }
   ],
   "source": [
    "# 由於csv檔內有python無法讀出之語言UFT-8\n",
    "## 先界定檔案所使用之語言\n",
    "import chardet\n",
    "with open(\"Basic_design.csv\", 'rb') as rawdata:\n",
    "    result = chardet.detect(rawdata.read(100000))\n",
    "result "
   ]
  },
  {
   "cell_type": "code",
   "execution_count": 17,
   "id": "2071fc64",
   "metadata": {},
   "outputs": [
    {
     "ename": "SyntaxError",
     "evalue": "Missing parentheses in call to 'print'. Did you mean print(rows)? (3547922211.py, line 5)",
     "output_type": "error",
     "traceback": [
      "\u001b[1;36m  Input \u001b[1;32mIn [17]\u001b[1;36m\u001b[0m\n\u001b[1;33m    print rows\u001b[0m\n\u001b[1;37m          ^\u001b[0m\n\u001b[1;31mSyntaxError\u001b[0m\u001b[1;31m:\u001b[0m Missing parentheses in call to 'print'. Did you mean print(rows)?\n"
     ]
    }
   ],
   "source": [
    "import csvfile\n",
    "with open (\"Basic_design.csv\", 'rb') as csvfile:\n",
    "    reader = csv.reader(csvfile)\n",
    "    rows = [row for row in reader]\n",
    "print rows"
   ]
  },
  {
   "cell_type": "code",
   "execution_count": 25,
   "id": "d0908bd9",
   "metadata": {},
   "outputs": [
    {
     "data": {
      "text/html": [
       "<div>\n",
       "<style scoped>\n",
       "    .dataframe tbody tr th:only-of-type {\n",
       "        vertical-align: middle;\n",
       "    }\n",
       "\n",
       "    .dataframe tbody tr th {\n",
       "        vertical-align: top;\n",
       "    }\n",
       "\n",
       "    .dataframe thead th {\n",
       "        text-align: right;\n",
       "    }\n",
       "</style>\n",
       "<table border=\"1\" class=\"dataframe\">\n",
       "  <thead>\n",
       "    <tr style=\"text-align: right;\">\n",
       "      <th></th>\n",
       "      <th>姓名</th>\n",
       "      <th>3</th>\n",
       "    </tr>\n",
       "  </thead>\n",
       "  <tbody>\n",
       "    <tr>\n",
       "      <th>0</th>\n",
       "      <td>廖育萱</td>\n",
       "      <td>Y</td>\n",
       "    </tr>\n",
       "    <tr>\n",
       "      <th>1</th>\n",
       "      <td>王嘉琳</td>\n",
       "      <td>Y</td>\n",
       "    </tr>\n",
       "    <tr>\n",
       "      <th>2</th>\n",
       "      <td>楊俊雄</td>\n",
       "      <td>NaN</td>\n",
       "    </tr>\n",
       "    <tr>\n",
       "      <th>3</th>\n",
       "      <td>謝鎮遠</td>\n",
       "      <td>Y</td>\n",
       "    </tr>\n",
       "    <tr>\n",
       "      <th>4</th>\n",
       "      <td>吳沛龍</td>\n",
       "      <td>Y</td>\n",
       "    </tr>\n",
       "  </tbody>\n",
       "</table>\n",
       "</div>"
      ],
      "text/plain": [
       "    姓名    3\n",
       "0  廖育萱    Y\n",
       "1  王嘉琳    Y\n",
       "2  楊俊雄  NaN\n",
       "3  謝鎮遠    Y\n",
       "4  吳沛龍    Y"
      ]
     },
     "execution_count": 25,
     "metadata": {},
     "output_type": "execute_result"
    }
   ],
   "source": [
    "# 尋找未到學生\n",
    "import pandas as pd\n",
    "\n",
    "## 讓pd讀檔並切換語言參數\n",
    "Basic_design = pd.read_csv(\"Basic_design.csv\",encoding = \"Big5\")\n",
    "Basic_design.head() #test"
   ]
  },
  {
   "cell_type": "code",
   "execution_count": 31,
   "id": "fc20f55a",
   "metadata": {},
   "outputs": [
    {
     "name": "stdout",
     "output_type": "stream",
     "text": [
      "修課學生數: 50\n",
      "出席學生數: 46\n"
     ]
    }
   ],
   "source": [
    "#列出應到與實到人數\n",
    "\n",
    "allstudent = list(Basic_design['姓名'])\n",
    "attendance = list(Basic_design['3'])\n",
    "item = \"Y\"\n",
    "attend = attendance.count(item)\n",
    "print(\"修課學生數:\", len(allstudent))\n",
    "print(\"出席學生數:\", attend)"
   ]
  },
  {
   "cell_type": "raw",
   "id": "e561d03d",
   "metadata": {},
   "source": []
  },
  {
   "cell_type": "code",
   "execution_count": 10,
   "id": "b4549669",
   "metadata": {},
   "outputs": [
    {
     "ename": "SyntaxError",
     "evalue": "invalid syntax (2124111215.py, line 3)",
     "output_type": "error",
     "traceback": [
      "\u001b[1;36m  Input \u001b[1;32mIn [10]\u001b[1;36m\u001b[0m\n\u001b[1;33m    if student == allstudent[] and \"Y\":\u001b[0m\n\u001b[1;37m                             ^\u001b[0m\n\u001b[1;31mSyntaxError\u001b[0m\u001b[1;31m:\u001b[0m invalid syntax\n"
     ]
    }
   ],
   "source": [
    "student = input(\"請輸入名字： \")\n",
    "\n",
    "if student == allstudent[] and \"Y\":\n",
    "        print(\"有到\")\n",
    "        \n",
    "elif student == allstudent[] and \"\":\n",
    "        print(\"未到\")\n",
    "        \n",
    "else:\n",
    "        print(\"這個人是誰啊~~~???\")"
   ]
  },
  {
   "cell_type": "code",
   "execution_count": 9,
   "id": "49b618c7",
   "metadata": {},
   "outputs": [
    {
     "ename": "SyntaxError",
     "evalue": "Missing parentheses in call to 'print'. Did you mean print(allstudent[x])? (2827784424.py, line 2)",
     "output_type": "error",
     "traceback": [
      "\u001b[1;36m  Input \u001b[1;32mIn [9]\u001b[1;36m\u001b[0m\n\u001b[1;33m    print allstudent[x]\u001b[0m\n\u001b[1;37m          ^\u001b[0m\n\u001b[1;31mSyntaxError\u001b[0m\u001b[1;31m:\u001b[0m Missing parentheses in call to 'print'. Did you mean print(allstudent[x])?\n"
     ]
    }
   ],
   "source": [
    "for x in range(len(allstudent)):\n",
    "    print allstudent[x]"
   ]
  }
 ],
 "metadata": {
  "kernelspec": {
   "display_name": "Python 3 (ipykernel)",
   "language": "python",
   "name": "python3"
  },
  "language_info": {
   "codemirror_mode": {
    "name": "ipython",
    "version": 3
   },
   "file_extension": ".py",
   "mimetype": "text/x-python",
   "name": "python",
   "nbconvert_exporter": "python",
   "pygments_lexer": "ipython3",
   "version": "3.9.12"
  }
 },
 "nbformat": 4,
 "nbformat_minor": 5
}
