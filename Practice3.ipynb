{
 "cells": [
  {
   "cell_type": "code",
   "execution_count": 19,
   "id": "b6733fba",
   "metadata": {
    "scrolled": true
   },
   "outputs": [
    {
     "data": {
      "text/plain": [
       "{'encoding': 'ISO-8859-1', 'confidence': 0.3807972665148064, 'language': ''}"
      ]
     },
     "execution_count": 19,
     "metadata": {},
     "output_type": "execute_result"
    }
   ],
   "source": [
    "# 由於csv檔內有python無法讀出之語言UFT-8\n",
    "## 先界定檔案所使用之語言\n",
    "import chardet\n",
    "with open(\"Basic_design.csv\", 'rb') as rawdata:\n",
    "    result = chardet.detect(rawdata.read(100000))\n",
    "result "
   ]
  },
  {
   "cell_type": "code",
   "execution_count": 25,
   "id": "d0908bd9",
   "metadata": {},
   "outputs": [
    {
     "data": {
      "text/html": [
       "<div>\n",
       "<style scoped>\n",
       "    .dataframe tbody tr th:only-of-type {\n",
       "        vertical-align: middle;\n",
       "    }\n",
       "\n",
       "    .dataframe tbody tr th {\n",
       "        vertical-align: top;\n",
       "    }\n",
       "\n",
       "    .dataframe thead th {\n",
       "        text-align: right;\n",
       "    }\n",
       "</style>\n",
       "<table border=\"1\" class=\"dataframe\">\n",
       "  <thead>\n",
       "    <tr style=\"text-align: right;\">\n",
       "      <th></th>\n",
       "      <th>姓名</th>\n",
       "      <th>3</th>\n",
       "    </tr>\n",
       "  </thead>\n",
       "  <tbody>\n",
       "    <tr>\n",
       "      <th>0</th>\n",
       "      <td>廖育萱</td>\n",
       "      <td>Y</td>\n",
       "    </tr>\n",
       "    <tr>\n",
       "      <th>1</th>\n",
       "      <td>王嘉琳</td>\n",
       "      <td>Y</td>\n",
       "    </tr>\n",
       "    <tr>\n",
       "      <th>2</th>\n",
       "      <td>楊俊雄</td>\n",
       "      <td>NaN</td>\n",
       "    </tr>\n",
       "    <tr>\n",
       "      <th>3</th>\n",
       "      <td>謝鎮遠</td>\n",
       "      <td>Y</td>\n",
       "    </tr>\n",
       "    <tr>\n",
       "      <th>4</th>\n",
       "      <td>吳沛龍</td>\n",
       "      <td>Y</td>\n",
       "    </tr>\n",
       "  </tbody>\n",
       "</table>\n",
       "</div>"
      ],
      "text/plain": [
       "    姓名    3\n",
       "0  廖育萱    Y\n",
       "1  王嘉琳    Y\n",
       "2  楊俊雄  NaN\n",
       "3  謝鎮遠    Y\n",
       "4  吳沛龍    Y"
      ]
     },
     "execution_count": 25,
     "metadata": {},
     "output_type": "execute_result"
    }
   ],
   "source": [
    "# 尋找未到學生\n",
    "import pandas as pd\n",
    "\n",
    "## 讓pd讀檔並切換語言參數\n",
    "Basic_design = pd.read_csv(\"Basic_design.csv\",encoding = \"Big5\")\n",
    "Basic_design.head() #test"
   ]
  },
  {
   "cell_type": "code",
   "execution_count": 31,
   "id": "fc20f55a",
   "metadata": {},
   "outputs": [
    {
     "name": "stdout",
     "output_type": "stream",
     "text": [
      "修課學生數: 50\n",
      "出席學生數: 46\n"
     ]
    }
   ],
   "source": [
    "#列出應到與實到人數\n",
    "\n",
    "allstudent = list(Basic_design['姓名'])\n",
    "attendance = list(Basic_design['3'])\n",
    "item = \"Y\"\n",
    "attend = attendance.count(item)\n",
    "print(\"修課學生數:\", len(allstudent))\n",
    "print(\"出席學生數:\", attend)"
   ]
  },
  {
   "cell_type": "code",
   "execution_count": 32,
   "id": "b4549669",
   "metadata": {},
   "outputs": [
    {
     "data": {
      "text/plain": [
       "{'丁煦芊',\n",
       " '于悅',\n",
       " '余楚存',\n",
       " '劉媞欣',\n",
       " '吳亞蓉',\n",
       " '吳沛龍',\n",
       " '吳詩怡',\n",
       " '周睿杰',\n",
       " '廖育萱',\n",
       " '張乃云',\n",
       " '張博凱',\n",
       " '徐嫚謙',\n",
       " '徐敏皓',\n",
       " '施宏儒',\n",
       " '李嘉明',\n",
       " '李娟',\n",
       " '李承曄',\n",
       " '李苡嘉',\n",
       " '李苡琳',\n",
       " '林奕嫻',\n",
       " '林宇凡',\n",
       " '林志遠',\n",
       " '林茈薇',\n",
       " '林逸豪',\n",
       " '林鈺茹',\n",
       " '柯幸孜',\n",
       " '楊俊雄',\n",
       " '洪鈺凱',\n",
       " '游允赫',\n",
       " '王依仁',\n",
       " '王嘉琳',\n",
       " '盧奇琳',\n",
       " '簡珮軒',\n",
       " '羅浚佑',\n",
       " '翁健哲',\n",
       " '蔡宗廷',\n",
       " '許晴閔',\n",
       " '許芝菡',\n",
       " '謝鎮遠',\n",
       " '邱致瑋',\n",
       " '郭麗慧',\n",
       " '鄭?耀',\n",
       " '鄭仲益',\n",
       " '鄭宇皓',\n",
       " '陳亮竹',\n",
       " '陳思岑',\n",
       " '陳淑鈃',\n",
       " '陳翰駿',\n",
       " '黃思齊',\n",
       " '黃麟堯'}"
      ]
     },
     "execution_count": 32,
     "metadata": {},
     "output_type": "execute_result"
    }
   ],
   "source": []
  },
  {
   "cell_type": "code",
   "execution_count": null,
   "id": "49b618c7",
   "metadata": {},
   "outputs": [],
   "source": []
  },
  {
   "cell_type": "code",
   "execution_count": null,
   "id": "09c3cbb6",
   "metadata": {},
   "outputs": [],
   "source": []
  }
 ],
 "metadata": {
  "kernelspec": {
   "display_name": "Python 3 (ipykernel)",
   "language": "python",
   "name": "python3"
  },
  "language_info": {
   "codemirror_mode": {
    "name": "ipython",
    "version": 3
   },
   "file_extension": ".py",
   "mimetype": "text/x-python",
   "name": "python",
   "nbconvert_exporter": "python",
   "pygments_lexer": "ipython3",
   "version": "3.9.12"
  }
 },
 "nbformat": 4,
 "nbformat_minor": 5
}
