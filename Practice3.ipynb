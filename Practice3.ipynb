{
 "cells": [
  {
   "cell_type": "code",
   "execution_count": 9,
   "id": "b6733fba",
   "metadata": {
    "scrolled": true
   },
   "outputs": [
    {
     "data": {
      "text/plain": [
       "{'encoding': 'ISO-8859-1', 'confidence': 0.47868852459016387, 'language': ''}"
      ]
     },
     "execution_count": 9,
     "metadata": {},
     "output_type": "execute_result"
    }
   ],
   "source": [
    "# 由於csv檔內有python無法讀出之語言UFT-8\n",
    "#先界定檔案所使用之語言\n",
    "import chardet\n",
    "with open(\"WMF_employees_schdule0425.csv\", 'rb') as rawdata:\n",
    "    result = chardet.detect(rawdata.read(100000))\n",
    "result "
   ]
  },
  {
   "cell_type": "code",
   "execution_count": 10,
   "id": "d0908bd9",
   "metadata": {},
   "outputs": [
    {
     "data": {
      "text/html": [
       "<div>\n",
       "<style scoped>\n",
       "    .dataframe tbody tr th:only-of-type {\n",
       "        vertical-align: middle;\n",
       "    }\n",
       "\n",
       "    .dataframe tbody tr th {\n",
       "        vertical-align: top;\n",
       "    }\n",
       "\n",
       "    .dataframe thead th {\n",
       "        text-align: right;\n",
       "    }\n",
       "</style>\n",
       "<table border=\"1\" class=\"dataframe\">\n",
       "  <thead>\n",
       "    <tr style=\"text-align: right;\">\n",
       "      <th></th>\n",
       "      <th>時間</th>\n",
       "      <th>4/25（一）</th>\n",
       "      <th>Unnamed: 2</th>\n",
       "      <th>Unnamed: 3</th>\n",
       "      <th>Unnamed: 4</th>\n",
       "      <th>Unnamed: 5</th>\n",
       "      <th>Unnamed: 6</th>\n",
       "      <th>Unnamed: 7</th>\n",
       "      <th>Unnamed: 8</th>\n",
       "      <th>Unnamed: 9</th>\n",
       "      <th>Unnamed: 10</th>\n",
       "      <th>Unnamed: 11</th>\n",
       "      <th>Unnamed: 12</th>\n",
       "    </tr>\n",
       "  </thead>\n",
       "  <tbody>\n",
       "    <tr>\n",
       "      <th>0</th>\n",
       "      <td>NaN</td>\n",
       "      <td>NaN</td>\n",
       "      <td>NaN</td>\n",
       "      <td>NaN</td>\n",
       "      <td>NaN</td>\n",
       "      <td>NaN</td>\n",
       "      <td>NaN</td>\n",
       "      <td>NaN</td>\n",
       "      <td>NaN</td>\n",
       "      <td>NaN</td>\n",
       "      <td>NaN</td>\n",
       "      <td>NaN</td>\n",
       "      <td>NaN</td>\n",
       "    </tr>\n",
       "    <tr>\n",
       "      <th>1</th>\n",
       "      <td>NaN</td>\n",
       "      <td>NaN</td>\n",
       "      <td>NaN</td>\n",
       "      <td>NaN</td>\n",
       "      <td>NaN</td>\n",
       "      <td>NaN</td>\n",
       "      <td>NaN</td>\n",
       "      <td>NaN</td>\n",
       "      <td>NaN</td>\n",
       "      <td>NaN</td>\n",
       "      <td>NaN</td>\n",
       "      <td>NaN</td>\n",
       "      <td>NaN</td>\n",
       "    </tr>\n",
       "    <tr>\n",
       "      <th>2</th>\n",
       "      <td>4/25 9:10~10:10</td>\n",
       "      <td>4/25 10:10~11:10</td>\n",
       "      <td>4/25 11:10~12:10</td>\n",
       "      <td>4/25 12:10~13:10</td>\n",
       "      <td>4/25 13:10~14:10</td>\n",
       "      <td>4/25 14:10~15:20</td>\n",
       "      <td>4/25 15:20~16:20</td>\n",
       "      <td>4/25 16:20~18:00</td>\n",
       "      <td>NaN</td>\n",
       "      <td>NaN</td>\n",
       "      <td>NaN</td>\n",
       "      <td>NaN</td>\n",
       "      <td>NaN</td>\n",
       "    </tr>\n",
       "    <tr>\n",
       "      <th>3</th>\n",
       "      <td>潘玉蔚</td>\n",
       "      <td>吳彩葳</td>\n",
       "      <td>許婉柔</td>\n",
       "      <td>蔡福婷</td>\n",
       "      <td>蘇惠妤</td>\n",
       "      <td>蘇惠妤</td>\n",
       "      <td>蘇惠妤</td>\n",
       "      <td>范純?</td>\n",
       "      <td>NaN</td>\n",
       "      <td>NaN</td>\n",
       "      <td>NaN</td>\n",
       "      <td>NaN</td>\n",
       "      <td>NaN</td>\n",
       "    </tr>\n",
       "    <tr>\n",
       "      <th>4</th>\n",
       "      <td>周如茵</td>\n",
       "      <td>黃珮涵</td>\n",
       "      <td>黃珮涵</td>\n",
       "      <td>程安妮</td>\n",
       "      <td>程安妮</td>\n",
       "      <td>歐銘政</td>\n",
       "      <td>儲詠潔</td>\n",
       "      <td>蔡福婷</td>\n",
       "      <td>NaN</td>\n",
       "      <td>NaN</td>\n",
       "      <td>NaN</td>\n",
       "      <td>NaN</td>\n",
       "      <td>NaN</td>\n",
       "    </tr>\n",
       "  </tbody>\n",
       "</table>\n",
       "</div>"
      ],
      "text/plain": [
       "                時間           4/25（一）        Unnamed: 2        Unnamed: 3  \\\n",
       "0              NaN               NaN               NaN               NaN   \n",
       "1              NaN               NaN               NaN               NaN   \n",
       "2  4/25 9:10~10:10  4/25 10:10~11:10  4/25 11:10~12:10  4/25 12:10~13:10   \n",
       "3              潘玉蔚               吳彩葳               許婉柔               蔡福婷   \n",
       "4              周如茵               黃珮涵               黃珮涵               程安妮   \n",
       "\n",
       "         Unnamed: 4        Unnamed: 5        Unnamed: 6        Unnamed: 7  \\\n",
       "0               NaN               NaN               NaN               NaN   \n",
       "1               NaN               NaN               NaN               NaN   \n",
       "2  4/25 13:10~14:10  4/25 14:10~15:20  4/25 15:20~16:20  4/25 16:20~18:00   \n",
       "3               蘇惠妤               蘇惠妤               蘇惠妤               范純?   \n",
       "4               程安妮               歐銘政              儲詠潔                蔡福婷   \n",
       "\n",
       "   Unnamed: 8  Unnamed: 9  Unnamed: 10  Unnamed: 11  Unnamed: 12  \n",
       "0         NaN         NaN          NaN          NaN          NaN  \n",
       "1         NaN         NaN          NaN          NaN          NaN  \n",
       "2         NaN         NaN          NaN          NaN          NaN  \n",
       "3         NaN         NaN          NaN          NaN          NaN  \n",
       "4         NaN         NaN          NaN          NaN          NaN  "
      ]
     },
     "execution_count": 10,
     "metadata": {},
     "output_type": "execute_result"
    }
   ],
   "source": [
    "#輸出班表\n",
    "import pandas as pd\n",
    "\n",
    "## 讓pd讀檔並切換語言參數\n",
    "schedule1 = pd.read_csv(\"WMF_employees_schdule0425.csv\",encoding = \"Big5\")\n",
    "schedule1.head() #test"
   ]
  },
  {
   "cell_type": "code",
   "execution_count": null,
   "id": "b841e873",
   "metadata": {},
   "outputs": [],
   "source": []
  },
  {
   "cell_type": "code",
   "execution_count": 15,
   "id": "9eb42e3e",
   "metadata": {},
   "outputs": [
    {
     "ename": "KeyError",
     "evalue": "'4/25_9:10~10:10'",
     "output_type": "error",
     "traceback": [
      "\u001b[1;31m---------------------------------------------------------------------------\u001b[0m",
      "\u001b[1;31mKeyError\u001b[0m                                  Traceback (most recent call last)",
      "File \u001b[1;32mC:\\ProgramData\\Anaconda3\\lib\\site-packages\\pandas\\core\\indexes\\base.py:3621\u001b[0m, in \u001b[0;36mIndex.get_loc\u001b[1;34m(self, key, method, tolerance)\u001b[0m\n\u001b[0;32m   3620\u001b[0m \u001b[38;5;28;01mtry\u001b[39;00m:\n\u001b[1;32m-> 3621\u001b[0m     \u001b[38;5;28;01mreturn\u001b[39;00m \u001b[38;5;28;43mself\u001b[39;49m\u001b[38;5;241;43m.\u001b[39;49m\u001b[43m_engine\u001b[49m\u001b[38;5;241;43m.\u001b[39;49m\u001b[43mget_loc\u001b[49m\u001b[43m(\u001b[49m\u001b[43mcasted_key\u001b[49m\u001b[43m)\u001b[49m\n\u001b[0;32m   3622\u001b[0m \u001b[38;5;28;01mexcept\u001b[39;00m \u001b[38;5;167;01mKeyError\u001b[39;00m \u001b[38;5;28;01mas\u001b[39;00m err:\n",
      "File \u001b[1;32mC:\\ProgramData\\Anaconda3\\lib\\site-packages\\pandas\\_libs\\index.pyx:136\u001b[0m, in \u001b[0;36mpandas._libs.index.IndexEngine.get_loc\u001b[1;34m()\u001b[0m\n",
      "File \u001b[1;32mC:\\ProgramData\\Anaconda3\\lib\\site-packages\\pandas\\_libs\\index.pyx:163\u001b[0m, in \u001b[0;36mpandas._libs.index.IndexEngine.get_loc\u001b[1;34m()\u001b[0m\n",
      "File \u001b[1;32mpandas\\_libs\\hashtable_class_helper.pxi:5198\u001b[0m, in \u001b[0;36mpandas._libs.hashtable.PyObjectHashTable.get_item\u001b[1;34m()\u001b[0m\n",
      "File \u001b[1;32mpandas\\_libs\\hashtable_class_helper.pxi:5206\u001b[0m, in \u001b[0;36mpandas._libs.hashtable.PyObjectHashTable.get_item\u001b[1;34m()\u001b[0m\n",
      "\u001b[1;31mKeyError\u001b[0m: '4/25_9:10~10:10'",
      "\nThe above exception was the direct cause of the following exception:\n",
      "\u001b[1;31mKeyError\u001b[0m                                  Traceback (most recent call last)",
      "Input \u001b[1;32mIn [15]\u001b[0m, in \u001b[0;36m<cell line: 2>\u001b[1;34m()\u001b[0m\n\u001b[0;32m      1\u001b[0m \u001b[38;5;66;03m# make a list of time\u001b[39;00m\n\u001b[1;32m----> 2\u001b[0m Mon1_people \u001b[38;5;241m=\u001b[39m \u001b[38;5;28mlist\u001b[39m(\u001b[43mschedule1\u001b[49m\u001b[43m[\u001b[49m\u001b[38;5;124;43m'\u001b[39;49m\u001b[38;5;124;43m4/25_9:10~10:10\u001b[39;49m\u001b[38;5;124;43m'\u001b[39;49m\u001b[43m]\u001b[49m) \n\u001b[0;32m      3\u001b[0m Mon2_people \u001b[38;5;241m=\u001b[39m \u001b[38;5;28mlist\u001b[39m(schedule1[\u001b[38;5;124m'\u001b[39m\u001b[38;5;124m4/25_10:10~11:10\u001b[39m\u001b[38;5;124m'\u001b[39m]) \n\u001b[0;32m      4\u001b[0m Mon3_people \u001b[38;5;241m=\u001b[39m \u001b[38;5;28mlist\u001b[39m(schedule1[\u001b[38;5;124m'\u001b[39m\u001b[38;5;124m4/25_11:10~12:10\u001b[39m\u001b[38;5;124m'\u001b[39m]) \n",
      "File \u001b[1;32mC:\\ProgramData\\Anaconda3\\lib\\site-packages\\pandas\\core\\frame.py:3505\u001b[0m, in \u001b[0;36mDataFrame.__getitem__\u001b[1;34m(self, key)\u001b[0m\n\u001b[0;32m   3503\u001b[0m \u001b[38;5;28;01mif\u001b[39;00m \u001b[38;5;28mself\u001b[39m\u001b[38;5;241m.\u001b[39mcolumns\u001b[38;5;241m.\u001b[39mnlevels \u001b[38;5;241m>\u001b[39m \u001b[38;5;241m1\u001b[39m:\n\u001b[0;32m   3504\u001b[0m     \u001b[38;5;28;01mreturn\u001b[39;00m \u001b[38;5;28mself\u001b[39m\u001b[38;5;241m.\u001b[39m_getitem_multilevel(key)\n\u001b[1;32m-> 3505\u001b[0m indexer \u001b[38;5;241m=\u001b[39m \u001b[38;5;28;43mself\u001b[39;49m\u001b[38;5;241;43m.\u001b[39;49m\u001b[43mcolumns\u001b[49m\u001b[38;5;241;43m.\u001b[39;49m\u001b[43mget_loc\u001b[49m\u001b[43m(\u001b[49m\u001b[43mkey\u001b[49m\u001b[43m)\u001b[49m\n\u001b[0;32m   3506\u001b[0m \u001b[38;5;28;01mif\u001b[39;00m is_integer(indexer):\n\u001b[0;32m   3507\u001b[0m     indexer \u001b[38;5;241m=\u001b[39m [indexer]\n",
      "File \u001b[1;32mC:\\ProgramData\\Anaconda3\\lib\\site-packages\\pandas\\core\\indexes\\base.py:3623\u001b[0m, in \u001b[0;36mIndex.get_loc\u001b[1;34m(self, key, method, tolerance)\u001b[0m\n\u001b[0;32m   3621\u001b[0m     \u001b[38;5;28;01mreturn\u001b[39;00m \u001b[38;5;28mself\u001b[39m\u001b[38;5;241m.\u001b[39m_engine\u001b[38;5;241m.\u001b[39mget_loc(casted_key)\n\u001b[0;32m   3622\u001b[0m \u001b[38;5;28;01mexcept\u001b[39;00m \u001b[38;5;167;01mKeyError\u001b[39;00m \u001b[38;5;28;01mas\u001b[39;00m err:\n\u001b[1;32m-> 3623\u001b[0m     \u001b[38;5;28;01mraise\u001b[39;00m \u001b[38;5;167;01mKeyError\u001b[39;00m(key) \u001b[38;5;28;01mfrom\u001b[39;00m \u001b[38;5;21;01merr\u001b[39;00m\n\u001b[0;32m   3624\u001b[0m \u001b[38;5;28;01mexcept\u001b[39;00m \u001b[38;5;167;01mTypeError\u001b[39;00m:\n\u001b[0;32m   3625\u001b[0m     \u001b[38;5;66;03m# If we have a listlike key, _check_indexing_error will raise\u001b[39;00m\n\u001b[0;32m   3626\u001b[0m     \u001b[38;5;66;03m#  InvalidIndexError. Otherwise we fall through and re-raise\u001b[39;00m\n\u001b[0;32m   3627\u001b[0m     \u001b[38;5;66;03m#  the TypeError.\u001b[39;00m\n\u001b[0;32m   3628\u001b[0m     \u001b[38;5;28mself\u001b[39m\u001b[38;5;241m.\u001b[39m_check_indexing_error(key)\n",
      "\u001b[1;31mKeyError\u001b[0m: '4/25_9:10~10:10'"
     ]
    }
   ],
   "source": [
    "# make a list of time\n",
    "Mon1_people = list(schedule1['4/25_9:10~10:10']) \n",
    "Mon2_people = list(schedule1['4/25_10:10~11:10']) \n",
    "Mon3_people = list(schedule1['4/25_11:10~12:10']) \n",
    "Mon4_people = list(schedule1['4/25_12:10~13:10']) \n",
    "Mon5_people = list(schedule1['4/25_14:10~15:20']) \n",
    "Mon6_people = list(schedule1['4/25_15:20~16:20']) \n",
    "Mon7_people = list(schedule1['4/25_16:20~18:00']) "
   ]
  },
  {
   "cell_type": "code",
   "execution_count": null,
   "id": "072561fa",
   "metadata": {},
   "outputs": [],
   "source": [
    "s1=set(Mon1_people)\n",
    "s2=set(Mon2_people)"
   ]
  },
  {
   "cell_type": "code",
   "execution_count": 21,
   "id": "8fdca705",
   "metadata": {},
   "outputs": [
    {
     "name": "stdout",
     "output_type": "stream",
     "text": [
      "{nan, True}\n"
     ]
    }
   ],
   "source": [
    "# test the material\n",
    "print(s1)"
   ]
  },
  {
   "cell_type": "code",
   "execution_count": 13,
   "id": "4d6f384c",
   "metadata": {},
   "outputs": [
    {
     "name": "stdout",
     "output_type": "stream",
     "text": [
      "星期一 9:10~11:10 都在的人\n",
      "{nan, True}\n"
     ]
    }
   ],
   "source": [
    "#星期一 9:10~11:10 都在有顧攤的人-交集\n",
    "print('星期一 9:10~11:10 都在的人')\n",
    "print(s1&s2)"
   ]
  },
  {
   "cell_type": "code",
   "execution_count": null,
   "id": "2186308f",
   "metadata": {},
   "outputs": [],
   "source": [
    "#星期一 9:10~11:10 在有顧攤的人-聯集"
   ]
  },
  {
   "cell_type": "code",
   "execution_count": null,
   "id": "0f4c71d1",
   "metadata": {},
   "outputs": [],
   "source": [
    "#星期一 9:10~11:10中,9:10~10:10有顧但10:10~11:10沒有顧攤的人-差集"
   ]
  },
  {
   "cell_type": "code",
   "execution_count": null,
   "id": "f35de5d1",
   "metadata": {},
   "outputs": [],
   "source": [
    "#星期一 9:10~11:10中,9:10~10:10或10:10~11:10顧攤的人-對稱差集"
   ]
  },
  {
   "cell_type": "raw",
   "id": "fba27198",
   "metadata": {},
   "source": []
  },
  {
   "cell_type": "code",
   "execution_count": 31,
   "id": "fc20f55a",
   "metadata": {},
   "outputs": [
    {
     "name": "stdout",
     "output_type": "stream",
     "text": [
      "修課學生數: 50\n",
      "出席學生數: 46\n"
     ]
    }
   ],
   "source": [
    "#這裡以下和前面無關(純紀錄\n",
    "#列出應到與實到人數\n",
    "\n",
    "allstudent = list(Basic_design['姓名'])\n",
    "attendance = list(Basic_design['3'])\n",
    "item = \"Y\"\n",
    "attend = attendance.count(item)\n",
    "print(\"修課學生數:\", len(allstudent))\n",
    "print(\"出席學生數:\", attend)"
   ]
  },
  {
   "cell_type": "code",
   "execution_count": 20,
   "id": "b4549669",
   "metadata": {},
   "outputs": [
    {
     "name": "stdout",
     "output_type": "stream",
     "text": [
      "請輸入名字： 簡珮軒\n"
     ]
    },
    {
     "ename": "NameError",
     "evalue": "name 'allstudent' is not defined",
     "output_type": "error",
     "traceback": [
      "\u001b[1;31m---------------------------------------------------------------------------\u001b[0m",
      "\u001b[1;31mNameError\u001b[0m                                 Traceback (most recent call last)",
      "Input \u001b[1;32mIn [20]\u001b[0m, in \u001b[0;36m<cell line: 4>\u001b[1;34m()\u001b[0m\n\u001b[0;32m      1\u001b[0m \u001b[38;5;66;03m#檢查自己到底有沒有被點報名\u001b[39;00m\n\u001b[0;32m      2\u001b[0m student \u001b[38;5;241m=\u001b[39m \u001b[38;5;28minput\u001b[39m(\u001b[38;5;124m\"\u001b[39m\u001b[38;5;124m請輸入名字： \u001b[39m\u001b[38;5;124m\"\u001b[39m)\n\u001b[1;32m----> 4\u001b[0m \u001b[38;5;28;01mif\u001b[39;00m student \u001b[38;5;129;01min\u001b[39;00m \u001b[43mallstudent\u001b[49m \u001b[38;5;129;01mand\u001b[39;00m \u001b[38;5;124m\"\u001b[39m\u001b[38;5;124mY\u001b[39m\u001b[38;5;124m\"\u001b[39m:\n\u001b[0;32m      5\u001b[0m         \u001b[38;5;28mprint\u001b[39m(\u001b[38;5;124m\"\u001b[39m\u001b[38;5;124m有到\u001b[39m\u001b[38;5;124m\"\u001b[39m)\n\u001b[0;32m      7\u001b[0m \u001b[38;5;28;01melif\u001b[39;00m student \u001b[38;5;129;01min\u001b[39;00m allstudent \u001b[38;5;129;01mand\u001b[39;00m \u001b[38;5;124m\"\u001b[39m\u001b[38;5;124m\"\u001b[39m:\n",
      "\u001b[1;31mNameError\u001b[0m: name 'allstudent' is not defined"
     ]
    }
   ],
   "source": [
    "#檢查自己到底有沒有被點報名\n",
    "student = input(\"請輸入名字： \")\n",
    "\n",
    "if student in allstudent and \"Y\":\n",
    "        print(\"有到\")\n",
    "        \n",
    "elif student in allstudent and \"\":\n",
    "        print(\"未到\")\n",
    "        \n",
    "else:\n",
    "        print(\"這個人是誰啊~~~???\")"
   ]
  },
  {
   "cell_type": "code",
   "execution_count": null,
   "id": "8e6a8086",
   "metadata": {},
   "outputs": [],
   "source": []
  },
  {
   "cell_type": "code",
   "execution_count": 10,
   "id": "ab163616",
   "metadata": {},
   "outputs": [],
   "source": [
    "Mon1_people = list(schedule1['4/25（一）9:10~10:10（含場佈）']) \n",
    "Mon2_people = list(schedule1['4/25（一）10:10~11:10']) \n",
    "Mon3_people = list(schedule1['4/25（一）13:10~14:10']) \n",
    "Mon4_people = list(schedule1['4/25（一）14:10~15:20']) \n",
    "Mon5_people = list(schedule1['4/25（一）15:20~16:20']) \n",
    "Mon6_people = list(schedule1['4/25（一）16:20~18:00（含場復檢討）']) "
   ]
  },
  {
   "cell_type": "code",
   "execution_count": 9,
   "id": "49b618c7",
   "metadata": {},
   "outputs": [
    {
     "ename": "SyntaxError",
     "evalue": "Missing parentheses in call to 'print'. Did you mean print(allstudent[x])? (2827784424.py, line 2)",
     "output_type": "error",
     "traceback": [
      "\u001b[1;36m  Input \u001b[1;32mIn [9]\u001b[1;36m\u001b[0m\n\u001b[1;33m    print allstudent[x]\u001b[0m\n\u001b[1;37m          ^\u001b[0m\n\u001b[1;31mSyntaxError\u001b[0m\u001b[1;31m:\u001b[0m Missing parentheses in call to 'print'. Did you mean print(allstudent[x])?\n"
     ]
    }
   ],
   "source": [
    "for x in range(len(allstudent)):\n",
    "    print allstudent[x]"
   ]
  }
 ],
 "metadata": {
  "kernelspec": {
   "display_name": "Python 3 (ipykernel)",
   "language": "python",
   "name": "python3"
  },
  "language_info": {
   "codemirror_mode": {
    "name": "ipython",
    "version": 3
   },
   "file_extension": ".py",
   "mimetype": "text/x-python",
   "name": "python",
   "nbconvert_exporter": "python",
   "pygments_lexer": "ipython3",
   "version": "3.9.12"
  }
 },
 "nbformat": 4,
 "nbformat_minor": 5
}
