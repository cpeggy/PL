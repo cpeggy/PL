{
 "cells": [
  {
   "cell_type": "code",
   "execution_count": 1,
   "id": "b6733fba",
   "metadata": {
    "scrolled": true
   },
   "outputs": [
    {
     "data": {
      "text/plain": [
       "{'encoding': 'ISO-8859-1', 'confidence': 0.42197836166924263, 'language': ''}"
      ]
     },
     "execution_count": 1,
     "metadata": {},
     "output_type": "execute_result"
    }
   ],
   "source": [
    "# 由於csv檔內有python無法讀出之語言UFT-8\n",
    "#先界定檔案所使用之語言\n",
    "import chardet\n",
    "with open(\"WMF_employees_schdule0425.csv\", 'rb') as rawdata:\n",
    "    result = chardet.detect(rawdata.read(100000))\n",
    "result "
   ]
  },
  {
   "cell_type": "code",
   "execution_count": 2,
   "id": "d0908bd9",
   "metadata": {},
   "outputs": [
    {
     "data": {
      "text/html": [
       "<div>\n",
       "<style scoped>\n",
       "    .dataframe tbody tr th:only-of-type {\n",
       "        vertical-align: middle;\n",
       "    }\n",
       "\n",
       "    .dataframe tbody tr th {\n",
       "        vertical-align: top;\n",
       "    }\n",
       "\n",
       "    .dataframe thead th {\n",
       "        text-align: right;\n",
       "    }\n",
       "</style>\n",
       "<table border=\"1\" class=\"dataframe\">\n",
       "  <thead>\n",
       "    <tr style=\"text-align: right;\">\n",
       "      <th></th>\n",
       "      <th>4/25_9:10~10:10</th>\n",
       "      <th>4/25_10:10~11:10</th>\n",
       "      <th>4/25_11:10~12:10</th>\n",
       "      <th>4/25_12:10~13:10</th>\n",
       "      <th>4/25_13:10~14:10</th>\n",
       "      <th>4/25_14:10~15:20</th>\n",
       "      <th>4/25_15:20~16:20</th>\n",
       "      <th>4/25_16:20~18:00</th>\n",
       "      <th>Unnamed: 8</th>\n",
       "    </tr>\n",
       "  </thead>\n",
       "  <tbody>\n",
       "    <tr>\n",
       "      <th>0</th>\n",
       "      <td>潘玉蔚</td>\n",
       "      <td>吳彩葳</td>\n",
       "      <td>許婉柔</td>\n",
       "      <td>蔡福婷</td>\n",
       "      <td>蘇惠妤</td>\n",
       "      <td>蘇惠妤</td>\n",
       "      <td>蘇惠妤</td>\n",
       "      <td>范純?</td>\n",
       "      <td>NaN</td>\n",
       "    </tr>\n",
       "    <tr>\n",
       "      <th>1</th>\n",
       "      <td>周如茵</td>\n",
       "      <td>黃珮涵</td>\n",
       "      <td>黃珮涵</td>\n",
       "      <td>程安妮</td>\n",
       "      <td>程安妮</td>\n",
       "      <td>歐銘政</td>\n",
       "      <td>儲詠潔</td>\n",
       "      <td>蔡福婷</td>\n",
       "      <td>NaN</td>\n",
       "    </tr>\n",
       "    <tr>\n",
       "      <th>2</th>\n",
       "      <td>董淤淤</td>\n",
       "      <td>董淤淤</td>\n",
       "      <td>董淤淤</td>\n",
       "      <td>范與晨</td>\n",
       "      <td>范與晨</td>\n",
       "      <td>黃知离</td>\n",
       "      <td>張令昌</td>\n",
       "      <td>張令昌</td>\n",
       "      <td>NaN</td>\n",
       "    </tr>\n",
       "    <tr>\n",
       "      <th>3</th>\n",
       "      <td>顏兆霆</td>\n",
       "      <td>葉彩雲</td>\n",
       "      <td>葉彩雲</td>\n",
       "      <td>陳品瑜</td>\n",
       "      <td>陳品瑜</td>\n",
       "      <td>陳品瑜</td>\n",
       "      <td>蔡福婷</td>\n",
       "      <td>葉欲祥</td>\n",
       "      <td>NaN</td>\n",
       "    </tr>\n",
       "    <tr>\n",
       "      <th>4</th>\n",
       "      <td>周宸妤</td>\n",
       "      <td>周宸妤</td>\n",
       "      <td>周宸妤</td>\n",
       "      <td>謝艾倫</td>\n",
       "      <td>湯喻?</td>\n",
       "      <td>葉欲祥</td>\n",
       "      <td>鄭燕慧</td>\n",
       "      <td>黃知离</td>\n",
       "      <td>NaN</td>\n",
       "    </tr>\n",
       "  </tbody>\n",
       "</table>\n",
       "</div>"
      ],
      "text/plain": [
       "  4/25_9:10~10:10 4/25_10:10~11:10 4/25_11:10~12:10 4/25_12:10~13:10  \\\n",
       "0             潘玉蔚              吳彩葳              許婉柔              蔡福婷   \n",
       "1             周如茵              黃珮涵              黃珮涵              程安妮   \n",
       "2             董淤淤              董淤淤              董淤淤              范與晨   \n",
       "3             顏兆霆              葉彩雲              葉彩雲              陳品瑜   \n",
       "4             周宸妤              周宸妤              周宸妤              謝艾倫   \n",
       "\n",
       "  4/25_13:10~14:10 4/25_14:10~15:20 4/25_15:20~16:20 4/25_16:20~18:00  \\\n",
       "0              蘇惠妤              蘇惠妤              蘇惠妤              范純?   \n",
       "1              程安妮              歐銘政             儲詠潔               蔡福婷   \n",
       "2              范與晨              黃知离              張令昌              張令昌   \n",
       "3              陳品瑜              陳品瑜              蔡福婷              葉欲祥   \n",
       "4              湯喻?              葉欲祥              鄭燕慧              黃知离   \n",
       "\n",
       "   Unnamed: 8  \n",
       "0         NaN  \n",
       "1         NaN  \n",
       "2         NaN  \n",
       "3         NaN  \n",
       "4         NaN  "
      ]
     },
     "execution_count": 2,
     "metadata": {},
     "output_type": "execute_result"
    }
   ],
   "source": [
    "#輸出班表\n",
    "import pandas as pd\n",
    "\n",
    "## 讓pd讀檔並切換語言參數\n",
    "schedule1 = pd.read_csv(\"WMF_employees_schdule0425.csv\",encoding = \"Big5\")\n",
    "schedule1.head() #test"
   ]
  },
  {
   "cell_type": "code",
   "execution_count": 6,
   "id": "9eb42e3e",
   "metadata": {
    "scrolled": true
   },
   "outputs": [],
   "source": [
    "# make a list of time\n",
    "Mon1_people = list(schedule1['4/25_9:10~10:10']) \n",
    "Mon2_people = list(schedule1['4/25_10:10~11:10']) \n",
    "Mon3_people = list(schedule1['4/25_11:10~12:10']) \n",
    "Mon4_people = list(schedule1['4/25_12:10~13:10']) \n",
    "Mon5_people = list(schedule1['4/25_13:10~14:10']) \n",
    "Mon6_people = list(schedule1['4/25_14:10~15:20']) \n",
    "Mon7_people = list(schedule1['4/25_15:20~16:20']) \n",
    "Mon8_people = list(schedule1['4/25_16:20~18:00'])"
   ]
  },
  {
   "cell_type": "code",
   "execution_count": 14,
   "id": "b841e873",
   "metadata": {},
   "outputs": [
    {
     "name": "stdout",
     "output_type": "stream",
     "text": [
      "['潘玉蔚', '周如茵', '董淤淤', '顏兆霆', '周宸妤', '徐詩婷', '邱致瑋', '陳品瑜', '許雅淳', '謝艾倫', '林義家', '葉彩雲']\n"
     ]
    }
   ],
   "source": [
    "# test the material\n",
    "print(Mon1_people)"
   ]
  },
  {
   "cell_type": "code",
   "execution_count": 15,
   "id": "072561fa",
   "metadata": {},
   "outputs": [],
   "source": [
    "s1=set(Mon1_people)\n",
    "s2=set(Mon2_people)\n",
    "s3=set(Mon3_people)\n",
    "s4=set(Mon4_people)\n",
    "s5=set(Mon5_people)\n",
    "s6=set(Mon6_people)\n",
    "s7=set(Mon7_people)\n",
    "s8=set(Mon8_people)"
   ]
  },
  {
   "cell_type": "code",
   "execution_count": 16,
   "id": "7442b781",
   "metadata": {},
   "outputs": [],
   "source": [
    "sALL=set(s1.union(s2))"
   ]
  },
  {
   "cell_type": "code",
   "execution_count": 9,
   "id": "8fdca705",
   "metadata": {},
   "outputs": [
    {
     "name": "stdout",
     "output_type": "stream",
     "text": [
      "{'潘玉蔚', '顏兆霆', '陳品瑜', '周宸妤', '葉彩雲', '謝艾倫', '周如茵', '許雅淳', '邱致瑋', '林義家', '董淤淤', '徐詩婷'}\n"
     ]
    }
   ],
   "source": [
    "# test the material\n",
    "print(s1)"
   ]
  },
  {
   "cell_type": "code",
   "execution_count": 10,
   "id": "4d6f384c",
   "metadata": {},
   "outputs": [
    {
     "name": "stdout",
     "output_type": "stream",
     "text": [
      "星期一 9:10~11:10 都在的人\n",
      "{'周宸妤', '葉彩雲', '林義家', '董淤淤', '徐詩婷'}\n"
     ]
    }
   ],
   "source": [
    "#星期一 9:10~11:10 都在有顧攤的人-交集\n",
    "print('星期一 9:10~11:10 都在的人')\n",
    "print(s1&s2)"
   ]
  },
  {
   "cell_type": "code",
   "execution_count": 12,
   "id": "2186308f",
   "metadata": {},
   "outputs": [
    {
     "name": "stdout",
     "output_type": "stream",
     "text": [
      "星期一 9:10~11:10 有在的人\n",
      "{'潘玉蔚', '顏兆霆', '陳品瑜', '陳諳星', '黃珮涵', '何芳雯', '許雅淳', '邱致瑋', '林義家', '吳彩葳', '董淤淤', '范純?', '許婉柔', '周宸妤', '葉彩雲', '謝艾倫', '周如茵', '葉欲祥', '徐詩婷'}\n"
     ]
    }
   ],
   "source": [
    "#星期一 9:10~11:10 在有顧攤的人-聯集\n",
    "print('星期一 9:10~11:10 有在的人')\n",
    "print(s1.union(s2))   "
   ]
  },
  {
   "cell_type": "code",
   "execution_count": null,
   "id": "0f4c71d1",
   "metadata": {},
   "outputs": [],
   "source": [
    "#星期一所有顧攤的人中,只有9:10~10:10在顧攤-差集\n",
    "print('星期一只有9:10~10:10在')\n",
    "print(list_1.difference(list_2)) )"
   ]
  },
  {
   "cell_type": "code",
   "execution_count": null,
   "id": "f35de5d1",
   "metadata": {},
   "outputs": [],
   "source": [
    "#星期一 9:10~11:10中,9:10~10:10或10:10~11:10顧攤的人-對稱差集"
   ]
  },
  {
   "cell_type": "raw",
   "id": "fba27198",
   "metadata": {},
   "source": []
  },
  {
   "cell_type": "code",
   "execution_count": 31,
   "id": "fc20f55a",
   "metadata": {},
   "outputs": [
    {
     "name": "stdout",
     "output_type": "stream",
     "text": [
      "修課學生數: 50\n",
      "出席學生數: 46\n"
     ]
    }
   ],
   "source": [
    "#這裡以下和前面無關(純紀錄\n",
    "#列出應到與實到人數\n",
    "\n",
    "allstudent = list(Basic_design['姓名'])\n",
    "attendance = list(Basic_design['3'])\n",
    "item = \"Y\"\n",
    "attend = attendance.count(item)\n",
    "print(\"修課學生數:\", len(allstudent))\n",
    "print(\"出席學生數:\", attend)"
   ]
  },
  {
   "cell_type": "code",
   "execution_count": 20,
   "id": "b4549669",
   "metadata": {},
   "outputs": [
    {
     "name": "stdout",
     "output_type": "stream",
     "text": [
      "請輸入名字： 簡珮軒\n"
     ]
    },
    {
     "ename": "NameError",
     "evalue": "name 'allstudent' is not defined",
     "output_type": "error",
     "traceback": [
      "\u001b[1;31m---------------------------------------------------------------------------\u001b[0m",
      "\u001b[1;31mNameError\u001b[0m                                 Traceback (most recent call last)",
      "Input \u001b[1;32mIn [20]\u001b[0m, in \u001b[0;36m<cell line: 4>\u001b[1;34m()\u001b[0m\n\u001b[0;32m      1\u001b[0m \u001b[38;5;66;03m#檢查自己到底有沒有被點報名\u001b[39;00m\n\u001b[0;32m      2\u001b[0m student \u001b[38;5;241m=\u001b[39m \u001b[38;5;28minput\u001b[39m(\u001b[38;5;124m\"\u001b[39m\u001b[38;5;124m請輸入名字： \u001b[39m\u001b[38;5;124m\"\u001b[39m)\n\u001b[1;32m----> 4\u001b[0m \u001b[38;5;28;01mif\u001b[39;00m student \u001b[38;5;129;01min\u001b[39;00m \u001b[43mallstudent\u001b[49m \u001b[38;5;129;01mand\u001b[39;00m \u001b[38;5;124m\"\u001b[39m\u001b[38;5;124mY\u001b[39m\u001b[38;5;124m\"\u001b[39m:\n\u001b[0;32m      5\u001b[0m         \u001b[38;5;28mprint\u001b[39m(\u001b[38;5;124m\"\u001b[39m\u001b[38;5;124m有到\u001b[39m\u001b[38;5;124m\"\u001b[39m)\n\u001b[0;32m      7\u001b[0m \u001b[38;5;28;01melif\u001b[39;00m student \u001b[38;5;129;01min\u001b[39;00m allstudent \u001b[38;5;129;01mand\u001b[39;00m \u001b[38;5;124m\"\u001b[39m\u001b[38;5;124m\"\u001b[39m:\n",
      "\u001b[1;31mNameError\u001b[0m: name 'allstudent' is not defined"
     ]
    }
   ],
   "source": [
    "#檢查自己到底有沒有被點報名\n",
    "student = input(\"請輸入名字： \")\n",
    "\n",
    "if student in allstudent and \"Y\":\n",
    "        print(\"有到\")\n",
    "        \n",
    "elif student in allstudent and \"\":\n",
    "        print(\"未到\")\n",
    "        \n",
    "else:\n",
    "        print(\"這個人是誰啊~~~???\")"
   ]
  },
  {
   "cell_type": "code",
   "execution_count": null,
   "id": "8e6a8086",
   "metadata": {},
   "outputs": [],
   "source": []
  },
  {
   "cell_type": "code",
   "execution_count": 10,
   "id": "ab163616",
   "metadata": {},
   "outputs": [],
   "source": [
    "Mon1_people = list(schedule1['4/25（一）9:10~10:10（含場佈）']) \n",
    "Mon2_people = list(schedule1['4/25（一）10:10~11:10']) \n",
    "Mon3_people = list(schedule1['4/25（一）13:10~14:10']) \n",
    "Mon4_people = list(schedule1['4/25（一）14:10~15:20']) \n",
    "Mon5_people = list(schedule1['4/25（一）15:20~16:20']) \n",
    "Mon6_people = list(schedule1['4/25（一）16:20~18:00（含場復檢討）']) "
   ]
  },
  {
   "cell_type": "code",
   "execution_count": 9,
   "id": "49b618c7",
   "metadata": {},
   "outputs": [
    {
     "ename": "SyntaxError",
     "evalue": "Missing parentheses in call to 'print'. Did you mean print(allstudent[x])? (2827784424.py, line 2)",
     "output_type": "error",
     "traceback": [
      "\u001b[1;36m  Input \u001b[1;32mIn [9]\u001b[1;36m\u001b[0m\n\u001b[1;33m    print allstudent[x]\u001b[0m\n\u001b[1;37m          ^\u001b[0m\n\u001b[1;31mSyntaxError\u001b[0m\u001b[1;31m:\u001b[0m Missing parentheses in call to 'print'. Did you mean print(allstudent[x])?\n"
     ]
    }
   ],
   "source": [
    "for x in range(len(allstudent)):\n",
    "    print allstudent[x]"
   ]
  }
 ],
 "metadata": {
  "kernelspec": {
   "display_name": "Python 3 (ipykernel)",
   "language": "python",
   "name": "python3"
  },
  "language_info": {
   "codemirror_mode": {
    "name": "ipython",
    "version": 3
   },
   "file_extension": ".py",
   "mimetype": "text/x-python",
   "name": "python",
   "nbconvert_exporter": "python",
   "pygments_lexer": "ipython3",
   "version": "3.9.12"
  }
 },
 "nbformat": 4,
 "nbformat_minor": 5
}
