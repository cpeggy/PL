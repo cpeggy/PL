{
 "cells": [
  {
   "cell_type": "code",
   "execution_count": 25,
   "id": "b6733fba",
   "metadata": {
    "scrolled": true
   },
   "outputs": [
    {
     "data": {
      "text/plain": [
       "{'encoding': 'ISO-8859-1', 'confidence': 0.7117680872150645, 'language': ''}"
      ]
     },
     "execution_count": 25,
     "metadata": {},
     "output_type": "execute_result"
    }
   ],
   "source": [
    "# 由於csv檔內有python無法讀出之語言UFT-8\n",
    "#先界定檔案所使用之語言\n",
    "import chardet\n",
    "with open(\"WMF_employees_schdule.csv\", 'rb') as rawdata:\n",
    "    result = chardet.detect(rawdata.read(100000))\n",
    "result "
   ]
  },
  {
   "cell_type": "code",
   "execution_count": 28,
   "id": "d0908bd9",
   "metadata": {},
   "outputs": [
    {
     "data": {
      "text/html": [
       "<div>\n",
       "<style scoped>\n",
       "    .dataframe tbody tr th:only-of-type {\n",
       "        vertical-align: middle;\n",
       "    }\n",
       "\n",
       "    .dataframe tbody tr th {\n",
       "        vertical-align: top;\n",
       "    }\n",
       "\n",
       "    .dataframe thead th {\n",
       "        text-align: right;\n",
       "    }\n",
       "</style>\n",
       "<table border=\"1\" class=\"dataframe\">\n",
       "  <thead>\n",
       "    <tr style=\"text-align: right;\">\n",
       "      <th></th>\n",
       "      <th>排班時間調查表</th>\n",
       "      <th>4/25（一）</th>\n",
       "      <th>4/25（一）.1</th>\n",
       "      <th>4/25（一）.2</th>\n",
       "      <th>4/25（一）.3</th>\n",
       "      <th>4/25（一）.4</th>\n",
       "      <th>4/25（一）.5</th>\n",
       "      <th>4/25（一）.6</th>\n",
       "      <th>4/25（一）.7</th>\n",
       "      <th>4/26（二）</th>\n",
       "      <th>...</th>\n",
       "      <th>4/28（四）.7</th>\n",
       "      <th>4/29（五）</th>\n",
       "      <th>4/29（五）.1</th>\n",
       "      <th>4/29（五）.2</th>\n",
       "      <th>4/29（五）.3</th>\n",
       "      <th>4/29（五）.4</th>\n",
       "      <th>4/29（五）.5</th>\n",
       "      <th>4/29（五）.6</th>\n",
       "      <th>4/29（五）.7</th>\n",
       "      <th>總計</th>\n",
       "    </tr>\n",
       "  </thead>\n",
       "  <tbody>\n",
       "    <tr>\n",
       "      <th>序</th>\n",
       "      <td>姓名</td>\n",
       "      <td>9:10~10:10（含場佈）</td>\n",
       "      <td>10:10~11:10</td>\n",
       "      <td>11:10~12:10</td>\n",
       "      <td>12:10~13:10</td>\n",
       "      <td>13:10~14:10</td>\n",
       "      <td>14:10~15:20</td>\n",
       "      <td>15:20~16:20</td>\n",
       "      <td>16:20~18:00（含場復檢討）</td>\n",
       "      <td>9:10~10:10（含場佈）</td>\n",
       "      <td>...</td>\n",
       "      <td>16:20~18:00（含場復檢討）</td>\n",
       "      <td>9:10~10:10（含場佈）</td>\n",
       "      <td>10:10-11:10</td>\n",
       "      <td>11:10~12:10</td>\n",
       "      <td>12:10~13:10</td>\n",
       "      <td>13:10~14:10</td>\n",
       "      <td>14:10~15:20</td>\n",
       "      <td>15:20~16:20</td>\n",
       "      <td>16:20~18:00（含場復檢討）</td>\n",
       "      <td>NaN</td>\n",
       "    </tr>\n",
       "    <tr>\n",
       "      <th>1</th>\n",
       "      <td>張令昌</td>\n",
       "      <td>TRUE</td>\n",
       "      <td>FALSE</td>\n",
       "      <td>FALSE</td>\n",
       "      <td>TRUE</td>\n",
       "      <td>FALSE</td>\n",
       "      <td>FALSE</td>\n",
       "      <td>TRUE</td>\n",
       "      <td>TRUE</td>\n",
       "      <td>TRUE</td>\n",
       "      <td>...</td>\n",
       "      <td>TRUE</td>\n",
       "      <td>TRUE</td>\n",
       "      <td>FALSE</td>\n",
       "      <td>FALSE</td>\n",
       "      <td>TRUE</td>\n",
       "      <td>FALSE</td>\n",
       "      <td>FALSE</td>\n",
       "      <td>FALSE</td>\n",
       "      <td>FALSE</td>\n",
       "      <td>20.0</td>\n",
       "    </tr>\n",
       "    <tr>\n",
       "      <th>2</th>\n",
       "      <td>儲詠潔</td>\n",
       "      <td>FALSE</td>\n",
       "      <td>FALSE</td>\n",
       "      <td>FALSE</td>\n",
       "      <td>TRUE</td>\n",
       "      <td>FALSE</td>\n",
       "      <td>FALSE</td>\n",
       "      <td>TRUE</td>\n",
       "      <td>FALSE</td>\n",
       "      <td>TRUE</td>\n",
       "      <td>...</td>\n",
       "      <td>FALSE</td>\n",
       "      <td>FALSE</td>\n",
       "      <td>TRUE</td>\n",
       "      <td>TRUE</td>\n",
       "      <td>TRUE</td>\n",
       "      <td>TRUE</td>\n",
       "      <td>TRUE</td>\n",
       "      <td>TRUE</td>\n",
       "      <td>FALSE</td>\n",
       "      <td>15.0</td>\n",
       "    </tr>\n",
       "    <tr>\n",
       "      <th>3</th>\n",
       "      <td>蘇彥寧</td>\n",
       "      <td>TRUE</td>\n",
       "      <td>TRUE</td>\n",
       "      <td>FALSE</td>\n",
       "      <td>FALSE</td>\n",
       "      <td>FALSE</td>\n",
       "      <td>FALSE</td>\n",
       "      <td>FALSE</td>\n",
       "      <td>FALSE</td>\n",
       "      <td>TRUE</td>\n",
       "      <td>...</td>\n",
       "      <td>FALSE</td>\n",
       "      <td>TRUE</td>\n",
       "      <td>FALSE</td>\n",
       "      <td>FALSE</td>\n",
       "      <td>FALSE</td>\n",
       "      <td>FALSE</td>\n",
       "      <td>FALSE</td>\n",
       "      <td>FALSE</td>\n",
       "      <td>FALSE</td>\n",
       "      <td>10.0</td>\n",
       "    </tr>\n",
       "    <tr>\n",
       "      <th>4</th>\n",
       "      <td>邱致瑋</td>\n",
       "      <td>TRUE</td>\n",
       "      <td>FALSE</td>\n",
       "      <td>FALSE</td>\n",
       "      <td>FALSE</td>\n",
       "      <td>FALSE</td>\n",
       "      <td>FALSE</td>\n",
       "      <td>FALSE</td>\n",
       "      <td>FALSE</td>\n",
       "      <td>FALSE</td>\n",
       "      <td>...</td>\n",
       "      <td>FALSE</td>\n",
       "      <td>FALSE</td>\n",
       "      <td>FALSE</td>\n",
       "      <td>FALSE</td>\n",
       "      <td>TRUE</td>\n",
       "      <td>TRUE</td>\n",
       "      <td>TRUE</td>\n",
       "      <td>TRUE</td>\n",
       "      <td>FALSE</td>\n",
       "      <td>13.0</td>\n",
       "    </tr>\n",
       "  </tbody>\n",
       "</table>\n",
       "<p>5 rows × 42 columns</p>\n",
       "</div>"
      ],
      "text/plain": [
       "  排班時間調查表          4/25（一）    4/25（一）.1    4/25（一）.2    4/25（一）.3  \\\n",
       "序      姓名  9:10~10:10（含場佈）  10:10~11:10  11:10~12:10  12:10~13:10   \n",
       "1     張令昌             TRUE        FALSE        FALSE         TRUE   \n",
       "2     儲詠潔            FALSE        FALSE        FALSE         TRUE   \n",
       "3     蘇彥寧             TRUE         TRUE        FALSE        FALSE   \n",
       "4     邱致瑋             TRUE        FALSE        FALSE        FALSE   \n",
       "\n",
       "     4/25（一）.4    4/25（一）.5    4/25（一）.6           4/25（一）.7          4/26（二）  \\\n",
       "序  13:10~14:10  14:10~15:20  15:20~16:20  16:20~18:00（含場復檢討）  9:10~10:10（含場佈）   \n",
       "1        FALSE        FALSE         TRUE                TRUE             TRUE   \n",
       "2        FALSE        FALSE         TRUE               FALSE             TRUE   \n",
       "3        FALSE        FALSE        FALSE               FALSE             TRUE   \n",
       "4        FALSE        FALSE        FALSE               FALSE            FALSE   \n",
       "\n",
       "   ...           4/28（四）.7          4/29（五）    4/29（五）.1    4/29（五）.2  \\\n",
       "序  ...  16:20~18:00（含場復檢討）  9:10~10:10（含場佈）  10:10-11:10  11:10~12:10   \n",
       "1  ...                TRUE             TRUE        FALSE        FALSE   \n",
       "2  ...               FALSE            FALSE         TRUE         TRUE   \n",
       "3  ...               FALSE             TRUE        FALSE        FALSE   \n",
       "4  ...               FALSE            FALSE        FALSE        FALSE   \n",
       "\n",
       "     4/29（五）.3    4/29（五）.4    4/29（五）.5    4/29（五）.6           4/29（五）.7  \\\n",
       "序  12:10~13:10  13:10~14:10  14:10~15:20  15:20~16:20  16:20~18:00（含場復檢討）   \n",
       "1         TRUE        FALSE        FALSE        FALSE               FALSE   \n",
       "2         TRUE         TRUE         TRUE         TRUE               FALSE   \n",
       "3        FALSE        FALSE        FALSE        FALSE               FALSE   \n",
       "4         TRUE         TRUE         TRUE         TRUE               FALSE   \n",
       "\n",
       "     總計  \n",
       "序   NaN  \n",
       "1  20.0  \n",
       "2  15.0  \n",
       "3  10.0  \n",
       "4  13.0  \n",
       "\n",
       "[5 rows x 42 columns]"
      ]
     },
     "execution_count": 28,
     "metadata": {},
     "output_type": "execute_result"
    }
   ],
   "source": [
    "#輸出班表\n",
    "import pandas as pd\n",
    "\n",
    "## 讓pd讀檔並切換語言參數\n",
    "schedule1 = pd.read_csv(\"WMF_employees_schdule.csv\",encoding = \"Big5\")\n",
    "schedule1.head() #test"
   ]
  },
  {
   "cell_type": "code",
   "execution_count": 31,
   "id": "51a4745c",
   "metadata": {},
   "outputs": [
    {
     "ename": "SyntaxError",
     "evalue": "unexpected EOF while parsing (511212263.py, line 1)",
     "output_type": "error",
     "traceback": [
      "\u001b[1;36m  Input \u001b[1;32mIn [31]\u001b[1;36m\u001b[0m\n\u001b[1;33m    schedule1[ schedule1[\"4/25（一）\"] == \"TRUE\"\u001b[0m\n\u001b[1;37m                                             ^\u001b[0m\n\u001b[1;31mSyntaxError\u001b[0m\u001b[1;31m:\u001b[0m unexpected EOF while parsing\n"
     ]
    }
   ],
   "source": [
    "schedule1[ schedule1[\"4/25（一）\"] == \"TRUE\""
   ]
  },
  {
   "cell_type": "code",
   "execution_count": 31,
   "id": "fc20f55a",
   "metadata": {},
   "outputs": [
    {
     "name": "stdout",
     "output_type": "stream",
     "text": [
      "修課學生數: 50\n",
      "出席學生數: 46\n"
     ]
    }
   ],
   "source": [
    "#列出應到與實到人數\n",
    "\n",
    "allstudent = list(Basic_design['姓名'])\n",
    "attendance = list(Basic_design['3'])\n",
    "item = \"Y\"\n",
    "attend = attendance.count(item)\n",
    "print(\"修課學生數:\", len(allstudent))\n",
    "print(\"出席學生數:\", attend)"
   ]
  },
  {
   "cell_type": "code",
   "execution_count": 20,
   "id": "b4549669",
   "metadata": {},
   "outputs": [
    {
     "name": "stdout",
     "output_type": "stream",
     "text": [
      "請輸入名字： 簡珮軒\n"
     ]
    },
    {
     "ename": "NameError",
     "evalue": "name 'allstudent' is not defined",
     "output_type": "error",
     "traceback": [
      "\u001b[1;31m---------------------------------------------------------------------------\u001b[0m",
      "\u001b[1;31mNameError\u001b[0m                                 Traceback (most recent call last)",
      "Input \u001b[1;32mIn [20]\u001b[0m, in \u001b[0;36m<cell line: 4>\u001b[1;34m()\u001b[0m\n\u001b[0;32m      1\u001b[0m \u001b[38;5;66;03m#檢查自己到底有沒有被點報名\u001b[39;00m\n\u001b[0;32m      2\u001b[0m student \u001b[38;5;241m=\u001b[39m \u001b[38;5;28minput\u001b[39m(\u001b[38;5;124m\"\u001b[39m\u001b[38;5;124m請輸入名字： \u001b[39m\u001b[38;5;124m\"\u001b[39m)\n\u001b[1;32m----> 4\u001b[0m \u001b[38;5;28;01mif\u001b[39;00m student \u001b[38;5;129;01min\u001b[39;00m \u001b[43mallstudent\u001b[49m \u001b[38;5;129;01mand\u001b[39;00m \u001b[38;5;124m\"\u001b[39m\u001b[38;5;124mY\u001b[39m\u001b[38;5;124m\"\u001b[39m:\n\u001b[0;32m      5\u001b[0m         \u001b[38;5;28mprint\u001b[39m(\u001b[38;5;124m\"\u001b[39m\u001b[38;5;124m有到\u001b[39m\u001b[38;5;124m\"\u001b[39m)\n\u001b[0;32m      7\u001b[0m \u001b[38;5;28;01melif\u001b[39;00m student \u001b[38;5;129;01min\u001b[39;00m allstudent \u001b[38;5;129;01mand\u001b[39;00m \u001b[38;5;124m\"\u001b[39m\u001b[38;5;124m\"\u001b[39m:\n",
      "\u001b[1;31mNameError\u001b[0m: name 'allstudent' is not defined"
     ]
    }
   ],
   "source": [
    "#檢查自己到底有沒有被點報名\n",
    "student = input(\"請輸入名字： \")\n",
    "\n",
    "if student in allstudent and \"Y\":\n",
    "        print(\"有到\")\n",
    "        \n",
    "elif student in allstudent and \"\":\n",
    "        print(\"未到\")\n",
    "        \n",
    "else:\n",
    "        print(\"這個人是誰啊~~~???\")"
   ]
  },
  {
   "cell_type": "raw",
   "id": "3401dc2b",
   "metadata": {},
   "source": []
  },
  {
   "cell_type": "code",
   "execution_count": null,
   "id": "45ed4a94",
   "metadata": {},
   "outputs": [],
   "source": []
  },
  {
   "cell_type": "code",
   "execution_count": 9,
   "id": "49b618c7",
   "metadata": {},
   "outputs": [
    {
     "ename": "SyntaxError",
     "evalue": "Missing parentheses in call to 'print'. Did you mean print(allstudent[x])? (2827784424.py, line 2)",
     "output_type": "error",
     "traceback": [
      "\u001b[1;36m  Input \u001b[1;32mIn [9]\u001b[1;36m\u001b[0m\n\u001b[1;33m    print allstudent[x]\u001b[0m\n\u001b[1;37m          ^\u001b[0m\n\u001b[1;31mSyntaxError\u001b[0m\u001b[1;31m:\u001b[0m Missing parentheses in call to 'print'. Did you mean print(allstudent[x])?\n"
     ]
    }
   ],
   "source": [
    "for x in range(len(allstudent)):\n",
    "    print allstudent[x]"
   ]
  }
 ],
 "metadata": {
  "kernelspec": {
   "display_name": "Python 3 (ipykernel)",
   "language": "python",
   "name": "python3"
  },
  "language_info": {
   "codemirror_mode": {
    "name": "ipython",
    "version": 3
   },
   "file_extension": ".py",
   "mimetype": "text/x-python",
   "name": "python",
   "nbconvert_exporter": "python",
   "pygments_lexer": "ipython3",
   "version": "3.9.12"
  }
 },
 "nbformat": 4,
 "nbformat_minor": 5
}
