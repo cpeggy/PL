{
 "cells": [
  {
   "cell_type": "code",
   "execution_count": 1,
   "id": "b6733fba",
   "metadata": {
    "scrolled": true
   },
   "outputs": [
    {
     "data": {
      "text/plain": [
       "{'encoding': 'ISO-8859-1', 'confidence': 0.42197836166924263, 'language': ''}"
      ]
     },
     "execution_count": 1,
     "metadata": {},
     "output_type": "execute_result"
    }
   ],
   "source": [
    "# 由於csv檔內有python無法讀出之語言UFT-8\n",
    "#先界定檔案所使用之語言\n",
    "import chardet\n",
    "with open(\"WMF_employees_schdule0425.csv\", 'rb') as rawdata:\n",
    "    result = chardet.detect(rawdata.read(100000))\n",
    "result "
   ]
  },
  {
   "cell_type": "code",
   "execution_count": 2,
   "id": "d0908bd9",
   "metadata": {},
   "outputs": [
    {
     "data": {
      "text/html": [
       "<div>\n",
       "<style scoped>\n",
       "    .dataframe tbody tr th:only-of-type {\n",
       "        vertical-align: middle;\n",
       "    }\n",
       "\n",
       "    .dataframe tbody tr th {\n",
       "        vertical-align: top;\n",
       "    }\n",
       "\n",
       "    .dataframe thead th {\n",
       "        text-align: right;\n",
       "    }\n",
       "</style>\n",
       "<table border=\"1\" class=\"dataframe\">\n",
       "  <thead>\n",
       "    <tr style=\"text-align: right;\">\n",
       "      <th></th>\n",
       "      <th>4/25_9:10~10:10</th>\n",
       "      <th>4/25_10:10~11:10</th>\n",
       "      <th>4/25_11:10~12:10</th>\n",
       "      <th>4/25_12:10~13:10</th>\n",
       "      <th>4/25_13:10~14:10</th>\n",
       "      <th>4/25_14:10~15:20</th>\n",
       "      <th>4/25_15:20~16:20</th>\n",
       "      <th>4/25_16:20~18:00</th>\n",
       "      <th>Unnamed: 8</th>\n",
       "    </tr>\n",
       "  </thead>\n",
       "  <tbody>\n",
       "    <tr>\n",
       "      <th>0</th>\n",
       "      <td>潘玉蔚</td>\n",
       "      <td>吳彩葳</td>\n",
       "      <td>許婉柔</td>\n",
       "      <td>蔡福婷</td>\n",
       "      <td>蘇惠妤</td>\n",
       "      <td>蘇惠妤</td>\n",
       "      <td>蘇惠妤</td>\n",
       "      <td>范純?</td>\n",
       "      <td>NaN</td>\n",
       "    </tr>\n",
       "    <tr>\n",
       "      <th>1</th>\n",
       "      <td>周如茵</td>\n",
       "      <td>黃珮涵</td>\n",
       "      <td>黃珮涵</td>\n",
       "      <td>程安妮</td>\n",
       "      <td>程安妮</td>\n",
       "      <td>歐銘政</td>\n",
       "      <td>儲詠潔</td>\n",
       "      <td>蔡福婷</td>\n",
       "      <td>NaN</td>\n",
       "    </tr>\n",
       "    <tr>\n",
       "      <th>2</th>\n",
       "      <td>董淤淤</td>\n",
       "      <td>董淤淤</td>\n",
       "      <td>董淤淤</td>\n",
       "      <td>范與晨</td>\n",
       "      <td>范與晨</td>\n",
       "      <td>黃知离</td>\n",
       "      <td>張令昌</td>\n",
       "      <td>張令昌</td>\n",
       "      <td>NaN</td>\n",
       "    </tr>\n",
       "    <tr>\n",
       "      <th>3</th>\n",
       "      <td>顏兆霆</td>\n",
       "      <td>葉彩雲</td>\n",
       "      <td>葉彩雲</td>\n",
       "      <td>陳品瑜</td>\n",
       "      <td>陳品瑜</td>\n",
       "      <td>陳品瑜</td>\n",
       "      <td>蔡福婷</td>\n",
       "      <td>葉欲祥</td>\n",
       "      <td>NaN</td>\n",
       "    </tr>\n",
       "    <tr>\n",
       "      <th>4</th>\n",
       "      <td>周宸妤</td>\n",
       "      <td>周宸妤</td>\n",
       "      <td>周宸妤</td>\n",
       "      <td>謝艾倫</td>\n",
       "      <td>湯喻?</td>\n",
       "      <td>葉欲祥</td>\n",
       "      <td>鄭燕慧</td>\n",
       "      <td>黃知离</td>\n",
       "      <td>NaN</td>\n",
       "    </tr>\n",
       "  </tbody>\n",
       "</table>\n",
       "</div>"
      ],
      "text/plain": [
       "  4/25_9:10~10:10 4/25_10:10~11:10 4/25_11:10~12:10 4/25_12:10~13:10  \\\n",
       "0             潘玉蔚              吳彩葳              許婉柔              蔡福婷   \n",
       "1             周如茵              黃珮涵              黃珮涵              程安妮   \n",
       "2             董淤淤              董淤淤              董淤淤              范與晨   \n",
       "3             顏兆霆              葉彩雲              葉彩雲              陳品瑜   \n",
       "4             周宸妤              周宸妤              周宸妤              謝艾倫   \n",
       "\n",
       "  4/25_13:10~14:10 4/25_14:10~15:20 4/25_15:20~16:20 4/25_16:20~18:00  \\\n",
       "0              蘇惠妤              蘇惠妤              蘇惠妤              范純?   \n",
       "1              程安妮              歐銘政             儲詠潔               蔡福婷   \n",
       "2              范與晨              黃知离              張令昌              張令昌   \n",
       "3              陳品瑜              陳品瑜              蔡福婷              葉欲祥   \n",
       "4              湯喻?              葉欲祥              鄭燕慧              黃知离   \n",
       "\n",
       "   Unnamed: 8  \n",
       "0         NaN  \n",
       "1         NaN  \n",
       "2         NaN  \n",
       "3         NaN  \n",
       "4         NaN  "
      ]
     },
     "execution_count": 2,
     "metadata": {},
     "output_type": "execute_result"
    }
   ],
   "source": [
    "#輸出班表\n",
    "import pandas as pd\n",
    "\n",
    "## 讓pd讀檔並切換語言參數\n",
    "schedule1 = pd.read_csv(\"WMF_employees_schdule0425.csv\",encoding = \"Big5\")\n",
    "schedule1.head() #test"
   ]
  },
  {
   "cell_type": "code",
   "execution_count": 3,
   "id": "b2dc82f7",
   "metadata": {},
   "outputs": [
    {
     "data": {
      "text/html": [
       "<div>\n",
       "<style scoped>\n",
       "    .dataframe tbody tr th:only-of-type {\n",
       "        vertical-align: middle;\n",
       "    }\n",
       "\n",
       "    .dataframe tbody tr th {\n",
       "        vertical-align: top;\n",
       "    }\n",
       "\n",
       "    .dataframe thead th {\n",
       "        text-align: right;\n",
       "    }\n",
       "</style>\n",
       "<table border=\"1\" class=\"dataframe\">\n",
       "  <thead>\n",
       "    <tr style=\"text-align: right;\">\n",
       "      <th></th>\n",
       "      <th>姓名</th>\n",
       "    </tr>\n",
       "  </thead>\n",
       "  <tbody>\n",
       "    <tr>\n",
       "      <th>0</th>\n",
       "      <td>張令昌</td>\n",
       "    </tr>\n",
       "    <tr>\n",
       "      <th>1</th>\n",
       "      <td>儲詠潔</td>\n",
       "    </tr>\n",
       "    <tr>\n",
       "      <th>2</th>\n",
       "      <td>蘇彥寧</td>\n",
       "    </tr>\n",
       "    <tr>\n",
       "      <th>3</th>\n",
       "      <td>邱致瑋</td>\n",
       "    </tr>\n",
       "    <tr>\n",
       "      <th>4</th>\n",
       "      <td>董淤淤</td>\n",
       "    </tr>\n",
       "  </tbody>\n",
       "</table>\n",
       "</div>"
      ],
      "text/plain": [
       "    姓名\n",
       "0  張令昌\n",
       "1  儲詠潔\n",
       "2  蘇彥寧\n",
       "3  邱致瑋\n",
       "4  董淤淤"
      ]
     },
     "execution_count": 3,
     "metadata": {},
     "output_type": "execute_result"
    }
   ],
   "source": [
    "#輸出全部工人\n",
    "import pandas as pd\n",
    "\n",
    "## 讓pd讀檔並切換語言參數\n",
    "ALL_employees = pd.read_csv(\"WMF_AllEmployees.csv\",encoding = \"Big5\")\n",
    "ALL_employees.head() #test"
   ]
  },
  {
   "cell_type": "code",
   "execution_count": 4,
   "id": "9eb42e3e",
   "metadata": {
    "scrolled": true
   },
   "outputs": [],
   "source": [
    "# make a list of time\n",
    "Mon1_people = list(schedule1['4/25_9:10~10:10']) \n",
    "Mon2_people = list(schedule1['4/25_10:10~11:10']) \n",
    "Mon3_people = list(schedule1['4/25_11:10~12:10']) \n",
    "Mon4_people = list(schedule1['4/25_12:10~13:10']) \n",
    "Mon5_people = list(schedule1['4/25_13:10~14:10']) \n",
    "Mon6_people = list(schedule1['4/25_14:10~15:20']) \n",
    "Mon7_people = list(schedule1['4/25_15:20~16:20']) \n",
    "Mon8_people = list(schedule1['4/25_16:20~18:00'])"
   ]
  },
  {
   "cell_type": "code",
   "execution_count": 5,
   "id": "b841e873",
   "metadata": {},
   "outputs": [
    {
     "name": "stdout",
     "output_type": "stream",
     "text": [
      "['潘玉蔚', '周如茵', '董淤淤', '顏兆霆', '周宸妤', '徐詩婷', '邱致瑋', '陳品瑜', '許雅淳', '謝艾倫', '林義家', '葉彩雲']\n"
     ]
    }
   ],
   "source": [
    "# test the material\n",
    "print(Mon1_people)"
   ]
  },
  {
   "cell_type": "code",
   "execution_count": 6,
   "id": "3abc55e4",
   "metadata": {},
   "outputs": [],
   "source": [
    "# make a list of employees\n",
    "Employees = list(ALL_employees['姓名']) "
   ]
  },
  {
   "cell_type": "code",
   "execution_count": 7,
   "id": "46e1a9e9",
   "metadata": {},
   "outputs": [
    {
     "name": "stdout",
     "output_type": "stream",
     "text": [
      "['張令昌', '儲詠潔', '蘇彥寧', '邱致瑋', '董淤淤', '蘇惠妤', '陳昱銓', '歐銘政', '徐詩婷', '許雅淳', '范與晨', '周宸妤', '顏兆霆', '葉子瑜', '林義家', '葉欲祥', '陳宥汝', '程安妮', '許婉柔', '何芳雯', '葉彩雲', '趙婞雅', '周彤', '謝忠翰', '盧柔伊', '范純?', '蔡福婷', '鄭燕慧', '湯喻?', '黃知离', '周如茵', '潘玉蔚', '陳諳星', '吳彩葳', '林君騰', '黃珮涵', '黃威敏', '簡珮軒', '馮楷宸', '紀承佐', '陳品瑜', '謝艾倫']\n"
     ]
    }
   ],
   "source": [
    "# test the material\n",
    "print(Employees)"
   ]
  },
  {
   "cell_type": "code",
   "execution_count": 8,
   "id": "072561fa",
   "metadata": {},
   "outputs": [],
   "source": [
    "s1=set(Mon1_people)\n",
    "s2=set(Mon2_people)\n",
    "s3=set(Mon3_people)\n",
    "s4=set(Mon4_people)\n",
    "s5=set(Mon5_people)\n",
    "s6=set(Mon6_people)\n",
    "s7=set(Mon7_people)\n",
    "s8=set(Mon8_people)"
   ]
  },
  {
   "cell_type": "code",
   "execution_count": 9,
   "id": "7442b781",
   "metadata": {},
   "outputs": [
    {
     "name": "stdout",
     "output_type": "stream",
     "text": [
      "{'蘇惠妤', '湯喻?', '葉欲祥', '盧柔伊', '何芳雯', '董淤淤', '周如茵', '徐詩婷', '陳品瑜', '吳彩葳', '葉子瑜', '葉彩雲', '鄭燕慧', '張令昌', '林君騰', '邱致瑋', '范純?', '許婉柔', '林義家', '歐銘政', '范與晨', '陳諳星', '程安妮', '顏兆霆', '潘玉蔚', '黃知离', '周宸妤', '許雅淳', '陳宥汝', '黃珮涵', '儲詠潔 ', '謝艾倫', '蔡福婷'}\n"
     ]
    }
   ],
   "source": [
    "#所有有在禮拜一4/25班表的人-聯集\n",
    "s12=set(s1.union(s2))\n",
    "s34=set(s3.union(s4))\n",
    "s56=set(s5.union(s6))\n",
    "s78=set(s7.union(s8))\n",
    "s14=set(s12.union(s34))\n",
    "s58=set(s56.union(s78))\n",
    "sALL=set(s14.union(s58))\n",
    "print(sALL)"
   ]
  },
  {
   "cell_type": "code",
   "execution_count": 10,
   "id": "8fdca705",
   "metadata": {},
   "outputs": [
    {
     "name": "stdout",
     "output_type": "stream",
     "text": [
      "{'許雅淳', '顏兆霆', '潘玉蔚', '邱致瑋', '董淤淤', '周宸妤', '謝艾倫', '周如茵', '徐詩婷', '陳品瑜', '林義家', '葉彩雲'}\n"
     ]
    }
   ],
   "source": [
    "# test the material\n",
    "print(s1)"
   ]
  },
  {
   "cell_type": "code",
   "execution_count": 11,
   "id": "93e3e875",
   "metadata": {},
   "outputs": [],
   "source": [
    "#所有工人集合\n",
    "sE=set(Employees)"
   ]
  },
  {
   "cell_type": "code",
   "execution_count": 12,
   "id": "f13b71bd",
   "metadata": {},
   "outputs": [
    {
     "name": "stdout",
     "output_type": "stream",
     "text": [
      "{'蘇惠妤', '湯喻?', '葉欲祥', '盧柔伊', '何芳雯', '董淤淤', '周如茵', '徐詩婷', '葉子瑜', '吳彩葳', '陳品瑜', '葉彩雲', '鄭燕慧', '張令昌', '林君騰', '邱致瑋', '范純?', '馮楷宸', '許婉柔', '林義家', '歐銘政', '黃威敏', '范與晨', '陳諳星', '程安妮', '顏兆霆', '紀承佐', '潘玉蔚', '黃知离', '周宸妤', '蘇彥寧', '周彤', '謝忠翰', '許雅淳', '陳宥汝', '趙婞雅', '簡珮軒', '黃珮涵', '謝艾倫', '儲詠潔', '蔡福婷', '陳昱銓'}\n"
     ]
    }
   ],
   "source": [
    "# test the material\n",
    "print(sE)"
   ]
  },
  {
   "cell_type": "code",
   "execution_count": 13,
   "id": "4d6f384c",
   "metadata": {},
   "outputs": [
    {
     "name": "stdout",
     "output_type": "stream",
     "text": [
      "星期一 9:10~11:10 都在的人\n",
      "{'董淤淤', '周宸妤', '徐詩婷', '林義家', '葉彩雲'}\n"
     ]
    }
   ],
   "source": [
    "#星期一 9:10~11:10 都在有顧攤的人-交集\n",
    "print('星期一 9:10~11:10 都在的人')\n",
    "print(s1&s2)"
   ]
  },
  {
   "cell_type": "code",
   "execution_count": 14,
   "id": "2186308f",
   "metadata": {},
   "outputs": [
    {
     "name": "stdout",
     "output_type": "stream",
     "text": [
      "星期一 9:10~11:10 有在的人\n",
      "{'陳諳星', '顏兆霆', '葉欲祥', '潘玉蔚', '何芳雯', '董淤淤', '周宸妤', '周如茵', '徐詩婷', '許雅淳', '陳品瑜', '吳彩葳', '葉彩雲', '黃珮涵', '邱致瑋', '謝艾倫', '范純?', '許婉柔', '林義家'}\n"
     ]
    }
   ],
   "source": [
    "#星期一 9:10~11:10 在有顧攤的人-聯集\n",
    "print('星期一 9:10~11:10 有在的人')\n",
    "print(s1.union(s2))   "
   ]
  },
  {
   "cell_type": "code",
   "execution_count": 15,
   "id": "0f4c71d1",
   "metadata": {},
   "outputs": [
    {
     "name": "stdout",
     "output_type": "stream",
     "text": [
      "4/25沒有顧攤的人\n",
      "{'黃威敏', '儲詠潔', '紀承佐', '馮楷宸', '周彤', '蘇彥寧', '謝忠翰', '趙婞雅', '簡珮軒', '陳昱銓'}\n"
     ]
    }
   ],
   "source": [
    "#所有工人中,4/25沒有顧攤的人-差集\n",
    "print('4/25沒有顧攤的人')\n",
    "print(sE.difference(sALL))"
   ]
  },
  {
   "cell_type": "code",
   "execution_count": 17,
   "id": "f35de5d1",
   "metadata": {},
   "outputs": [
    {
     "name": "stdout",
     "output_type": "stream",
     "text": [
      "4/25 9:10~11:10中,9:10~10:10或10:10~11:10顧攤的人\n",
      "{'葉欲祥', '何芳雯', '周如茵', '吳彩葳', '陳品瑜', '范純?', '邱致瑋', '許婉柔', '陳諳星', '顏兆霆', '潘玉蔚', '許雅淳', '黃珮涵', '謝艾倫'}\n"
     ]
    }
   ],
   "source": [
    "#星期一 9:10~11:10中,9:10~10:10或10:10~11:10顧攤的人(不包含該時段一直都在的人)-對稱差集\n",
    "print('4/25 9:10~11:10中,9:10~10:10或10:10~11:10顧攤的人')\n",
    "print(s1.symmetric_difference(s2))"
   ]
  },
  {
   "cell_type": "code",
   "execution_count": 18,
   "id": "fc20f55a",
   "metadata": {},
   "outputs": [
    {
     "data": {
      "text/plain": [
       "{'周如茵', '潘玉蔚', '許雅淳', '謝艾倫', '邱致瑋', '陳品瑜', '顏兆霆'}"
      ]
     },
     "execution_count": 18,
     "metadata": {},
     "output_type": "execute_result"
    }
   ],
   "source": [
    "s1-s2"
   ]
  },
  {
   "cell_type": "code",
   "execution_count": 19,
   "id": "b4549669",
   "metadata": {},
   "outputs": [
    {
     "data": {
      "text/plain": [
       "{'何芳雯', '吳彩葳', '范純?', '葉欲祥', '許婉柔', '陳諳星', '黃珮涵'}"
      ]
     },
     "execution_count": 19,
     "metadata": {},
     "output_type": "execute_result"
    }
   ],
   "source": [
    "s2-s1"
   ]
  },
  {
   "cell_type": "code",
   "execution_count": 21,
   "id": "8e6a8086",
   "metadata": {},
   "outputs": [
    {
     "ename": "TypeError",
     "evalue": "unsupported operand type(s) for +: 'set' and 'set'",
     "output_type": "error",
     "traceback": [
      "\u001b[1;31m---------------------------------------------------------------------------\u001b[0m",
      "\u001b[1;31mTypeError\u001b[0m                                 Traceback (most recent call last)",
      "Input \u001b[1;32mIn [21]\u001b[0m, in \u001b[0;36m<cell line: 1>\u001b[1;34m()\u001b[0m\n\u001b[1;32m----> 1\u001b[0m \u001b[38;5;28;43mset\u001b[39;49m\u001b[43m(\u001b[49m\u001b[43ms1\u001b[49m\u001b[38;5;241;43m-\u001b[39;49m\u001b[43ms2\u001b[49m\u001b[43m)\u001b[49m\u001b[43m \u001b[49m\u001b[38;5;241;43m+\u001b[39;49m\u001b[43m \u001b[49m\u001b[38;5;28;43mset\u001b[39;49m\u001b[43m(\u001b[49m\u001b[43ms2\u001b[49m\u001b[38;5;241;43m-\u001b[39;49m\u001b[43ms1\u001b[49m\u001b[43m)\u001b[49m\n",
      "\u001b[1;31mTypeError\u001b[0m: unsupported operand type(s) for +: 'set' and 'set'"
     ]
    }
   ],
   "source": []
  },
  {
   "cell_type": "code",
   "execution_count": null,
   "id": "ab163616",
   "metadata": {},
   "outputs": [],
   "source": []
  },
  {
   "cell_type": "code",
   "execution_count": null,
   "id": "49b618c7",
   "metadata": {},
   "outputs": [],
   "source": []
  },
  {
   "cell_type": "code",
   "execution_count": null,
   "id": "a6f6bb6a",
   "metadata": {},
   "outputs": [],
   "source": []
  }
 ],
 "metadata": {
  "kernelspec": {
   "display_name": "Python 3 (ipykernel)",
   "language": "python",
   "name": "python3"
  },
  "language_info": {
   "codemirror_mode": {
    "name": "ipython",
    "version": 3
   },
   "file_extension": ".py",
   "mimetype": "text/x-python",
   "name": "python",
   "nbconvert_exporter": "python",
   "pygments_lexer": "ipython3",
   "version": "3.9.13"
  }
 },
 "nbformat": 4,
 "nbformat_minor": 5
}
