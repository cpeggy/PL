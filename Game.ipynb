{
 "cells": [
  {
   "cell_type": "code",
   "execution_count": 1,
   "id": "b24129dc",
   "metadata": {},
   "outputs": [],
   "source": [
    "dic={'人':[\"甲\", \"乙\", \"丙\"],\n",
    "    'age':['40', '52', '63'],\n",
    "    'law': ['第62條汽車駕駛人駕駛汽車肇事,被罰了2000元.第12條汽車用吊銷、註銷之牌照,被罰了5000元',\n",
    "            '第16装高或其他生噪音器物,被罰1200元、第56條在禁止臨時停處所停車,被罰800元、第82條未經可在道路擺設攤位,被罰1500元、第17條汽車不期參加定期檢驗或臨時檢驗,被罰900元',\n",
    "           '第21條未領有駕駛照駕駛小型車或機車被罰了8000元']}"
   ]
  },
  {
   "cell_type": "code",
   "execution_count": null,
   "id": "d8cdde94",
   "metadata": {},
   "outputs": [],
   "source": []
  }
 ],
 "metadata": {
  "kernelspec": {
   "display_name": "Python 3 (ipykernel)",
   "language": "python",
   "name": "python3"
  },
  "language_info": {
   "codemirror_mode": {
    "name": "ipython",
    "version": 3
   },
   "file_extension": ".py",
   "mimetype": "text/x-python",
   "name": "python",
   "nbconvert_exporter": "python",
   "pygments_lexer": "ipython3",
   "version": "3.9.12"
  }
 },
 "nbformat": 4,
 "nbformat_minor": 5
}
