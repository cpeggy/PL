{
 "cells": [
  {
   "cell_type": "code",
   "execution_count": null,
   "id": "6b9beb50",
   "metadata": {},
   "outputs": [],
   "source": [
    "#求110年度各縣市現存大專院校與學校密度(官方最新資料只到110沒有111學年度"
   ]
  },
  {
   "cell_type": "code",
   "execution_count": 1,
   "id": "d5a16ae0",
   "metadata": {},
   "outputs": [
    {
     "data": {
      "text/html": [
       "<div>\n",
       "<style scoped>\n",
       "    .dataframe tbody tr th:only-of-type {\n",
       "        vertical-align: middle;\n",
       "    }\n",
       "\n",
       "    .dataframe tbody tr th {\n",
       "        vertical-align: top;\n",
       "    }\n",
       "\n",
       "    .dataframe thead th {\n",
       "        text-align: right;\n",
       "    }\n",
       "</style>\n",
       "<table border=\"1\" class=\"dataframe\">\n",
       "  <thead>\n",
       "    <tr style=\"text-align: right;\">\n",
       "      <th></th>\n",
       "      <th>代碼</th>\n",
       "      <th>學校名稱</th>\n",
       "      <th>公/私立</th>\n",
       "      <th>縣市名稱</th>\n",
       "      <th>地址</th>\n",
       "      <th>電話</th>\n",
       "      <th>網址</th>\n",
       "      <th>體系別</th>\n",
       "    </tr>\n",
       "  </thead>\n",
       "  <tbody>\n",
       "    <tr>\n",
       "      <th>0</th>\n",
       "      <td>1</td>\n",
       "      <td>國立政治大學</td>\n",
       "      <td>公立</td>\n",
       "      <td>臺北市</td>\n",
       "      <td>[116]臺北市文山區指南路二段64號</td>\n",
       "      <td>(02)29393091</td>\n",
       "      <td>http://www.nccu.edu.tw</td>\n",
       "      <td>[1]一般</td>\n",
       "    </tr>\n",
       "    <tr>\n",
       "      <th>1</th>\n",
       "      <td>2</td>\n",
       "      <td>國立清華大學</td>\n",
       "      <td>公立</td>\n",
       "      <td>新竹市</td>\n",
       "      <td>[300]新竹市東區光復路二段101號</td>\n",
       "      <td>(03)5715131</td>\n",
       "      <td>http://www.nthu.edu.tw</td>\n",
       "      <td>[1]一般</td>\n",
       "    </tr>\n",
       "    <tr>\n",
       "      <th>2</th>\n",
       "      <td>3</td>\n",
       "      <td>國立臺灣大學</td>\n",
       "      <td>公立</td>\n",
       "      <td>臺北市</td>\n",
       "      <td>[106]臺北市大安區羅斯福路四段1號</td>\n",
       "      <td>(02)33663366</td>\n",
       "      <td>http://www.ntu.edu.tw</td>\n",
       "      <td>[1]一般</td>\n",
       "    </tr>\n",
       "    <tr>\n",
       "      <th>3</th>\n",
       "      <td>4</td>\n",
       "      <td>國立臺灣師範大學</td>\n",
       "      <td>公立</td>\n",
       "      <td>臺北市</td>\n",
       "      <td>[106]臺北市大安區和平東路一段162號</td>\n",
       "      <td>(02)77491111</td>\n",
       "      <td>http://www.ntnu.edu.tw</td>\n",
       "      <td>[3]師範</td>\n",
       "    </tr>\n",
       "    <tr>\n",
       "      <th>4</th>\n",
       "      <td>5</td>\n",
       "      <td>國立成功大學</td>\n",
       "      <td>公立</td>\n",
       "      <td>臺南市</td>\n",
       "      <td>[701]臺南市東區大學路1號</td>\n",
       "      <td>(06)2757575</td>\n",
       "      <td>http://www.ncku.edu.tw</td>\n",
       "      <td>[1]一般</td>\n",
       "    </tr>\n",
       "  </tbody>\n",
       "</table>\n",
       "</div>"
      ],
      "text/plain": [
       "   代碼      學校名稱 公/私立 縣市名稱                     地址            電話  \\\n",
       "0   1    國立政治大學   公立  臺北市    [116]臺北市文山區指南路二段64號  (02)29393091   \n",
       "1   2    國立清華大學   公立  新竹市    [300]新竹市東區光復路二段101號   (03)5715131   \n",
       "2   3    國立臺灣大學   公立  臺北市    [106]臺北市大安區羅斯福路四段1號  (02)33663366   \n",
       "3   4  國立臺灣師範大學   公立  臺北市  [106]臺北市大安區和平東路一段162號  (02)77491111   \n",
       "4   5    國立成功大學   公立  臺南市        [701]臺南市東區大學路1號   (06)2757575   \n",
       "\n",
       "                       網址    體系別  \n",
       "0  http://www.nccu.edu.tw  [1]一般  \n",
       "1  http://www.nthu.edu.tw  [1]一般  \n",
       "2   http://www.ntu.edu.tw  [1]一般  \n",
       "3  http://www.ntnu.edu.tw  [3]師範  \n",
       "4  http://www.ncku.edu.tw  [1]一般  "
      ]
     },
     "execution_count": 1,
     "metadata": {},
     "output_type": "execute_result"
    }
   ],
   "source": [
    "#輸入大專院校列表\n",
    "import pandas as pd\n",
    "\n",
    "## 讓pd讀檔並切換語言參數\n",
    "university = pd.read_csv(\"universityT.csv\")\n",
    "university.head() #test"
   ]
  },
  {
   "cell_type": "code",
   "execution_count": 2,
   "id": "d41ef9d0",
   "metadata": {},
   "outputs": [
    {
     "name": "stdout",
     "output_type": "stream",
     "text": [
      "149\n"
     ]
    }
   ],
   "source": [
    "print(len(university))"
   ]
  },
  {
   "cell_type": "code",
   "execution_count": 3,
   "id": "c3648b0a",
   "metadata": {},
   "outputs": [
    {
     "name": "stdout",
     "output_type": "stream",
     "text": [
      "共有 24 筆資料\n",
      "學校數量/縣市面積= 0.0883 個/Km^2\n"
     ]
    },
    {
     "data": {
      "text/html": [
       "<div>\n",
       "<style scoped>\n",
       "    .dataframe tbody tr th:only-of-type {\n",
       "        vertical-align: middle;\n",
       "    }\n",
       "\n",
       "    .dataframe tbody tr th {\n",
       "        vertical-align: top;\n",
       "    }\n",
       "\n",
       "    .dataframe thead th {\n",
       "        text-align: right;\n",
       "    }\n",
       "</style>\n",
       "<table border=\"1\" class=\"dataframe\">\n",
       "  <thead>\n",
       "    <tr style=\"text-align: right;\">\n",
       "      <th></th>\n",
       "      <th>代碼</th>\n",
       "      <th>學校名稱</th>\n",
       "      <th>公/私立</th>\n",
       "      <th>縣市名稱</th>\n",
       "      <th>地址</th>\n",
       "      <th>電話</th>\n",
       "      <th>網址</th>\n",
       "      <th>體系別</th>\n",
       "    </tr>\n",
       "  </thead>\n",
       "  <tbody>\n",
       "    <tr>\n",
       "      <th>0</th>\n",
       "      <td>1</td>\n",
       "      <td>國立政治大學</td>\n",
       "      <td>公立</td>\n",
       "      <td>臺北市</td>\n",
       "      <td>[116]臺北市文山區指南路二段64號</td>\n",
       "      <td>(02)29393091</td>\n",
       "      <td>http://www.nccu.edu.tw</td>\n",
       "      <td>[1]一般</td>\n",
       "    </tr>\n",
       "    <tr>\n",
       "      <th>2</th>\n",
       "      <td>3</td>\n",
       "      <td>國立臺灣大學</td>\n",
       "      <td>公立</td>\n",
       "      <td>臺北市</td>\n",
       "      <td>[106]臺北市大安區羅斯福路四段1號</td>\n",
       "      <td>(02)33663366</td>\n",
       "      <td>http://www.ntu.edu.tw</td>\n",
       "      <td>[1]一般</td>\n",
       "    </tr>\n",
       "    <tr>\n",
       "      <th>3</th>\n",
       "      <td>4</td>\n",
       "      <td>國立臺灣師範大學</td>\n",
       "      <td>公立</td>\n",
       "      <td>臺北市</td>\n",
       "      <td>[106]臺北市大安區和平東路一段162號</td>\n",
       "      <td>(02)77491111</td>\n",
       "      <td>http://www.ntnu.edu.tw</td>\n",
       "      <td>[3]師範</td>\n",
       "    </tr>\n",
       "    <tr>\n",
       "      <th>18</th>\n",
       "      <td>22</td>\n",
       "      <td>國立臺灣科技大學</td>\n",
       "      <td>公立</td>\n",
       "      <td>臺北市</td>\n",
       "      <td>[106]臺北市大安區基隆路四段43號</td>\n",
       "      <td>(02)27333141</td>\n",
       "      <td>http://www.ntust.edu.tw</td>\n",
       "      <td>[2]技職</td>\n",
       "    </tr>\n",
       "    <tr>\n",
       "      <th>21</th>\n",
       "      <td>25</td>\n",
       "      <td>國立臺北科技大學</td>\n",
       "      <td>公立</td>\n",
       "      <td>臺北市</td>\n",
       "      <td>[106]臺北市大安區忠孝東路三段1號</td>\n",
       "      <td>(02)27712171</td>\n",
       "      <td>http://www.ntut.edu.tw</td>\n",
       "      <td>[2]技職</td>\n",
       "    </tr>\n",
       "  </tbody>\n",
       "</table>\n",
       "</div>"
      ],
      "text/plain": [
       "    代碼      學校名稱 公/私立 縣市名稱                     地址            電話  \\\n",
       "0    1    國立政治大學   公立  臺北市    [116]臺北市文山區指南路二段64號  (02)29393091   \n",
       "2    3    國立臺灣大學   公立  臺北市    [106]臺北市大安區羅斯福路四段1號  (02)33663366   \n",
       "3    4  國立臺灣師範大學   公立  臺北市  [106]臺北市大安區和平東路一段162號  (02)77491111   \n",
       "18  22  國立臺灣科技大學   公立  臺北市    [106]臺北市大安區基隆路四段43號  (02)27333141   \n",
       "21  25  國立臺北科技大學   公立  臺北市    [106]臺北市大安區忠孝東路三段1號  (02)27712171   \n",
       "\n",
       "                         網址    體系別  \n",
       "0    http://www.nccu.edu.tw  [1]一般  \n",
       "2     http://www.ntu.edu.tw  [1]一般  \n",
       "3    http://www.ntnu.edu.tw  [3]師範  \n",
       "18  http://www.ntust.edu.tw  [2]技職  \n",
       "21   http://www.ntut.edu.tw  [2]技職  "
      ]
     },
     "execution_count": 3,
     "metadata": {},
     "output_type": "execute_result"
    }
   ],
   "source": [
    "#縣市面積皆為平方公里\n",
    "TaipeiUL = (university[\"縣市名稱\"] == \"臺北市\")\n",
    "TaipeiU = university[TaipeiUL]\n",
    "TaipeiAreakm = 271.7997\n",
    "\n",
    "MTUr=len(TaipeiU)/TaipeiAreakm\n",
    "MTU=round(MTUr,6) #四捨五入至小數點後 6 位\n",
    "\n",
    "print(\"共有\",len(TaipeiU),\"筆資料\")\n",
    "print(\"學校數量/縣市面積=\",MTU,\"個/Km^2\")\n",
    "TaipeiU.head()"
   ]
  },
  {
   "cell_type": "code",
   "execution_count": 4,
   "id": "236feb15",
   "metadata": {},
   "outputs": [
    {
     "name": "stdout",
     "output_type": "stream",
     "text": [
      "共有 20 筆資料\n",
      "學校數量/縣市面積= 0.009744 個/Km^2\n"
     ]
    },
    {
     "data": {
      "text/html": [
       "<div>\n",
       "<style scoped>\n",
       "    .dataframe tbody tr th:only-of-type {\n",
       "        vertical-align: middle;\n",
       "    }\n",
       "\n",
       "    .dataframe tbody tr th {\n",
       "        vertical-align: top;\n",
       "    }\n",
       "\n",
       "    .dataframe thead th {\n",
       "        text-align: right;\n",
       "    }\n",
       "</style>\n",
       "<table border=\"1\" class=\"dataframe\">\n",
       "  <thead>\n",
       "    <tr style=\"text-align: right;\">\n",
       "      <th></th>\n",
       "      <th>代碼</th>\n",
       "      <th>學校名稱</th>\n",
       "      <th>公/私立</th>\n",
       "      <th>縣市名稱</th>\n",
       "      <th>地址</th>\n",
       "      <th>電話</th>\n",
       "      <th>網址</th>\n",
       "      <th>體系別</th>\n",
       "    </tr>\n",
       "  </thead>\n",
       "  <tbody>\n",
       "    <tr>\n",
       "      <th>13</th>\n",
       "      <td>17</td>\n",
       "      <td>國立臺北大學</td>\n",
       "      <td>公立</td>\n",
       "      <td>新北市</td>\n",
       "      <td>[237]新北市三峽區大學路151號</td>\n",
       "      <td>(02)86741111</td>\n",
       "      <td>http://new.ntpu.edu.tw/</td>\n",
       "      <td>[1]一般</td>\n",
       "    </tr>\n",
       "    <tr>\n",
       "      <th>23</th>\n",
       "      <td>29</td>\n",
       "      <td>國立臺灣藝術大學</td>\n",
       "      <td>公立</td>\n",
       "      <td>新北市</td>\n",
       "      <td>[220]新北市板橋區大觀路一段59號</td>\n",
       "      <td>(02)22722181</td>\n",
       "      <td>http://www.ntua.edu.tw</td>\n",
       "      <td>[1]一般</td>\n",
       "    </tr>\n",
       "    <tr>\n",
       "      <th>44</th>\n",
       "      <td>1002</td>\n",
       "      <td>輔仁大學</td>\n",
       "      <td>私立</td>\n",
       "      <td>新北市</td>\n",
       "      <td>[242]新北市新莊區中正路510號</td>\n",
       "      <td>(02)29052000</td>\n",
       "      <td>http://www.fju.edu.tw</td>\n",
       "      <td>[1]一般</td>\n",
       "    </tr>\n",
       "    <tr>\n",
       "      <th>47</th>\n",
       "      <td>1005</td>\n",
       "      <td>淡江大學</td>\n",
       "      <td>私立</td>\n",
       "      <td>新北市</td>\n",
       "      <td>[251]新北市淡水區英專路151號</td>\n",
       "      <td>(02)26215656</td>\n",
       "      <td>http://www.tku.edu.tw</td>\n",
       "      <td>[1]一般</td>\n",
       "    </tr>\n",
       "    <tr>\n",
       "      <th>55</th>\n",
       "      <td>1013</td>\n",
       "      <td>華梵大學</td>\n",
       "      <td>私立</td>\n",
       "      <td>新北市</td>\n",
       "      <td>[223]新北市石碇區華梵路1號</td>\n",
       "      <td>(02)26632102</td>\n",
       "      <td>http://www.hfu.edu.tw</td>\n",
       "      <td>[1]一般</td>\n",
       "    </tr>\n",
       "  </tbody>\n",
       "</table>\n",
       "</div>"
      ],
      "text/plain": [
       "      代碼      學校名稱 公/私立 縣市名稱                   地址            電話  \\\n",
       "13    17    國立臺北大學   公立  新北市   [237]新北市三峽區大學路151號  (02)86741111   \n",
       "23    29  國立臺灣藝術大學   公立  新北市  [220]新北市板橋區大觀路一段59號  (02)22722181   \n",
       "44  1002      輔仁大學   私立  新北市   [242]新北市新莊區中正路510號  (02)29052000   \n",
       "47  1005      淡江大學   私立  新北市   [251]新北市淡水區英專路151號  (02)26215656   \n",
       "55  1013      華梵大學   私立  新北市     [223]新北市石碇區華梵路1號  (02)26632102   \n",
       "\n",
       "                         網址    體系別  \n",
       "13  http://new.ntpu.edu.tw/  [1]一般  \n",
       "23   http://www.ntua.edu.tw  [1]一般  \n",
       "44    http://www.fju.edu.tw  [1]一般  \n",
       "47    http://www.tku.edu.tw  [1]一般  \n",
       "55    http://www.hfu.edu.tw  [1]一般  "
      ]
     },
     "execution_count": 4,
     "metadata": {},
     "output_type": "execute_result"
    }
   ],
   "source": [
    "NewTaipeiUL = (university[\"縣市名稱\"] == \"新北市\")\n",
    "NewTaipeiU = university[NewTaipeiUL]\n",
    "NewTaipeiAreakm = 2052.5667\n",
    "\n",
    "MNTUr=len(NewTaipeiU)/NewTaipeiAreakm\n",
    "MNTU=round(MNTUr,6) #四捨五入至小數點後 6 位\n",
    "\n",
    "print(\"共有\",len(NewTaipeiU),\"筆資料\")\n",
    "print(\"學校數量/縣市面積=\",MNTU,\"個/Km^2\")\n",
    "NewTaipeiU.head()"
   ]
  },
  {
   "cell_type": "code",
   "execution_count": 5,
   "id": "7cd5e8db",
   "metadata": {},
   "outputs": [
    {
     "name": "stdout",
     "output_type": "stream",
     "text": [
      "共有 3 筆資料\n",
      "學校數量/縣市面積= 0.022597 個/Km^2\n"
     ]
    },
    {
     "data": {
      "text/html": [
       "<div>\n",
       "<style scoped>\n",
       "    .dataframe tbody tr th:only-of-type {\n",
       "        vertical-align: middle;\n",
       "    }\n",
       "\n",
       "    .dataframe tbody tr th {\n",
       "        vertical-align: top;\n",
       "    }\n",
       "\n",
       "    .dataframe thead th {\n",
       "        text-align: right;\n",
       "    }\n",
       "</style>\n",
       "<table border=\"1\" class=\"dataframe\">\n",
       "  <thead>\n",
       "    <tr style=\"text-align: right;\">\n",
       "      <th></th>\n",
       "      <th>代碼</th>\n",
       "      <th>學校名稱</th>\n",
       "      <th>公/私立</th>\n",
       "      <th>縣市名稱</th>\n",
       "      <th>地址</th>\n",
       "      <th>電話</th>\n",
       "      <th>網址</th>\n",
       "      <th>體系別</th>\n",
       "    </tr>\n",
       "  </thead>\n",
       "  <tbody>\n",
       "    <tr>\n",
       "      <th>9</th>\n",
       "      <td>12</td>\n",
       "      <td>國立臺灣海洋大學</td>\n",
       "      <td>公立</td>\n",
       "      <td>基隆市</td>\n",
       "      <td>[202]基隆市中正區北寧路2號</td>\n",
       "      <td>(02)24622192</td>\n",
       "      <td>http://www.ntou.edu.tw</td>\n",
       "      <td>[1]一般</td>\n",
       "    </tr>\n",
       "    <tr>\n",
       "      <th>122</th>\n",
       "      <td>1082</td>\n",
       "      <td>崇右影藝科技大學</td>\n",
       "      <td>私立</td>\n",
       "      <td>基隆市</td>\n",
       "      <td>[201]基隆市信義區義七路40號</td>\n",
       "      <td>(02)24237785</td>\n",
       "      <td>http://www.cufa.edu.tw/</td>\n",
       "      <td>[2]技職</td>\n",
       "    </tr>\n",
       "    <tr>\n",
       "      <th>133</th>\n",
       "      <td>1185</td>\n",
       "      <td>經國管理暨健康學院</td>\n",
       "      <td>私立</td>\n",
       "      <td>基隆市</td>\n",
       "      <td>[203]基隆市中山區復興路336號</td>\n",
       "      <td>(02)24372093</td>\n",
       "      <td>http://www.cku.edu.tw</td>\n",
       "      <td>[2]技職</td>\n",
       "    </tr>\n",
       "  </tbody>\n",
       "</table>\n",
       "</div>"
      ],
      "text/plain": [
       "       代碼       學校名稱 公/私立 縣市名稱                  地址            電話  \\\n",
       "9      12   國立臺灣海洋大學   公立  基隆市    [202]基隆市中正區北寧路2號  (02)24622192   \n",
       "122  1082   崇右影藝科技大學   私立  基隆市   [201]基隆市信義區義七路40號  (02)24237785   \n",
       "133  1185  經國管理暨健康學院   私立  基隆市  [203]基隆市中山區復興路336號  (02)24372093   \n",
       "\n",
       "                          網址    體系別  \n",
       "9     http://www.ntou.edu.tw  [1]一般  \n",
       "122  http://www.cufa.edu.tw/  [2]技職  \n",
       "133    http://www.cku.edu.tw  [2]技職  "
      ]
     },
     "execution_count": 5,
     "metadata": {},
     "output_type": "execute_result"
    }
   ],
   "source": [
    "KeelungUL = (university[\"縣市名稱\"] == \"基隆市\")\n",
    "KeelungU = university[KeelungUL]\n",
    "KeelungAreakm = 132.7589\n",
    "\n",
    "MKUr=len(KeelungU)/KeelungAreakm\n",
    "MKU=round(MKUr,6) #四捨五入至小數點後 6 位\n",
    "\n",
    "print(\"共有\",len(KeelungU),\"筆資料\")\n",
    "print(\"學校數量/縣市面積=\",MKU,\"個/Km^2\")\n",
    "KeelungU.head()"
   ]
  },
  {
   "cell_type": "code",
   "execution_count": 6,
   "id": "ec17b9ca",
   "metadata": {},
   "outputs": [
    {
     "name": "stdout",
     "output_type": "stream",
     "text": [
      "共有 12 筆資料\n",
      "學校數量/縣市面積= 0.009828 個/Km^2\n"
     ]
    },
    {
     "data": {
      "text/html": [
       "<div>\n",
       "<style scoped>\n",
       "    .dataframe tbody tr th:only-of-type {\n",
       "        vertical-align: middle;\n",
       "    }\n",
       "\n",
       "    .dataframe tbody tr th {\n",
       "        vertical-align: top;\n",
       "    }\n",
       "\n",
       "    .dataframe thead th {\n",
       "        text-align: right;\n",
       "    }\n",
       "</style>\n",
       "<table border=\"1\" class=\"dataframe\">\n",
       "  <thead>\n",
       "    <tr style=\"text-align: right;\">\n",
       "      <th></th>\n",
       "      <th>代碼</th>\n",
       "      <th>學校名稱</th>\n",
       "      <th>公/私立</th>\n",
       "      <th>縣市名稱</th>\n",
       "      <th>地址</th>\n",
       "      <th>電話</th>\n",
       "      <th>網址</th>\n",
       "      <th>體系別</th>\n",
       "    </tr>\n",
       "  </thead>\n",
       "  <tbody>\n",
       "    <tr>\n",
       "      <th>7</th>\n",
       "      <td>8</td>\n",
       "      <td>國立中央大學</td>\n",
       "      <td>公立</td>\n",
       "      <td>桃園市</td>\n",
       "      <td>[320]桃園市中壢區中大路300號</td>\n",
       "      <td>(03)4227151</td>\n",
       "      <td>http://www.ncu.edu.tw</td>\n",
       "      <td>[1]一般</td>\n",
       "    </tr>\n",
       "    <tr>\n",
       "      <th>34</th>\n",
       "      <td>44</td>\n",
       "      <td>國立體育大學</td>\n",
       "      <td>公立</td>\n",
       "      <td>桃園市</td>\n",
       "      <td>[333]桃園市龜山區文化一路250號</td>\n",
       "      <td>(03)3283201</td>\n",
       "      <td>http://www.ntsu.edu.tw</td>\n",
       "      <td>[1]一般</td>\n",
       "    </tr>\n",
       "    <tr>\n",
       "      <th>46</th>\n",
       "      <td>1004</td>\n",
       "      <td>中原大學</td>\n",
       "      <td>私立</td>\n",
       "      <td>桃園市</td>\n",
       "      <td>[320]桃園市中壢區中北路200號</td>\n",
       "      <td>(03)2659999</td>\n",
       "      <td>http://www.cycu.edu.tw</td>\n",
       "      <td>[1]一般</td>\n",
       "    </tr>\n",
       "    <tr>\n",
       "      <th>51</th>\n",
       "      <td>1009</td>\n",
       "      <td>長庚大學</td>\n",
       "      <td>私立</td>\n",
       "      <td>桃園市</td>\n",
       "      <td>[333]桃園市龜山區文化一路259號</td>\n",
       "      <td>(03)2118800</td>\n",
       "      <td>http://www.cgu.edu.tw</td>\n",
       "      <td>[1]一般</td>\n",
       "    </tr>\n",
       "    <tr>\n",
       "      <th>52</th>\n",
       "      <td>1010</td>\n",
       "      <td>元智大學</td>\n",
       "      <td>私立</td>\n",
       "      <td>桃園市</td>\n",
       "      <td>[320]桃園市中壢區遠東路135號</td>\n",
       "      <td>(03)4638800</td>\n",
       "      <td>http://www.yzu.edu.tw</td>\n",
       "      <td>[1]一般</td>\n",
       "    </tr>\n",
       "  </tbody>\n",
       "</table>\n",
       "</div>"
      ],
      "text/plain": [
       "      代碼    學校名稱 公/私立 縣市名稱                   地址           電話  \\\n",
       "7      8  國立中央大學   公立  桃園市   [320]桃園市中壢區中大路300號  (03)4227151   \n",
       "34    44  國立體育大學   公立  桃園市  [333]桃園市龜山區文化一路250號  (03)3283201   \n",
       "46  1004    中原大學   私立  桃園市   [320]桃園市中壢區中北路200號  (03)2659999   \n",
       "51  1009    長庚大學   私立  桃園市  [333]桃園市龜山區文化一路259號  (03)2118800   \n",
       "52  1010    元智大學   私立  桃園市   [320]桃園市中壢區遠東路135號  (03)4638800   \n",
       "\n",
       "                        網址    體系別  \n",
       "7    http://www.ncu.edu.tw  [1]一般  \n",
       "34  http://www.ntsu.edu.tw  [1]一般  \n",
       "46  http://www.cycu.edu.tw  [1]一般  \n",
       "51   http://www.cgu.edu.tw  [1]一般  \n",
       "52   http://www.yzu.edu.tw  [1]一般  "
      ]
     },
     "execution_count": 6,
     "metadata": {},
     "output_type": "execute_result"
    }
   ],
   "source": [
    "TaoyuanUL = (university[\"縣市名稱\"] == \"桃園市\")\n",
    "TaoyuanU = university[TaoyuanUL]\n",
    "TaoyuanAreakm = 1220.9540\n",
    "\n",
    "MTYUr=len(TaoyuanU)/TaoyuanAreakm\n",
    "MTYU=round(MTYUr,6) #四捨五入至小數點後 6 位\n",
    "\n",
    "print(\"共有\",len(TaoyuanU),\"筆資料\")\n",
    "print(\"學校數量/縣市面積=\",MTYU,\"個/Km^2\")\n",
    "TaoyuanU.head()"
   ]
  },
  {
   "cell_type": "code",
   "execution_count": 7,
   "id": "8b4bdcc1",
   "metadata": {},
   "outputs": [
    {
     "name": "stdout",
     "output_type": "stream",
     "text": [
      "共有 2 筆資料\n",
      "學校數量/縣市面積= 0.001401 個/Km^2\n"
     ]
    },
    {
     "data": {
      "text/html": [
       "<div>\n",
       "<style scoped>\n",
       "    .dataframe tbody tr th:only-of-type {\n",
       "        vertical-align: middle;\n",
       "    }\n",
       "\n",
       "    .dataframe tbody tr th {\n",
       "        vertical-align: top;\n",
       "    }\n",
       "\n",
       "    .dataframe thead th {\n",
       "        text-align: right;\n",
       "    }\n",
       "</style>\n",
       "<table border=\"1\" class=\"dataframe\">\n",
       "  <thead>\n",
       "    <tr style=\"text-align: right;\">\n",
       "      <th></th>\n",
       "      <th>代碼</th>\n",
       "      <th>學校名稱</th>\n",
       "      <th>公/私立</th>\n",
       "      <th>縣市名稱</th>\n",
       "      <th>地址</th>\n",
       "      <th>電話</th>\n",
       "      <th>網址</th>\n",
       "      <th>體系別</th>\n",
       "    </tr>\n",
       "  </thead>\n",
       "  <tbody>\n",
       "    <tr>\n",
       "      <th>74</th>\n",
       "      <td>1032</td>\n",
       "      <td>明新科技大學</td>\n",
       "      <td>私立</td>\n",
       "      <td>新竹縣</td>\n",
       "      <td>[304]新竹縣新豐鄉新興路1號</td>\n",
       "      <td>(03)5593142</td>\n",
       "      <td>http://www.must.edu.tw</td>\n",
       "      <td>[2]技職</td>\n",
       "    </tr>\n",
       "    <tr>\n",
       "      <th>113</th>\n",
       "      <td>1072</td>\n",
       "      <td>敏實科技大學</td>\n",
       "      <td>私立</td>\n",
       "      <td>新竹縣</td>\n",
       "      <td>[307]新竹縣芎林鄉大華路1號</td>\n",
       "      <td>(03)5927700</td>\n",
       "      <td>http://www.tust.edu.tw</td>\n",
       "      <td>[2]技職</td>\n",
       "    </tr>\n",
       "  </tbody>\n",
       "</table>\n",
       "</div>"
      ],
      "text/plain": [
       "       代碼    學校名稱 公/私立 縣市名稱                地址           電話  \\\n",
       "74   1032  明新科技大學   私立  新竹縣  [304]新竹縣新豐鄉新興路1號  (03)5593142   \n",
       "113  1072  敏實科技大學   私立  新竹縣  [307]新竹縣芎林鄉大華路1號  (03)5927700   \n",
       "\n",
       "                         網址    體系別  \n",
       "74   http://www.must.edu.tw  [2]技職  \n",
       "113  http://www.tust.edu.tw  [2]技職  "
      ]
     },
     "execution_count": 7,
     "metadata": {},
     "output_type": "execute_result"
    }
   ],
   "source": [
    "HsinchuCountyUL = (university[\"縣市名稱\"] == \"新竹縣\")\n",
    "HsinchuCountyU = university[HsinchuCountyUL]\n",
    "HsinchuCountyAreakm = 1427.5369\n",
    "\n",
    "MHCUr=len(HsinchuCountyU)/HsinchuCountyAreakm\n",
    "MHCU=round(MHCUr,6) #四捨五入至小數點後 6 位\n",
    "\n",
    "print(\"共有\",len(HsinchuCountyU),\"筆資料\")\n",
    "print(\"學校數量/縣市面積=\",MHCU,\"個/Km^2\")\n",
    "HsinchuCountyU.head()"
   ]
  },
  {
   "cell_type": "code",
   "execution_count": 8,
   "id": "0eb26a78",
   "metadata": {},
   "outputs": [
    {
     "name": "stdout",
     "output_type": "stream",
     "text": [
      "共有 5 筆資料\n",
      "學校數量/縣市面積= 0.048006 個/Km^2\n"
     ]
    },
    {
     "data": {
      "text/html": [
       "<div>\n",
       "<style scoped>\n",
       "    .dataframe tbody tr th:only-of-type {\n",
       "        vertical-align: middle;\n",
       "    }\n",
       "\n",
       "    .dataframe tbody tr th {\n",
       "        vertical-align: top;\n",
       "    }\n",
       "\n",
       "    .dataframe thead th {\n",
       "        text-align: right;\n",
       "    }\n",
       "</style>\n",
       "<table border=\"1\" class=\"dataframe\">\n",
       "  <thead>\n",
       "    <tr style=\"text-align: right;\">\n",
       "      <th></th>\n",
       "      <th>代碼</th>\n",
       "      <th>學校名稱</th>\n",
       "      <th>公/私立</th>\n",
       "      <th>縣市名稱</th>\n",
       "      <th>地址</th>\n",
       "      <th>電話</th>\n",
       "      <th>網址</th>\n",
       "      <th>體系別</th>\n",
       "    </tr>\n",
       "  </thead>\n",
       "  <tbody>\n",
       "    <tr>\n",
       "      <th>1</th>\n",
       "      <td>2</td>\n",
       "      <td>國立清華大學</td>\n",
       "      <td>公立</td>\n",
       "      <td>新竹市</td>\n",
       "      <td>[300]新竹市東區光復路二段101號</td>\n",
       "      <td>(03)5715131</td>\n",
       "      <td>http://www.nthu.edu.tw</td>\n",
       "      <td>[1]一般</td>\n",
       "    </tr>\n",
       "    <tr>\n",
       "      <th>6</th>\n",
       "      <td>7</td>\n",
       "      <td>國立陽明交通大學</td>\n",
       "      <td>公立</td>\n",
       "      <td>新竹市</td>\n",
       "      <td>[300]新竹市東區大學路1001號</td>\n",
       "      <td>(03)5712121</td>\n",
       "      <td>http://www.nycu.edu.tw</td>\n",
       "      <td>[1]一般</td>\n",
       "    </tr>\n",
       "    <tr>\n",
       "      <th>53</th>\n",
       "      <td>1011</td>\n",
       "      <td>中華大學</td>\n",
       "      <td>私立</td>\n",
       "      <td>新竹市</td>\n",
       "      <td>[300]新竹市香山區東香里五福路二段707號</td>\n",
       "      <td>(03)5374281~5</td>\n",
       "      <td>http://www.chu.edu.tw</td>\n",
       "      <td>[1]一般</td>\n",
       "    </tr>\n",
       "    <tr>\n",
       "      <th>81</th>\n",
       "      <td>1039</td>\n",
       "      <td>玄奘大學</td>\n",
       "      <td>私立</td>\n",
       "      <td>新竹市</td>\n",
       "      <td>[300]新竹市香山區東香里玄奘路48號</td>\n",
       "      <td>(03)5302255</td>\n",
       "      <td>http://www.hcu.edu.tw</td>\n",
       "      <td>[1]一般</td>\n",
       "    </tr>\n",
       "    <tr>\n",
       "      <th>95</th>\n",
       "      <td>1053</td>\n",
       "      <td>元培醫事科技大學</td>\n",
       "      <td>私立</td>\n",
       "      <td>新竹市</td>\n",
       "      <td>[300]新竹市香山區元培街306號</td>\n",
       "      <td>(03)5381183</td>\n",
       "      <td>http://www.ypu.edu.tw/</td>\n",
       "      <td>[2]技職</td>\n",
       "    </tr>\n",
       "  </tbody>\n",
       "</table>\n",
       "</div>"
      ],
      "text/plain": [
       "      代碼      學校名稱 公/私立 縣市名稱                       地址             電話  \\\n",
       "1      2    國立清華大學   公立  新竹市      [300]新竹市東區光復路二段101號    (03)5715131   \n",
       "6      7  國立陽明交通大學   公立  新竹市       [300]新竹市東區大學路1001號    (03)5712121   \n",
       "53  1011      中華大學   私立  新竹市  [300]新竹市香山區東香里五福路二段707號  (03)5374281~5   \n",
       "81  1039      玄奘大學   私立  新竹市     [300]新竹市香山區東香里玄奘路48號    (03)5302255   \n",
       "95  1053  元培醫事科技大學   私立  新竹市       [300]新竹市香山區元培街306號    (03)5381183   \n",
       "\n",
       "                        網址    體系別  \n",
       "1   http://www.nthu.edu.tw  [1]一般  \n",
       "6   http://www.nycu.edu.tw  [1]一般  \n",
       "53   http://www.chu.edu.tw  [1]一般  \n",
       "81   http://www.hcu.edu.tw  [1]一般  \n",
       "95  http://www.ypu.edu.tw/  [2]技職  "
      ]
     },
     "execution_count": 8,
     "metadata": {},
     "output_type": "execute_result"
    }
   ],
   "source": [
    "HsinchuUL = (university[\"縣市名稱\"] == \"新竹市\")\n",
    "HsinchuU = university[HsinchuUL]\n",
    "HsinchuAreakm = 104.1526\n",
    "\n",
    "MHUr=len(HsinchuU)/HsinchuAreakm\n",
    "MHU=round(MHUr,6) #四捨五入至小數點後 6 位\n",
    "\n",
    "print(\"共有\",len(HsinchuU),\"筆資料\")\n",
    "print(\"學校數量/縣市面積=\",MHU,\"個/Km^2\")\n",
    "HsinchuU.head()"
   ]
  },
  {
   "cell_type": "code",
   "execution_count": 9,
   "id": "bcf1c330",
   "metadata": {},
   "outputs": [
    {
     "name": "stdout",
     "output_type": "stream",
     "text": [
      "共有 3 筆資料\n",
      "學校數量/縣市面積= 0.001648 個/Km^2\n"
     ]
    },
    {
     "data": {
      "text/html": [
       "<div>\n",
       "<style scoped>\n",
       "    .dataframe tbody tr th:only-of-type {\n",
       "        vertical-align: middle;\n",
       "    }\n",
       "\n",
       "    .dataframe tbody tr th {\n",
       "        vertical-align: top;\n",
       "    }\n",
       "\n",
       "    .dataframe thead th {\n",
       "        text-align: right;\n",
       "    }\n",
       "</style>\n",
       "<table border=\"1\" class=\"dataframe\">\n",
       "  <thead>\n",
       "    <tr style=\"text-align: right;\">\n",
       "      <th></th>\n",
       "      <th>代碼</th>\n",
       "      <th>學校名稱</th>\n",
       "      <th>公/私立</th>\n",
       "      <th>縣市名稱</th>\n",
       "      <th>地址</th>\n",
       "      <th>電話</th>\n",
       "      <th>網址</th>\n",
       "      <th>體系別</th>\n",
       "    </tr>\n",
       "  </thead>\n",
       "  <tbody>\n",
       "    <tr>\n",
       "      <th>26</th>\n",
       "      <td>32</td>\n",
       "      <td>國立聯合大學</td>\n",
       "      <td>公立</td>\n",
       "      <td>苗栗縣</td>\n",
       "      <td>[360]苗栗縣苗栗市恭敬里聯大1號</td>\n",
       "      <td>(037)381000</td>\n",
       "      <td>http://www.nuu.edu.tw</td>\n",
       "      <td>[1]一般</td>\n",
       "    </tr>\n",
       "    <tr>\n",
       "      <th>104</th>\n",
       "      <td>1063</td>\n",
       "      <td>育達科技大學</td>\n",
       "      <td>私立</td>\n",
       "      <td>苗栗縣</td>\n",
       "      <td>[361]苗栗縣造橋鄉談文村學府路168號</td>\n",
       "      <td>(037)651188</td>\n",
       "      <td>http://www.ydu.edu.tw</td>\n",
       "      <td>[2]技職</td>\n",
       "    </tr>\n",
       "    <tr>\n",
       "      <th>140</th>\n",
       "      <td>1283</td>\n",
       "      <td>仁德醫護管理專科學校</td>\n",
       "      <td>私立</td>\n",
       "      <td>苗栗縣</td>\n",
       "      <td>[356]苗栗縣後龍鎮溪洲里7鄰砂崙湖79之9號</td>\n",
       "      <td>(037)728855</td>\n",
       "      <td>http://jtwww.jente.edu.tw/bin/home.php</td>\n",
       "      <td>[2]技職</td>\n",
       "    </tr>\n",
       "  </tbody>\n",
       "</table>\n",
       "</div>"
      ],
      "text/plain": [
       "       代碼        學校名稱 公/私立 縣市名稱                        地址           電話  \\\n",
       "26     32      國立聯合大學   公立  苗栗縣        [360]苗栗縣苗栗市恭敬里聯大1號  (037)381000   \n",
       "104  1063      育達科技大學   私立  苗栗縣     [361]苗栗縣造橋鄉談文村學府路168號  (037)651188   \n",
       "140  1283  仁德醫護管理專科學校   私立  苗栗縣  [356]苗栗縣後龍鎮溪洲里7鄰砂崙湖79之9號  (037)728855   \n",
       "\n",
       "                                         網址    體系別  \n",
       "26                    http://www.nuu.edu.tw  [1]一般  \n",
       "104                   http://www.ydu.edu.tw  [2]技職  \n",
       "140  http://jtwww.jente.edu.tw/bin/home.php  [2]技職  "
      ]
     },
     "execution_count": 9,
     "metadata": {},
     "output_type": "execute_result"
    }
   ],
   "source": [
    "MiaoliUL = (university[\"縣市名稱\"] == \"苗栗縣\")\n",
    "MiaoliU = university[MiaoliUL]\n",
    "MiaoliAreakm = 1820.3149\n",
    "\n",
    "MMiUr=len(MiaoliU)/MiaoliAreakm\n",
    "MMiU=round(MMiUr,6) #四捨五入至小數點後 6 位\n",
    "\n",
    "print(\"共有\",len(MiaoliU),\"筆資料\")\n",
    "print(\"學校數量/縣市面積=\",MMiU,\"個/Km^2\")\n",
    "MiaoliU.head()"
   ]
  },
  {
   "cell_type": "code",
   "execution_count": 10,
   "id": "24b3af96",
   "metadata": {},
   "outputs": [
    {
     "name": "stdout",
     "output_type": "stream",
     "text": [
      "共有 17 筆資料\n",
      "學校數量/縣市面積= 0.007675 個/Km^2\n"
     ]
    },
    {
     "data": {
      "text/html": [
       "<div>\n",
       "<style scoped>\n",
       "    .dataframe tbody tr th:only-of-type {\n",
       "        vertical-align: middle;\n",
       "    }\n",
       "\n",
       "    .dataframe tbody tr th {\n",
       "        vertical-align: top;\n",
       "    }\n",
       "\n",
       "    .dataframe thead th {\n",
       "        text-align: right;\n",
       "    }\n",
       "</style>\n",
       "<table border=\"1\" class=\"dataframe\">\n",
       "  <thead>\n",
       "    <tr style=\"text-align: right;\">\n",
       "      <th></th>\n",
       "      <th>代碼</th>\n",
       "      <th>學校名稱</th>\n",
       "      <th>公/私立</th>\n",
       "      <th>縣市名稱</th>\n",
       "      <th>地址</th>\n",
       "      <th>電話</th>\n",
       "      <th>網址</th>\n",
       "      <th>體系別</th>\n",
       "    </tr>\n",
       "  </thead>\n",
       "  <tbody>\n",
       "    <tr>\n",
       "      <th>5</th>\n",
       "      <td>6</td>\n",
       "      <td>國立中興大學</td>\n",
       "      <td>公立</td>\n",
       "      <td>臺中市</td>\n",
       "      <td>[402]臺中市南區興大路145號</td>\n",
       "      <td>(04)22873181</td>\n",
       "      <td>http://www.nchu.edu.tw</td>\n",
       "      <td>[1]一般</td>\n",
       "    </tr>\n",
       "    <tr>\n",
       "      <th>31</th>\n",
       "      <td>39</td>\n",
       "      <td>國立臺中教育大學</td>\n",
       "      <td>公立</td>\n",
       "      <td>臺中市</td>\n",
       "      <td>[403]臺中市西區民生路140號</td>\n",
       "      <td>(04)22183199</td>\n",
       "      <td>http://www.ntcu.edu.tw</td>\n",
       "      <td>[3]師範</td>\n",
       "    </tr>\n",
       "    <tr>\n",
       "      <th>33</th>\n",
       "      <td>43</td>\n",
       "      <td>國立勤益科技大學</td>\n",
       "      <td>公立</td>\n",
       "      <td>臺中市</td>\n",
       "      <td>[411]臺中市太平區坪林里中山路二段57號</td>\n",
       "      <td>(04)23924505</td>\n",
       "      <td>http://www.ncut.edu.tw</td>\n",
       "      <td>[2]技職</td>\n",
       "    </tr>\n",
       "    <tr>\n",
       "      <th>38</th>\n",
       "      <td>49</td>\n",
       "      <td>國立臺灣體育運動大學</td>\n",
       "      <td>公立</td>\n",
       "      <td>臺中市</td>\n",
       "      <td>[404]臺中市北區雙十路一段16號</td>\n",
       "      <td>(04)22213108</td>\n",
       "      <td>http://www.ntus.edu.tw</td>\n",
       "      <td>[1]一般</td>\n",
       "    </tr>\n",
       "    <tr>\n",
       "      <th>39</th>\n",
       "      <td>50</td>\n",
       "      <td>國立臺中科技大學</td>\n",
       "      <td>公立</td>\n",
       "      <td>臺中市</td>\n",
       "      <td>[404]臺中市北區三民路三段129號</td>\n",
       "      <td>(04)22195678</td>\n",
       "      <td>http://www.nutc.edu.tw/bin/home.php</td>\n",
       "      <td>[2]技職</td>\n",
       "    </tr>\n",
       "  </tbody>\n",
       "</table>\n",
       "</div>"
      ],
      "text/plain": [
       "    代碼        學校名稱 公/私立 縣市名稱                      地址            電話  \\\n",
       "5    6      國立中興大學   公立  臺中市       [402]臺中市南區興大路145號  (04)22873181   \n",
       "31  39    國立臺中教育大學   公立  臺中市       [403]臺中市西區民生路140號  (04)22183199   \n",
       "33  43    國立勤益科技大學   公立  臺中市  [411]臺中市太平區坪林里中山路二段57號  (04)23924505   \n",
       "38  49  國立臺灣體育運動大學   公立  臺中市      [404]臺中市北區雙十路一段16號  (04)22213108   \n",
       "39  50    國立臺中科技大學   公立  臺中市     [404]臺中市北區三民路三段129號  (04)22195678   \n",
       "\n",
       "                                     網址    體系別  \n",
       "5                http://www.nchu.edu.tw  [1]一般  \n",
       "31               http://www.ntcu.edu.tw  [3]師範  \n",
       "33               http://www.ncut.edu.tw  [2]技職  \n",
       "38               http://www.ntus.edu.tw  [1]一般  \n",
       "39  http://www.nutc.edu.tw/bin/home.php  [2]技職  "
      ]
     },
     "execution_count": 10,
     "metadata": {},
     "output_type": "execute_result"
    }
   ],
   "source": [
    "TaichungUL = (university[\"縣市名稱\"] == \"臺中市\")\n",
    "TaichungU = university[TaichungUL]\n",
    "TaichungAreakm = 2214.8968\n",
    "\n",
    "MTcUr=len(TaichungU)/TaichungAreakm\n",
    "MTcU=round(MTcUr,6) #四捨五入至小數點後 6 位\n",
    "\n",
    "print(\"共有\",len(TaichungU),\"筆資料\")\n",
    "print(\"學校數量/縣市面積=\",MTcU,\"個/Km^2\")\n",
    "TaichungU.head()"
   ]
  },
  {
   "cell_type": "code",
   "execution_count": 11,
   "id": "f565685f",
   "metadata": {},
   "outputs": [
    {
     "name": "stdout",
     "output_type": "stream",
     "text": [
      "共有 5 筆資料\n",
      "學校數量/縣市面積= 0.004654 個/Km^2\n"
     ]
    },
    {
     "data": {
      "text/html": [
       "<div>\n",
       "<style scoped>\n",
       "    .dataframe tbody tr th:only-of-type {\n",
       "        vertical-align: middle;\n",
       "    }\n",
       "\n",
       "    .dataframe tbody tr th {\n",
       "        vertical-align: top;\n",
       "    }\n",
       "\n",
       "    .dataframe thead th {\n",
       "        text-align: right;\n",
       "    }\n",
       "</style>\n",
       "<table border=\"1\" class=\"dataframe\">\n",
       "  <thead>\n",
       "    <tr style=\"text-align: right;\">\n",
       "      <th></th>\n",
       "      <th>代碼</th>\n",
       "      <th>學校名稱</th>\n",
       "      <th>公/私立</th>\n",
       "      <th>縣市名稱</th>\n",
       "      <th>地址</th>\n",
       "      <th>電話</th>\n",
       "      <th>網址</th>\n",
       "      <th>體系別</th>\n",
       "    </tr>\n",
       "  </thead>\n",
       "  <tbody>\n",
       "    <tr>\n",
       "      <th>12</th>\n",
       "      <td>15</td>\n",
       "      <td>國立彰化師範大學</td>\n",
       "      <td>公立</td>\n",
       "      <td>彰化縣</td>\n",
       "      <td>[500]彰化縣彰化市進德路1號</td>\n",
       "      <td>(04)7232105</td>\n",
       "      <td>http://www.ncue.edu.tw</td>\n",
       "      <td>[3]師範</td>\n",
       "    </tr>\n",
       "    <tr>\n",
       "      <th>54</th>\n",
       "      <td>1012</td>\n",
       "      <td>大葉大學</td>\n",
       "      <td>私立</td>\n",
       "      <td>彰化縣</td>\n",
       "      <td>[515]彰化縣大村鄉學府路168號</td>\n",
       "      <td>(04)8511888</td>\n",
       "      <td>http://www.dyu.edu.tw</td>\n",
       "      <td>[1]一般</td>\n",
       "    </tr>\n",
       "    <tr>\n",
       "      <th>82</th>\n",
       "      <td>1040</td>\n",
       "      <td>建國科技大學</td>\n",
       "      <td>私立</td>\n",
       "      <td>彰化縣</td>\n",
       "      <td>[500]彰化縣彰化市介壽北路1號</td>\n",
       "      <td>(04)7111111</td>\n",
       "      <td>http://www.ctu.edu.tw</td>\n",
       "      <td>[2]技職</td>\n",
       "    </tr>\n",
       "    <tr>\n",
       "      <th>100</th>\n",
       "      <td>1058</td>\n",
       "      <td>明道大學</td>\n",
       "      <td>私立</td>\n",
       "      <td>彰化縣</td>\n",
       "      <td>[523]彰化縣埤頭鄉文化路369號</td>\n",
       "      <td>(04)8876660</td>\n",
       "      <td>http://www.mdu.edu.tw</td>\n",
       "      <td>[1]一般</td>\n",
       "    </tr>\n",
       "    <tr>\n",
       "      <th>109</th>\n",
       "      <td>1068</td>\n",
       "      <td>中州科技大學</td>\n",
       "      <td>私立</td>\n",
       "      <td>彰化縣</td>\n",
       "      <td>[510]彰化縣員林市山腳路三段2巷6號</td>\n",
       "      <td>(04)8359000</td>\n",
       "      <td>http://www.ccut.edu.tw</td>\n",
       "      <td>[2]技職</td>\n",
       "    </tr>\n",
       "  </tbody>\n",
       "</table>\n",
       "</div>"
      ],
      "text/plain": [
       "       代碼      學校名稱 公/私立 縣市名稱                    地址           電話  \\\n",
       "12     15  國立彰化師範大學   公立  彰化縣      [500]彰化縣彰化市進德路1號  (04)7232105   \n",
       "54   1012      大葉大學   私立  彰化縣    [515]彰化縣大村鄉學府路168號  (04)8511888   \n",
       "82   1040    建國科技大學   私立  彰化縣     [500]彰化縣彰化市介壽北路1號  (04)7111111   \n",
       "100  1058      明道大學   私立  彰化縣    [523]彰化縣埤頭鄉文化路369號  (04)8876660   \n",
       "109  1068    中州科技大學   私立  彰化縣  [510]彰化縣員林市山腳路三段2巷6號  (04)8359000   \n",
       "\n",
       "                         網址    體系別  \n",
       "12   http://www.ncue.edu.tw  [3]師範  \n",
       "54    http://www.dyu.edu.tw  [1]一般  \n",
       "82    http://www.ctu.edu.tw  [2]技職  \n",
       "100   http://www.mdu.edu.tw  [1]一般  \n",
       "109  http://www.ccut.edu.tw  [2]技職  "
      ]
     },
     "execution_count": 11,
     "metadata": {},
     "output_type": "execute_result"
    }
   ],
   "source": [
    "ChanghuaUL = (university[\"縣市名稱\"] == \"彰化縣\")\n",
    "ChanghuaU = university[ChanghuaUL]\n",
    "ChanghuaAreakm = 1074.3960\n",
    "\n",
    "MChUr=len(ChanghuaU)/ChanghuaAreakm\n",
    "MChU=round(MChUr,6) #四捨五入至小數點後 6 位\n",
    "\n",
    "print(\"共有\",len(ChanghuaU),\"筆資料\")\n",
    "print(\"學校數量/縣市面積=\",MChU,\"個/Km^2\")\n",
    "ChanghuaU.head()"
   ]
  },
  {
   "cell_type": "code",
   "execution_count": 12,
   "id": "93e4b19b",
   "metadata": {},
   "outputs": [
    {
     "name": "stdout",
     "output_type": "stream",
     "text": [
      "共有 2 筆資料\n",
      "學校數量/縣市面積= 0.000487 個/Km^2\n"
     ]
    },
    {
     "data": {
      "text/html": [
       "<div>\n",
       "<style scoped>\n",
       "    .dataframe tbody tr th:only-of-type {\n",
       "        vertical-align: middle;\n",
       "    }\n",
       "\n",
       "    .dataframe tbody tr th {\n",
       "        vertical-align: top;\n",
       "    }\n",
       "\n",
       "    .dataframe thead th {\n",
       "        text-align: right;\n",
       "    }\n",
       "</style>\n",
       "<table border=\"1\" class=\"dataframe\">\n",
       "  <thead>\n",
       "    <tr style=\"text-align: right;\">\n",
       "      <th></th>\n",
       "      <th>代碼</th>\n",
       "      <th>學校名稱</th>\n",
       "      <th>公/私立</th>\n",
       "      <th>縣市名稱</th>\n",
       "      <th>地址</th>\n",
       "      <th>電話</th>\n",
       "      <th>網址</th>\n",
       "      <th>體系別</th>\n",
       "    </tr>\n",
       "  </thead>\n",
       "  <tbody>\n",
       "    <tr>\n",
       "      <th>17</th>\n",
       "      <td>21</td>\n",
       "      <td>國立暨南國際大學</td>\n",
       "      <td>公立</td>\n",
       "      <td>南投縣</td>\n",
       "      <td>[545]南投縣埔里鎮大學路1號</td>\n",
       "      <td>(049)2910960#2996</td>\n",
       "      <td>http://www.ncnu.edu.tw</td>\n",
       "      <td>[1]一般</td>\n",
       "    </tr>\n",
       "    <tr>\n",
       "      <th>101</th>\n",
       "      <td>1060</td>\n",
       "      <td>南開科技大學</td>\n",
       "      <td>私立</td>\n",
       "      <td>南投縣</td>\n",
       "      <td>[542]南投縣草屯鎮中正路568號</td>\n",
       "      <td>(049)2563489</td>\n",
       "      <td>http://www.nkut.edu.tw</td>\n",
       "      <td>[2]技職</td>\n",
       "    </tr>\n",
       "  </tbody>\n",
       "</table>\n",
       "</div>"
      ],
      "text/plain": [
       "       代碼      學校名稱 公/私立 縣市名稱                  地址                 電話  \\\n",
       "17     21  國立暨南國際大學   公立  南投縣    [545]南投縣埔里鎮大學路1號  (049)2910960#2996   \n",
       "101  1060    南開科技大學   私立  南投縣  [542]南投縣草屯鎮中正路568號       (049)2563489   \n",
       "\n",
       "                         網址    體系別  \n",
       "17   http://www.ncnu.edu.tw  [1]一般  \n",
       "101  http://www.nkut.edu.tw  [2]技職  "
      ]
     },
     "execution_count": 12,
     "metadata": {},
     "output_type": "execute_result"
    }
   ],
   "source": [
    "NantouUL = (university[\"縣市名稱\"] == \"南投縣\")\n",
    "NantouU = university[NantouUL]\n",
    "NantouAreakm = 4106.4360\n",
    "\n",
    "MNUr=len(NantouU)/NantouAreakm\n",
    "MNU=round(MNUr,6) #四捨五入至小數點後 6 位\n",
    "\n",
    "print(\"共有\",len(NantouU),\"筆資料\")\n",
    "print(\"學校數量/縣市面積=\",MNU,\"個/Km^2\")\n",
    "NantouU.head()"
   ]
  },
  {
   "cell_type": "code",
   "execution_count": 13,
   "id": "13e1ca1f",
   "metadata": {},
   "outputs": [
    {
     "name": "stdout",
     "output_type": "stream",
     "text": [
      "共有 3 筆資料\n",
      "學校數量/縣市面積= 0.002324 個/Km^2\n"
     ]
    },
    {
     "data": {
      "text/html": [
       "<div>\n",
       "<style scoped>\n",
       "    .dataframe tbody tr th:only-of-type {\n",
       "        vertical-align: middle;\n",
       "    }\n",
       "\n",
       "    .dataframe tbody tr th {\n",
       "        vertical-align: top;\n",
       "    }\n",
       "\n",
       "    .dataframe thead th {\n",
       "        text-align: right;\n",
       "    }\n",
       "</style>\n",
       "<table border=\"1\" class=\"dataframe\">\n",
       "  <thead>\n",
       "    <tr style=\"text-align: right;\">\n",
       "      <th></th>\n",
       "      <th>代碼</th>\n",
       "      <th>學校名稱</th>\n",
       "      <th>公/私立</th>\n",
       "      <th>縣市名稱</th>\n",
       "      <th>地址</th>\n",
       "      <th>電話</th>\n",
       "      <th>網址</th>\n",
       "      <th>體系別</th>\n",
       "    </tr>\n",
       "  </thead>\n",
       "  <tbody>\n",
       "    <tr>\n",
       "      <th>19</th>\n",
       "      <td>23</td>\n",
       "      <td>國立雲林科技大學</td>\n",
       "      <td>公立</td>\n",
       "      <td>雲林縣</td>\n",
       "      <td>[640]雲林縣斗六市大學路三段123號</td>\n",
       "      <td>(05)5342601</td>\n",
       "      <td>http://www.yuntech.edu.tw</td>\n",
       "      <td>[2]技職</td>\n",
       "    </tr>\n",
       "    <tr>\n",
       "      <th>27</th>\n",
       "      <td>33</td>\n",
       "      <td>國立虎尾科技大學</td>\n",
       "      <td>公立</td>\n",
       "      <td>雲林縣</td>\n",
       "      <td>[632]雲林縣虎尾鎮文化路64號</td>\n",
       "      <td>(05)6315000</td>\n",
       "      <td>http://www.nfu.edu.tw</td>\n",
       "      <td>[2]技職</td>\n",
       "    </tr>\n",
       "    <tr>\n",
       "      <th>107</th>\n",
       "      <td>1066</td>\n",
       "      <td>環球科技大學</td>\n",
       "      <td>私立</td>\n",
       "      <td>雲林縣</td>\n",
       "      <td>[640]雲林縣斗六市嘉東里鎮南路1221號</td>\n",
       "      <td>(05)5370988</td>\n",
       "      <td>http://www.twu.edu.tw/</td>\n",
       "      <td>[2]技職</td>\n",
       "    </tr>\n",
       "  </tbody>\n",
       "</table>\n",
       "</div>"
      ],
      "text/plain": [
       "       代碼      學校名稱 公/私立 縣市名稱                      地址           電話  \\\n",
       "19     23  國立雲林科技大學   公立  雲林縣    [640]雲林縣斗六市大學路三段123號  (05)5342601   \n",
       "27     33  國立虎尾科技大學   公立  雲林縣       [632]雲林縣虎尾鎮文化路64號  (05)6315000   \n",
       "107  1066    環球科技大學   私立  雲林縣  [640]雲林縣斗六市嘉東里鎮南路1221號  (05)5370988   \n",
       "\n",
       "                            網址    體系別  \n",
       "19   http://www.yuntech.edu.tw  [2]技職  \n",
       "27       http://www.nfu.edu.tw  [2]技職  \n",
       "107     http://www.twu.edu.tw/  [2]技職  "
      ]
     },
     "execution_count": 13,
     "metadata": {},
     "output_type": "execute_result"
    }
   ],
   "source": [
    "YunlinUL = (university[\"縣市名稱\"] == \"雲林縣\")\n",
    "YunlinU = university[YunlinUL]\n",
    "YunlinAreakm = 1290.8326\n",
    "\n",
    "MYUr=len(YunlinU)/YunlinAreakm\n",
    "MYU=round(MYUr,6) #四捨五入至小數點後 6 位\n",
    "\n",
    "print(\"共有\",len(YunlinU),\"筆資料\")\n",
    "print(\"學校數量/縣市面積=\",MYU,\"個/Km^2\")\n",
    "YunlinU.head()"
   ]
  },
  {
   "cell_type": "code",
   "execution_count": 14,
   "id": "6cbbf2d2",
   "metadata": {},
   "outputs": [
    {
     "name": "stdout",
     "output_type": "stream",
     "text": [
      "共有 4 筆資料\n",
      "學校數量/縣市面積= 0.002101 個/Km^2\n"
     ]
    },
    {
     "data": {
      "text/html": [
       "<div>\n",
       "<style scoped>\n",
       "    .dataframe tbody tr th:only-of-type {\n",
       "        vertical-align: middle;\n",
       "    }\n",
       "\n",
       "    .dataframe tbody tr th {\n",
       "        vertical-align: top;\n",
       "    }\n",
       "\n",
       "    .dataframe thead th {\n",
       "        text-align: right;\n",
       "    }\n",
       "</style>\n",
       "<table border=\"1\" class=\"dataframe\">\n",
       "  <thead>\n",
       "    <tr style=\"text-align: right;\">\n",
       "      <th></th>\n",
       "      <th>代碼</th>\n",
       "      <th>學校名稱</th>\n",
       "      <th>公/私立</th>\n",
       "      <th>縣市名稱</th>\n",
       "      <th>地址</th>\n",
       "      <th>電話</th>\n",
       "      <th>網址</th>\n",
       "      <th>體系別</th>\n",
       "    </tr>\n",
       "  </thead>\n",
       "  <tbody>\n",
       "    <tr>\n",
       "      <th>10</th>\n",
       "      <td>13</td>\n",
       "      <td>國立中正大學</td>\n",
       "      <td>公立</td>\n",
       "      <td>嘉義縣</td>\n",
       "      <td>[621]嘉義縣民雄鄉三興村7鄰大學路一段168號</td>\n",
       "      <td>(05)2720411</td>\n",
       "      <td>http://www.ccu.edu.tw</td>\n",
       "      <td>[1]一般</td>\n",
       "    </tr>\n",
       "    <tr>\n",
       "      <th>62</th>\n",
       "      <td>1020</td>\n",
       "      <td>南華大學</td>\n",
       "      <td>私立</td>\n",
       "      <td>嘉義縣</td>\n",
       "      <td>[622]嘉義縣大林鎮南華路一段55號</td>\n",
       "      <td>(05)3102100</td>\n",
       "      <td>http://www.nhu.edu.tw</td>\n",
       "      <td>[1]一般</td>\n",
       "    </tr>\n",
       "    <tr>\n",
       "      <th>106</th>\n",
       "      <td>1065</td>\n",
       "      <td>吳鳳科技大學</td>\n",
       "      <td>私立</td>\n",
       "      <td>嘉義縣</td>\n",
       "      <td>[621]嘉義縣民雄鄉建國路二段117號</td>\n",
       "      <td>(05)2267125</td>\n",
       "      <td>http://www.wfu.edu.tw/</td>\n",
       "      <td>[2]技職</td>\n",
       "    </tr>\n",
       "    <tr>\n",
       "      <th>148</th>\n",
       "      <td>1293</td>\n",
       "      <td>崇仁醫護管理專科學校</td>\n",
       "      <td>私立</td>\n",
       "      <td>嘉義縣</td>\n",
       "      <td>[622]嘉義縣大林鎮湖北里大湖1之10號</td>\n",
       "      <td>(05)2658880</td>\n",
       "      <td>http://www.cjc.edu.tw/index.php</td>\n",
       "      <td>[2]技職</td>\n",
       "    </tr>\n",
       "  </tbody>\n",
       "</table>\n",
       "</div>"
      ],
      "text/plain": [
       "       代碼        學校名稱 公/私立 縣市名稱                         地址           電話  \\\n",
       "10     13      國立中正大學   公立  嘉義縣  [621]嘉義縣民雄鄉三興村7鄰大學路一段168號  (05)2720411   \n",
       "62   1020        南華大學   私立  嘉義縣        [622]嘉義縣大林鎮南華路一段55號  (05)3102100   \n",
       "106  1065      吳鳳科技大學   私立  嘉義縣       [621]嘉義縣民雄鄉建國路二段117號  (05)2267125   \n",
       "148  1293  崇仁醫護管理專科學校   私立  嘉義縣      [622]嘉義縣大林鎮湖北里大湖1之10號  (05)2658880   \n",
       "\n",
       "                                  網址    體系別  \n",
       "10             http://www.ccu.edu.tw  [1]一般  \n",
       "62             http://www.nhu.edu.tw  [1]一般  \n",
       "106           http://www.wfu.edu.tw/  [2]技職  \n",
       "148  http://www.cjc.edu.tw/index.php  [2]技職  "
      ]
     },
     "execution_count": 14,
     "metadata": {},
     "output_type": "execute_result"
    }
   ],
   "source": [
    "ChiayiCountyUL = (university[\"縣市名稱\"] == \"嘉義縣\")\n",
    "ChiayiCountyU = university[ChiayiCountyUL]\n",
    "ChiayiCountyAreakm = 1903.6367\n",
    "\n",
    "MCcUr=len(ChiayiCountyU)/ChiayiCountyAreakm\n",
    "MCcU=round(MCcUr,6) #四捨五入至小數點後 6 位\n",
    "\n",
    "print(\"共有\",len(ChiayiCountyU),\"筆資料\")\n",
    "print(\"學校數量/縣市面積=\",MCcU,\"個/Km^2\")\n",
    "ChiayiCountyU.head()"
   ]
  },
  {
   "cell_type": "code",
   "execution_count": 15,
   "id": "194ff73e",
   "metadata": {},
   "outputs": [
    {
     "name": "stdout",
     "output_type": "stream",
     "text": [
      "共有 2 筆資料\n",
      "學校數量/縣市面積= 0.033319 個/Km^2\n"
     ]
    },
    {
     "data": {
      "text/html": [
       "<div>\n",
       "<style scoped>\n",
       "    .dataframe tbody tr th:only-of-type {\n",
       "        vertical-align: middle;\n",
       "    }\n",
       "\n",
       "    .dataframe tbody tr th {\n",
       "        vertical-align: top;\n",
       "    }\n",
       "\n",
       "    .dataframe thead th {\n",
       "        text-align: right;\n",
       "    }\n",
       "</style>\n",
       "<table border=\"1\" class=\"dataframe\">\n",
       "  <thead>\n",
       "    <tr style=\"text-align: right;\">\n",
       "      <th></th>\n",
       "      <th>代碼</th>\n",
       "      <th>學校名稱</th>\n",
       "      <th>公/私立</th>\n",
       "      <th>縣市名稱</th>\n",
       "      <th>地址</th>\n",
       "      <th>電話</th>\n",
       "      <th>網址</th>\n",
       "      <th>體系別</th>\n",
       "    </tr>\n",
       "  </thead>\n",
       "  <tbody>\n",
       "    <tr>\n",
       "      <th>14</th>\n",
       "      <td>18</td>\n",
       "      <td>國立嘉義大學</td>\n",
       "      <td>公立</td>\n",
       "      <td>嘉義市</td>\n",
       "      <td>[600]嘉義市東區鹿寮里學府路300號</td>\n",
       "      <td>(05)2717000</td>\n",
       "      <td>http://www.ncyu.edu.tw</td>\n",
       "      <td>[1]一般</td>\n",
       "    </tr>\n",
       "    <tr>\n",
       "      <th>134</th>\n",
       "      <td>1188</td>\n",
       "      <td>大同技術學院</td>\n",
       "      <td>私立</td>\n",
       "      <td>嘉義市</td>\n",
       "      <td>[600]嘉義市東區彌陀路253號</td>\n",
       "      <td>(05)2223124</td>\n",
       "      <td>http://www.ttc.edu.tw</td>\n",
       "      <td>[2]技職</td>\n",
       "    </tr>\n",
       "  </tbody>\n",
       "</table>\n",
       "</div>"
      ],
      "text/plain": [
       "       代碼    學校名稱 公/私立 縣市名稱                    地址           電話  \\\n",
       "14     18  國立嘉義大學   公立  嘉義市  [600]嘉義市東區鹿寮里學府路300號  (05)2717000   \n",
       "134  1188  大同技術學院   私立  嘉義市     [600]嘉義市東區彌陀路253號  (05)2223124   \n",
       "\n",
       "                         網址    體系別  \n",
       "14   http://www.ncyu.edu.tw  [1]一般  \n",
       "134   http://www.ttc.edu.tw  [2]技職  "
      ]
     },
     "execution_count": 15,
     "metadata": {},
     "output_type": "execute_result"
    }
   ],
   "source": [
    "ChiayiUL = (university[\"縣市名稱\"] == \"嘉義市\")\n",
    "ChiayiU = university[ChiayiUL]\n",
    "ChiayiAreakm = 60.0256\n",
    "\n",
    "MCUr=len(ChiayiU)/ChiayiAreakm\n",
    "MCU=round(MCUr,6) #四捨五入至小數點後 6 位\n",
    "\n",
    "print(\"共有\",len(ChiayiU),\"筆資料\")\n",
    "print(\"學校數量/縣市面積=\",MCU,\"個/Km^2\")\n",
    "ChiayiU.head()"
   ]
  },
  {
   "cell_type": "code",
   "execution_count": 16,
   "id": "2786cbfe",
   "metadata": {},
   "outputs": [
    {
     "name": "stdout",
     "output_type": "stream",
     "text": [
      "共有 14 筆資料\n",
      "學校數量/縣市面積= 0.006388 個/Km^2\n"
     ]
    },
    {
     "data": {
      "text/html": [
       "<div>\n",
       "<style scoped>\n",
       "    .dataframe tbody tr th:only-of-type {\n",
       "        vertical-align: middle;\n",
       "    }\n",
       "\n",
       "    .dataframe tbody tr th {\n",
       "        vertical-align: top;\n",
       "    }\n",
       "\n",
       "    .dataframe thead th {\n",
       "        text-align: right;\n",
       "    }\n",
       "</style>\n",
       "<table border=\"1\" class=\"dataframe\">\n",
       "  <thead>\n",
       "    <tr style=\"text-align: right;\">\n",
       "      <th></th>\n",
       "      <th>代碼</th>\n",
       "      <th>學校名稱</th>\n",
       "      <th>公/私立</th>\n",
       "      <th>縣市名稱</th>\n",
       "      <th>地址</th>\n",
       "      <th>電話</th>\n",
       "      <th>網址</th>\n",
       "      <th>體系別</th>\n",
       "    </tr>\n",
       "  </thead>\n",
       "  <tbody>\n",
       "    <tr>\n",
       "      <th>4</th>\n",
       "      <td>5</td>\n",
       "      <td>國立成功大學</td>\n",
       "      <td>公立</td>\n",
       "      <td>臺南市</td>\n",
       "      <td>[701]臺南市東區大學路1號</td>\n",
       "      <td>(06)2757575</td>\n",
       "      <td>http://www.ncku.edu.tw</td>\n",
       "      <td>[1]一般</td>\n",
       "    </tr>\n",
       "    <tr>\n",
       "      <th>28</th>\n",
       "      <td>35</td>\n",
       "      <td>國立臺南藝術大學</td>\n",
       "      <td>公立</td>\n",
       "      <td>臺南市</td>\n",
       "      <td>[720]臺南市官田區大崎里大崎66號</td>\n",
       "      <td>(06)6930100</td>\n",
       "      <td>http://www.tnnua.edu.tw</td>\n",
       "      <td>[1]一般</td>\n",
       "    </tr>\n",
       "    <tr>\n",
       "      <th>29</th>\n",
       "      <td>36</td>\n",
       "      <td>國立臺南大學</td>\n",
       "      <td>公立</td>\n",
       "      <td>臺南市</td>\n",
       "      <td>[700]臺南市中西區樹林街二段33號</td>\n",
       "      <td>(06)2133111</td>\n",
       "      <td>http://web.nutn.edu.tw</td>\n",
       "      <td>[1]一般</td>\n",
       "    </tr>\n",
       "    <tr>\n",
       "      <th>65</th>\n",
       "      <td>1023</td>\n",
       "      <td>南臺科技大學</td>\n",
       "      <td>私立</td>\n",
       "      <td>臺南市</td>\n",
       "      <td>[710]臺南市永康區尚頂里南臺街1號</td>\n",
       "      <td>(06)2533131</td>\n",
       "      <td>http://www.stust.edu.tw</td>\n",
       "      <td>[2]技職</td>\n",
       "    </tr>\n",
       "    <tr>\n",
       "      <th>66</th>\n",
       "      <td>1024</td>\n",
       "      <td>崑山科技大學</td>\n",
       "      <td>私立</td>\n",
       "      <td>臺南市</td>\n",
       "      <td>[710]臺南市永康區崑大路195號</td>\n",
       "      <td>(06)2727175</td>\n",
       "      <td>http://www.ksu.edu.tw</td>\n",
       "      <td>[2]技職</td>\n",
       "    </tr>\n",
       "  </tbody>\n",
       "</table>\n",
       "</div>"
      ],
      "text/plain": [
       "      代碼      學校名稱 公/私立 縣市名稱                   地址           電話  \\\n",
       "4      5    國立成功大學   公立  臺南市      [701]臺南市東區大學路1號  (06)2757575   \n",
       "28    35  國立臺南藝術大學   公立  臺南市  [720]臺南市官田區大崎里大崎66號  (06)6930100   \n",
       "29    36    國立臺南大學   公立  臺南市  [700]臺南市中西區樹林街二段33號  (06)2133111   \n",
       "65  1023    南臺科技大學   私立  臺南市  [710]臺南市永康區尚頂里南臺街1號  (06)2533131   \n",
       "66  1024    崑山科技大學   私立  臺南市   [710]臺南市永康區崑大路195號  (06)2727175   \n",
       "\n",
       "                         網址    體系別  \n",
       "4    http://www.ncku.edu.tw  [1]一般  \n",
       "28  http://www.tnnua.edu.tw  [1]一般  \n",
       "29   http://web.nutn.edu.tw  [1]一般  \n",
       "65  http://www.stust.edu.tw  [2]技職  \n",
       "66    http://www.ksu.edu.tw  [2]技職  "
      ]
     },
     "execution_count": 16,
     "metadata": {},
     "output_type": "execute_result"
    }
   ],
   "source": [
    "TainanUL = (university[\"縣市名稱\"] == \"臺南市\")\n",
    "TainanU = university[TainanUL]\n",
    "TainanAreakm = 2191.6531\n",
    "\n",
    "MTnUr=len(TainanU)/TainanAreakm\n",
    "MTnU=round(MTnUr,6) #四捨五入至小數點後 6 位\n",
    "\n",
    "print(\"共有\",len(TainanU),\"筆資料\")\n",
    "print(\"學校數量/縣市面積=\",MTnU,\"個/Km^2\")\n",
    "TainanU.head()"
   ]
  },
  {
   "cell_type": "code",
   "execution_count": 17,
   "id": "e1c98eef",
   "metadata": {},
   "outputs": [
    {
     "name": "stdout",
     "output_type": "stream",
     "text": [
      "共有 16 筆資料\n",
      "學校數量/縣市面積= 0.00542 個/Km^2\n"
     ]
    },
    {
     "data": {
      "text/html": [
       "<div>\n",
       "<style scoped>\n",
       "    .dataframe tbody tr th:only-of-type {\n",
       "        vertical-align: middle;\n",
       "    }\n",
       "\n",
       "    .dataframe tbody tr th {\n",
       "        vertical-align: top;\n",
       "    }\n",
       "\n",
       "    .dataframe thead th {\n",
       "        text-align: right;\n",
       "    }\n",
       "</style>\n",
       "<table border=\"1\" class=\"dataframe\">\n",
       "  <thead>\n",
       "    <tr style=\"text-align: right;\">\n",
       "      <th></th>\n",
       "      <th>代碼</th>\n",
       "      <th>學校名稱</th>\n",
       "      <th>公/私立</th>\n",
       "      <th>縣市名稱</th>\n",
       "      <th>地址</th>\n",
       "      <th>電話</th>\n",
       "      <th>網址</th>\n",
       "      <th>體系別</th>\n",
       "    </tr>\n",
       "  </thead>\n",
       "  <tbody>\n",
       "    <tr>\n",
       "      <th>8</th>\n",
       "      <td>9</td>\n",
       "      <td>國立中山大學</td>\n",
       "      <td>公立</td>\n",
       "      <td>高雄市</td>\n",
       "      <td>[804]高雄市鼓山區蓮海路70號</td>\n",
       "      <td>(07)5252000</td>\n",
       "      <td>http://www.nsysu.edu.tw</td>\n",
       "      <td>[1]一般</td>\n",
       "    </tr>\n",
       "    <tr>\n",
       "      <th>11</th>\n",
       "      <td>14</td>\n",
       "      <td>國立高雄師範大學</td>\n",
       "      <td>公立</td>\n",
       "      <td>高雄市</td>\n",
       "      <td>[802]高雄市苓雅區和平一路116號</td>\n",
       "      <td>(07)7172930</td>\n",
       "      <td>http://www.nknu.edu.tw</td>\n",
       "      <td>[3]師範</td>\n",
       "    </tr>\n",
       "    <tr>\n",
       "      <th>15</th>\n",
       "      <td>19</td>\n",
       "      <td>國立高雄大學</td>\n",
       "      <td>公立</td>\n",
       "      <td>高雄市</td>\n",
       "      <td>[811]高雄市楠梓區高雄大學路700號</td>\n",
       "      <td>(07)5919000</td>\n",
       "      <td>http://www.nuk.edu.tw</td>\n",
       "      <td>[1]一般</td>\n",
       "    </tr>\n",
       "    <tr>\n",
       "      <th>36</th>\n",
       "      <td>47</td>\n",
       "      <td>國立高雄餐旅大學</td>\n",
       "      <td>公立</td>\n",
       "      <td>高雄市</td>\n",
       "      <td>[812]高雄市小港區松和路1號</td>\n",
       "      <td>(07)8060505</td>\n",
       "      <td>http://www.nkuht.edu.tw</td>\n",
       "      <td>[2]技職</td>\n",
       "    </tr>\n",
       "    <tr>\n",
       "      <th>42</th>\n",
       "      <td>53</td>\n",
       "      <td>國立高雄科技大學</td>\n",
       "      <td>公立</td>\n",
       "      <td>高雄市</td>\n",
       "      <td>[807]高雄市三民區建工路415號</td>\n",
       "      <td>(07)3814526</td>\n",
       "      <td>http://www.nkust.edu.tw</td>\n",
       "      <td>[2]技職</td>\n",
       "    </tr>\n",
       "  </tbody>\n",
       "</table>\n",
       "</div>"
      ],
      "text/plain": [
       "    代碼      學校名稱 公/私立 縣市名稱                    地址           電話  \\\n",
       "8    9    國立中山大學   公立  高雄市     [804]高雄市鼓山區蓮海路70號  (07)5252000   \n",
       "11  14  國立高雄師範大學   公立  高雄市   [802]高雄市苓雅區和平一路116號  (07)7172930   \n",
       "15  19    國立高雄大學   公立  高雄市  [811]高雄市楠梓區高雄大學路700號  (07)5919000   \n",
       "36  47  國立高雄餐旅大學   公立  高雄市      [812]高雄市小港區松和路1號  (07)8060505   \n",
       "42  53  國立高雄科技大學   公立  高雄市    [807]高雄市三民區建工路415號  (07)3814526   \n",
       "\n",
       "                         網址    體系別  \n",
       "8   http://www.nsysu.edu.tw  [1]一般  \n",
       "11   http://www.nknu.edu.tw  [3]師範  \n",
       "15    http://www.nuk.edu.tw  [1]一般  \n",
       "36  http://www.nkuht.edu.tw  [2]技職  \n",
       "42  http://www.nkust.edu.tw  [2]技職  "
      ]
     },
     "execution_count": 17,
     "metadata": {},
     "output_type": "execute_result"
    }
   ],
   "source": [
    "KaohsiungUL = (university[\"縣市名稱\"] == \"高雄市\")\n",
    "KaohsiungU = university[KaohsiungUL]\n",
    "KaohsiungAreakm = 2951.8524\n",
    "\n",
    "MKhUr=len(KaohsiungU)/KaohsiungAreakm\n",
    "MKhU=round(MKhUr,6) #四捨五入至小數點後 6 位\n",
    "\n",
    "print(\"共有\",len(KaohsiungU),\"筆資料\")\n",
    "print(\"學校數量/縣市面積=\",MKhU,\"個/Km^2\")\n",
    "KaohsiungU.head()"
   ]
  },
  {
   "cell_type": "code",
   "execution_count": 18,
   "id": "dc114f65",
   "metadata": {},
   "outputs": [
    {
     "name": "stdout",
     "output_type": "stream",
     "text": [
      "共有 5 筆資料\n",
      "學校數量/縣市面積= 0.001801 個/Km^2\n"
     ]
    },
    {
     "data": {
      "text/html": [
       "<div>\n",
       "<style scoped>\n",
       "    .dataframe tbody tr th:only-of-type {\n",
       "        vertical-align: middle;\n",
       "    }\n",
       "\n",
       "    .dataframe tbody tr th {\n",
       "        vertical-align: top;\n",
       "    }\n",
       "\n",
       "    .dataframe thead th {\n",
       "        text-align: right;\n",
       "    }\n",
       "</style>\n",
       "<table border=\"1\" class=\"dataframe\">\n",
       "  <thead>\n",
       "    <tr style=\"text-align: right;\">\n",
       "      <th></th>\n",
       "      <th>代碼</th>\n",
       "      <th>學校名稱</th>\n",
       "      <th>公/私立</th>\n",
       "      <th>縣市名稱</th>\n",
       "      <th>地址</th>\n",
       "      <th>電話</th>\n",
       "      <th>網址</th>\n",
       "      <th>體系別</th>\n",
       "    </tr>\n",
       "  </thead>\n",
       "  <tbody>\n",
       "    <tr>\n",
       "      <th>20</th>\n",
       "      <td>24</td>\n",
       "      <td>國立屏東科技大學</td>\n",
       "      <td>公立</td>\n",
       "      <td>屏東縣</td>\n",
       "      <td>[912]屏東縣內埔鄉老埤村學府路1號</td>\n",
       "      <td>(08)7703202</td>\n",
       "      <td>http://www.npust.edu.tw</td>\n",
       "      <td>[2]技職</td>\n",
       "    </tr>\n",
       "    <tr>\n",
       "      <th>41</th>\n",
       "      <td>52</td>\n",
       "      <td>國立屏東大學</td>\n",
       "      <td>公立</td>\n",
       "      <td>屏東縣</td>\n",
       "      <td>[900]屏東縣屏東市民生路4-18號</td>\n",
       "      <td>(08)7663800</td>\n",
       "      <td>http://www.nptu.edu.tw</td>\n",
       "      <td>[1]一般</td>\n",
       "    </tr>\n",
       "    <tr>\n",
       "      <th>85</th>\n",
       "      <td>1043</td>\n",
       "      <td>大仁科技大學</td>\n",
       "      <td>私立</td>\n",
       "      <td>屏東縣</td>\n",
       "      <td>[907]屏東縣鹽埔鄉新二村維新路20號</td>\n",
       "      <td>(08)7624002~5</td>\n",
       "      <td>http://www.tajen.edu.tw</td>\n",
       "      <td>[2]技職</td>\n",
       "    </tr>\n",
       "    <tr>\n",
       "      <th>105</th>\n",
       "      <td>1064</td>\n",
       "      <td>美和科技大學</td>\n",
       "      <td>私立</td>\n",
       "      <td>屏東縣</td>\n",
       "      <td>[912]屏東縣內埔鄉美和村屏光路23號</td>\n",
       "      <td>(08)7799821</td>\n",
       "      <td>http://www.meiho.edu.tw</td>\n",
       "      <td>[2]技職</td>\n",
       "    </tr>\n",
       "    <tr>\n",
       "      <th>142</th>\n",
       "      <td>1285</td>\n",
       "      <td>慈惠醫護管理專科學校</td>\n",
       "      <td>私立</td>\n",
       "      <td>屏東縣</td>\n",
       "      <td>[926]屏東縣南州鄉三民路367號</td>\n",
       "      <td>(08)8647367</td>\n",
       "      <td>http://www.tzuhui.edu.tw</td>\n",
       "      <td>[2]技職</td>\n",
       "    </tr>\n",
       "  </tbody>\n",
       "</table>\n",
       "</div>"
      ],
      "text/plain": [
       "       代碼        學校名稱 公/私立 縣市名稱                    地址             電話  \\\n",
       "20     24    國立屏東科技大學   公立  屏東縣   [912]屏東縣內埔鄉老埤村學府路1號    (08)7703202   \n",
       "41     52      國立屏東大學   公立  屏東縣   [900]屏東縣屏東市民生路4-18號    (08)7663800   \n",
       "85   1043      大仁科技大學   私立  屏東縣  [907]屏東縣鹽埔鄉新二村維新路20號  (08)7624002~5   \n",
       "105  1064      美和科技大學   私立  屏東縣  [912]屏東縣內埔鄉美和村屏光路23號    (08)7799821   \n",
       "142  1285  慈惠醫護管理專科學校   私立  屏東縣    [926]屏東縣南州鄉三民路367號    (08)8647367   \n",
       "\n",
       "                           網址    體系別  \n",
       "20    http://www.npust.edu.tw  [2]技職  \n",
       "41     http://www.nptu.edu.tw  [1]一般  \n",
       "85    http://www.tajen.edu.tw  [2]技職  \n",
       "105   http://www.meiho.edu.tw  [2]技職  \n",
       "142  http://www.tzuhui.edu.tw  [2]技職  "
      ]
     },
     "execution_count": 18,
     "metadata": {},
     "output_type": "execute_result"
    }
   ],
   "source": [
    "PingtungUL = (university[\"縣市名稱\"] == \"屏東縣\")\n",
    "PingtungU = university[PingtungUL]\n",
    "PingtungAreakm = 2775.6003\n",
    "\n",
    "MPUr=len(PingtungU)/PingtungAreakm\n",
    "MPU=round(MPUr,6) #四捨五入至小數點後 6 位\n",
    "\n",
    "print(\"共有\",len(PingtungU),\"筆資料\")\n",
    "print(\"學校數量/縣市面積=\",MPU,\"個/Km^2\")\n",
    "PingtungU.head()"
   ]
  },
  {
   "cell_type": "code",
   "execution_count": 19,
   "id": "37c66377",
   "metadata": {},
   "outputs": [
    {
     "name": "stdout",
     "output_type": "stream",
     "text": [
      "共有 4 筆資料\n",
      "學校數量/縣市面積= 0.001866 個/Km^2\n"
     ]
    },
    {
     "data": {
      "text/html": [
       "<div>\n",
       "<style scoped>\n",
       "    .dataframe tbody tr th:only-of-type {\n",
       "        vertical-align: middle;\n",
       "    }\n",
       "\n",
       "    .dataframe tbody tr th {\n",
       "        vertical-align: top;\n",
       "    }\n",
       "\n",
       "    .dataframe thead th {\n",
       "        text-align: right;\n",
       "    }\n",
       "</style>\n",
       "<table border=\"1\" class=\"dataframe\">\n",
       "  <thead>\n",
       "    <tr style=\"text-align: right;\">\n",
       "      <th></th>\n",
       "      <th>代碼</th>\n",
       "      <th>學校名稱</th>\n",
       "      <th>公/私立</th>\n",
       "      <th>縣市名稱</th>\n",
       "      <th>地址</th>\n",
       "      <th>電話</th>\n",
       "      <th>網址</th>\n",
       "      <th>體系別</th>\n",
       "    </tr>\n",
       "  </thead>\n",
       "  <tbody>\n",
       "    <tr>\n",
       "      <th>25</th>\n",
       "      <td>31</td>\n",
       "      <td>國立宜蘭大學</td>\n",
       "      <td>公立</td>\n",
       "      <td>宜蘭縣</td>\n",
       "      <td>[260]宜蘭縣宜蘭市神農路一段1號</td>\n",
       "      <td>(03)9357400</td>\n",
       "      <td>http://www.niu.edu.tw</td>\n",
       "      <td>[1]一般</td>\n",
       "    </tr>\n",
       "    <tr>\n",
       "      <th>92</th>\n",
       "      <td>1050</td>\n",
       "      <td>佛光大學</td>\n",
       "      <td>私立</td>\n",
       "      <td>宜蘭縣</td>\n",
       "      <td>[262]宜蘭縣礁溪鄉林美村林尾路160號</td>\n",
       "      <td>(03)9871000</td>\n",
       "      <td>http://www.fgu.edu.tw</td>\n",
       "      <td>[1]一般</td>\n",
       "    </tr>\n",
       "    <tr>\n",
       "      <th>131</th>\n",
       "      <td>1182</td>\n",
       "      <td>蘭陽技術學院</td>\n",
       "      <td>私立</td>\n",
       "      <td>宜蘭縣</td>\n",
       "      <td>[261]宜蘭縣頭城鎮復興路79號</td>\n",
       "      <td>(03)9771997</td>\n",
       "      <td>http://www.fit.edu.tw</td>\n",
       "      <td>[2]技職</td>\n",
       "    </tr>\n",
       "    <tr>\n",
       "      <th>146</th>\n",
       "      <td>1291</td>\n",
       "      <td>聖母醫護管理專科學校</td>\n",
       "      <td>私立</td>\n",
       "      <td>宜蘭縣</td>\n",
       "      <td>[266]宜蘭縣三星鄉三星路二段265巷100號</td>\n",
       "      <td>(03)9897396</td>\n",
       "      <td>http://www.smc.edu.tw/</td>\n",
       "      <td>[2]技職</td>\n",
       "    </tr>\n",
       "  </tbody>\n",
       "</table>\n",
       "</div>"
      ],
      "text/plain": [
       "       代碼        學校名稱 公/私立 縣市名稱                        地址           電話  \\\n",
       "25     31      國立宜蘭大學   公立  宜蘭縣        [260]宜蘭縣宜蘭市神農路一段1號  (03)9357400   \n",
       "92   1050        佛光大學   私立  宜蘭縣     [262]宜蘭縣礁溪鄉林美村林尾路160號  (03)9871000   \n",
       "131  1182      蘭陽技術學院   私立  宜蘭縣         [261]宜蘭縣頭城鎮復興路79號  (03)9771997   \n",
       "146  1291  聖母醫護管理專科學校   私立  宜蘭縣  [266]宜蘭縣三星鄉三星路二段265巷100號  (03)9897396   \n",
       "\n",
       "                         網址    體系別  \n",
       "25    http://www.niu.edu.tw  [1]一般  \n",
       "92    http://www.fgu.edu.tw  [1]一般  \n",
       "131   http://www.fit.edu.tw  [2]技職  \n",
       "146  http://www.smc.edu.tw/  [2]技職  "
      ]
     },
     "execution_count": 19,
     "metadata": {},
     "output_type": "execute_result"
    }
   ],
   "source": [
    "YilanUL = (university[\"縣市名稱\"] == \"宜蘭縣\")\n",
    "YilanU = university[YilanUL]\n",
    "YilanAreakm = 2143.6251\n",
    "\n",
    "MYiUr=len(YilanU)/YilanAreakm\n",
    "MYiU=round(MYiUr,6) #四捨五入至小數點後 6 位\n",
    "\n",
    "print(\"共有\",len(YilanU),\"筆資料\")\n",
    "print(\"學校數量/縣市面積=\",MYiU,\"個/Km^2\")\n",
    "YilanU.head()"
   ]
  },
  {
   "cell_type": "code",
   "execution_count": 20,
   "id": "dac08500",
   "metadata": {},
   "outputs": [
    {
     "name": "stdout",
     "output_type": "stream",
     "text": [
      "共有 4 筆資料\n",
      "學校數量/縣市面積= 0.000864 個/Km^2\n"
     ]
    },
    {
     "data": {
      "text/html": [
       "<div>\n",
       "<style scoped>\n",
       "    .dataframe tbody tr th:only-of-type {\n",
       "        vertical-align: middle;\n",
       "    }\n",
       "\n",
       "    .dataframe tbody tr th {\n",
       "        vertical-align: top;\n",
       "    }\n",
       "\n",
       "    .dataframe thead th {\n",
       "        text-align: right;\n",
       "    }\n",
       "</style>\n",
       "<table border=\"1\" class=\"dataframe\">\n",
       "  <thead>\n",
       "    <tr style=\"text-align: right;\">\n",
       "      <th></th>\n",
       "      <th>代碼</th>\n",
       "      <th>學校名稱</th>\n",
       "      <th>公/私立</th>\n",
       "      <th>縣市名稱</th>\n",
       "      <th>地址</th>\n",
       "      <th>電話</th>\n",
       "      <th>網址</th>\n",
       "      <th>體系別</th>\n",
       "    </tr>\n",
       "  </thead>\n",
       "  <tbody>\n",
       "    <tr>\n",
       "      <th>16</th>\n",
       "      <td>20</td>\n",
       "      <td>國立東華大學</td>\n",
       "      <td>公立</td>\n",
       "      <td>花蓮縣</td>\n",
       "      <td>[974]花蓮縣壽豐鄉志學村大學路二段1號</td>\n",
       "      <td>(03)8903000</td>\n",
       "      <td>http://www.ndhu.edu.tw</td>\n",
       "      <td>[1]一般</td>\n",
       "    </tr>\n",
       "    <tr>\n",
       "      <th>69</th>\n",
       "      <td>1027</td>\n",
       "      <td>慈濟大學</td>\n",
       "      <td>私立</td>\n",
       "      <td>花蓮縣</td>\n",
       "      <td>[970]花蓮縣花蓮市中央路三段701號</td>\n",
       "      <td>(03)8565301</td>\n",
       "      <td>http://www.tcu.edu.tw</td>\n",
       "      <td>[1]一般</td>\n",
       "    </tr>\n",
       "    <tr>\n",
       "      <th>117</th>\n",
       "      <td>1077</td>\n",
       "      <td>慈濟科技大學</td>\n",
       "      <td>私立</td>\n",
       "      <td>花蓮縣</td>\n",
       "      <td>[970]花蓮縣花蓮市建國路二段880號</td>\n",
       "      <td>(03)8572158</td>\n",
       "      <td>http://www.tcust.edu.tw</td>\n",
       "      <td>[2]技職</td>\n",
       "    </tr>\n",
       "    <tr>\n",
       "      <th>128</th>\n",
       "      <td>1148</td>\n",
       "      <td>大漢技術學院</td>\n",
       "      <td>私立</td>\n",
       "      <td>花蓮縣</td>\n",
       "      <td>[971]花蓮縣新城鄉大漢村樹人街1號</td>\n",
       "      <td>(03)8210888</td>\n",
       "      <td>http://www.dahan.edu.tw</td>\n",
       "      <td>[2]技職</td>\n",
       "    </tr>\n",
       "  </tbody>\n",
       "</table>\n",
       "</div>"
      ],
      "text/plain": [
       "       代碼    學校名稱 公/私立 縣市名稱                     地址           電話  \\\n",
       "16     20  國立東華大學   公立  花蓮縣  [974]花蓮縣壽豐鄉志學村大學路二段1號  (03)8903000   \n",
       "69   1027    慈濟大學   私立  花蓮縣   [970]花蓮縣花蓮市中央路三段701號  (03)8565301   \n",
       "117  1077  慈濟科技大學   私立  花蓮縣   [970]花蓮縣花蓮市建國路二段880號  (03)8572158   \n",
       "128  1148  大漢技術學院   私立  花蓮縣    [971]花蓮縣新城鄉大漢村樹人街1號  (03)8210888   \n",
       "\n",
       "                          網址    體系別  \n",
       "16    http://www.ndhu.edu.tw  [1]一般  \n",
       "69     http://www.tcu.edu.tw  [1]一般  \n",
       "117  http://www.tcust.edu.tw  [2]技職  \n",
       "128  http://www.dahan.edu.tw  [2]技職  "
      ]
     },
     "execution_count": 20,
     "metadata": {},
     "output_type": "execute_result"
    }
   ],
   "source": [
    "HualienUL = (university[\"縣市名稱\"] == \"花蓮縣\")\n",
    "HualienU = university[HualienUL]\n",
    "HualienAreakm = 4628.5714\n",
    "\n",
    "MHuaUr=len(HualienU)/HualienAreakm\n",
    "MHuaU=round(MHuaUr,6) #四捨五入至小數點後 6 位\n",
    "\n",
    "print(\"共有\",len(HualienU),\"筆資料\")\n",
    "print(\"學校數量/縣市面積=\",MHuaU,\"個/Km^2\")\n",
    "HualienU.head()"
   ]
  },
  {
   "cell_type": "code",
   "execution_count": 21,
   "id": "64dc7410",
   "metadata": {},
   "outputs": [
    {
     "name": "stdout",
     "output_type": "stream",
     "text": [
      "共有 2 筆資料\n",
      "學校數量/縣市面積= 0.000569 個/Km^2\n"
     ]
    },
    {
     "data": {
      "text/html": [
       "<div>\n",
       "<style scoped>\n",
       "    .dataframe tbody tr th:only-of-type {\n",
       "        vertical-align: middle;\n",
       "    }\n",
       "\n",
       "    .dataframe tbody tr th {\n",
       "        vertical-align: top;\n",
       "    }\n",
       "\n",
       "    .dataframe thead th {\n",
       "        text-align: right;\n",
       "    }\n",
       "</style>\n",
       "<table border=\"1\" class=\"dataframe\">\n",
       "  <thead>\n",
       "    <tr style=\"text-align: right;\">\n",
       "      <th></th>\n",
       "      <th>代碼</th>\n",
       "      <th>學校名稱</th>\n",
       "      <th>公/私立</th>\n",
       "      <th>縣市名稱</th>\n",
       "      <th>地址</th>\n",
       "      <th>電話</th>\n",
       "      <th>網址</th>\n",
       "      <th>體系別</th>\n",
       "    </tr>\n",
       "  </thead>\n",
       "  <tbody>\n",
       "    <tr>\n",
       "      <th>24</th>\n",
       "      <td>30</td>\n",
       "      <td>國立臺東大學</td>\n",
       "      <td>公立</td>\n",
       "      <td>臺東縣</td>\n",
       "      <td>[950]臺東縣臺東市大學路二段369號</td>\n",
       "      <td>(089)318855</td>\n",
       "      <td>http://www.nttu.edu.tw</td>\n",
       "      <td>[1]一般</td>\n",
       "    </tr>\n",
       "    <tr>\n",
       "      <th>138</th>\n",
       "      <td>222</td>\n",
       "      <td>國立臺東專科學校</td>\n",
       "      <td>公立</td>\n",
       "      <td>臺東縣</td>\n",
       "      <td>[950]臺東縣臺東市正氣北路889號</td>\n",
       "      <td>(089)226389#6000</td>\n",
       "      <td>http://www.ntc.edu.tw</td>\n",
       "      <td>[2]技職</td>\n",
       "    </tr>\n",
       "  </tbody>\n",
       "</table>\n",
       "</div>"
      ],
      "text/plain": [
       "      代碼      學校名稱 公/私立 縣市名稱                    地址                 電話  \\\n",
       "24    30    國立臺東大學   公立  臺東縣  [950]臺東縣臺東市大學路二段369號        (089)318855   \n",
       "138  222  國立臺東專科學校   公立  臺東縣   [950]臺東縣臺東市正氣北路889號  (089)226389#6000　   \n",
       "\n",
       "                         網址    體系別  \n",
       "24   http://www.nttu.edu.tw  [1]一般  \n",
       "138   http://www.ntc.edu.tw  [2]技職  "
      ]
     },
     "execution_count": 21,
     "metadata": {},
     "output_type": "execute_result"
    }
   ],
   "source": [
    "TaitungUL = (university[\"縣市名稱\"] == \"臺東縣\")\n",
    "TaitungU = university[TaitungUL]\n",
    "TaitungAreakm = 3515.2526\n",
    "\n",
    "MTtUr=len(TaitungU)/TaitungAreakm\n",
    "MTtU=round(MTtUr,6) #四捨五入至小數點後 6 位\n",
    "\n",
    "print(\"共有\",len(TaitungU),\"筆資料\")\n",
    "print(\"學校數量/縣市面積=\",MTtU,\"個/Km^2\")\n",
    "TaitungU.head()"
   ]
  },
  {
   "cell_type": "code",
   "execution_count": 22,
   "id": "4f77527c",
   "metadata": {},
   "outputs": [
    {
     "name": "stdout",
     "output_type": "stream",
     "text": [
      "共有 1 筆資料\n",
      "學校數量/縣市面積= 0.008 個/Km^2\n"
     ]
    },
    {
     "data": {
      "text/html": [
       "<div>\n",
       "<style scoped>\n",
       "    .dataframe tbody tr th:only-of-type {\n",
       "        vertical-align: middle;\n",
       "    }\n",
       "\n",
       "    .dataframe tbody tr th {\n",
       "        vertical-align: top;\n",
       "    }\n",
       "\n",
       "    .dataframe thead th {\n",
       "        text-align: right;\n",
       "    }\n",
       "</style>\n",
       "<table border=\"1\" class=\"dataframe\">\n",
       "  <thead>\n",
       "    <tr style=\"text-align: right;\">\n",
       "      <th></th>\n",
       "      <th>代碼</th>\n",
       "      <th>學校名稱</th>\n",
       "      <th>公/私立</th>\n",
       "      <th>縣市名稱</th>\n",
       "      <th>地址</th>\n",
       "      <th>電話</th>\n",
       "      <th>網址</th>\n",
       "      <th>體系別</th>\n",
       "    </tr>\n",
       "  </thead>\n",
       "  <tbody>\n",
       "    <tr>\n",
       "      <th>32</th>\n",
       "      <td>42</td>\n",
       "      <td>國立澎湖科技大學</td>\n",
       "      <td>公立</td>\n",
       "      <td>澎湖縣</td>\n",
       "      <td>[880]澎湖縣馬公市六合路300號</td>\n",
       "      <td>(06)9264115</td>\n",
       "      <td>http://www.npu.edu.tw</td>\n",
       "      <td>[2]技職</td>\n",
       "    </tr>\n",
       "  </tbody>\n",
       "</table>\n",
       "</div>"
      ],
      "text/plain": [
       "    代碼      學校名稱 公/私立 縣市名稱                  地址           電話  \\\n",
       "32  42  國立澎湖科技大學   公立  澎湖縣  [880]澎湖縣馬公市六合路300號  (06)9264115   \n",
       "\n",
       "                       網址    體系別  \n",
       "32  http://www.npu.edu.tw  [2]技職  "
      ]
     },
     "execution_count": 22,
     "metadata": {},
     "output_type": "execute_result"
    }
   ],
   "source": [
    "PenghuUL = (university[\"縣市名稱\"] == \"澎湖縣\")\n",
    "PenghuU = university[PenghuUL]\n",
    "PenghuAreakm = 126.8641\n",
    "\n",
    "MPeUr = len(PenghuU)/PenghuAreakm\n",
    "MPeU = round(MPeUr,3) #四捨五入至小數點後 3 位\n",
    "\n",
    "print(\"共有\",len(PenghuU),\"筆資料\")\n",
    "print(\"學校數量/縣市面積=\",MPeU,\"個/Km^2\")\n",
    "PenghuU.head()"
   ]
  },
  {
   "cell_type": "code",
   "execution_count": 23,
   "id": "e30d9cfa",
   "metadata": {},
   "outputs": [
    {
     "name": "stdout",
     "output_type": "stream",
     "text": [
      "共有 1 筆資料\n",
      "學校數量/縣市面積= 0.006594 個/Km^2\n"
     ]
    },
    {
     "data": {
      "text/html": [
       "<div>\n",
       "<style scoped>\n",
       "    .dataframe tbody tr th:only-of-type {\n",
       "        vertical-align: middle;\n",
       "    }\n",
       "\n",
       "    .dataframe tbody tr th {\n",
       "        vertical-align: top;\n",
       "    }\n",
       "\n",
       "    .dataframe thead th {\n",
       "        text-align: right;\n",
       "    }\n",
       "</style>\n",
       "<table border=\"1\" class=\"dataframe\">\n",
       "  <thead>\n",
       "    <tr style=\"text-align: right;\">\n",
       "      <th></th>\n",
       "      <th>代碼</th>\n",
       "      <th>學校名稱</th>\n",
       "      <th>公/私立</th>\n",
       "      <th>縣市名稱</th>\n",
       "      <th>地址</th>\n",
       "      <th>電話</th>\n",
       "      <th>網址</th>\n",
       "      <th>體系別</th>\n",
       "    </tr>\n",
       "  </thead>\n",
       "  <tbody>\n",
       "    <tr>\n",
       "      <th>37</th>\n",
       "      <td>48</td>\n",
       "      <td>國立金門大學</td>\n",
       "      <td>公立</td>\n",
       "      <td>金門縣</td>\n",
       "      <td>[892]金門縣金寧鄉大學路1號</td>\n",
       "      <td>(082)313300</td>\n",
       "      <td>http://www.nqu.edu.tw/cht/index.php</td>\n",
       "      <td>[1]一般</td>\n",
       "    </tr>\n",
       "  </tbody>\n",
       "</table>\n",
       "</div>"
      ],
      "text/plain": [
       "    代碼    學校名稱 公/私立 縣市名稱                地址           電話  \\\n",
       "37  48  國立金門大學   公立  金門縣  [892]金門縣金寧鄉大學路1號  (082)313300   \n",
       "\n",
       "                                     網址    體系別  \n",
       "37  http://www.nqu.edu.tw/cht/index.php  [1]一般  "
      ]
     },
     "execution_count": 23,
     "metadata": {},
     "output_type": "execute_result"
    }
   ],
   "source": [
    "KinmenUL = (university[\"縣市名稱\"] == \"金門縣\")\n",
    "KinmenU = university[KinmenUL]\n",
    "KinmenAreakm = 151.6560\n",
    "\n",
    "MKiUr=len(KinmenU)/KinmenAreakm\n",
    "MKiU=round(MKiUr,6) #四捨五入至小數點後 6 位\n",
    "\n",
    "print(\"共有\",len(KinmenU),\"筆資料\")\n",
    "print(\"學校數量/縣市面積=\",MKiU,\"個/Km^2\")\n",
    "KinmenU.head()"
   ]
  },
  {
   "cell_type": "code",
   "execution_count": 24,
   "id": "35623b60",
   "metadata": {},
   "outputs": [
    {
     "name": "stdout",
     "output_type": "stream",
     "text": [
      "共有 0 筆資料\n",
      "學校數量/縣市面積= 0.0 個/Km^2\n"
     ]
    },
    {
     "data": {
      "text/html": [
       "<div>\n",
       "<style scoped>\n",
       "    .dataframe tbody tr th:only-of-type {\n",
       "        vertical-align: middle;\n",
       "    }\n",
       "\n",
       "    .dataframe tbody tr th {\n",
       "        vertical-align: top;\n",
       "    }\n",
       "\n",
       "    .dataframe thead th {\n",
       "        text-align: right;\n",
       "    }\n",
       "</style>\n",
       "<table border=\"1\" class=\"dataframe\">\n",
       "  <thead>\n",
       "    <tr style=\"text-align: right;\">\n",
       "      <th></th>\n",
       "      <th>代碼</th>\n",
       "      <th>學校名稱</th>\n",
       "      <th>公/私立</th>\n",
       "      <th>縣市名稱</th>\n",
       "      <th>地址</th>\n",
       "      <th>電話</th>\n",
       "      <th>網址</th>\n",
       "      <th>體系別</th>\n",
       "    </tr>\n",
       "  </thead>\n",
       "  <tbody>\n",
       "  </tbody>\n",
       "</table>\n",
       "</div>"
      ],
      "text/plain": [
       "Empty DataFrame\n",
       "Columns: [代碼, 學校名稱, 公/私立, 縣市名稱, 地址, 電話, 網址, 體系別]\n",
       "Index: []"
      ]
     },
     "execution_count": 24,
     "metadata": {},
     "output_type": "execute_result"
    }
   ],
   "source": [
    "MazuUL = (university[\"縣市名稱\"] == \"連江縣\")\n",
    "MazuU = university[MazuUL]\n",
    "MazuAreakm = 28.8000\n",
    "\n",
    "MMazuUr=len(MazuU)/MazuAreakm\n",
    "MMazuU=round(MMazuUr,6) #四捨五入至小數點後 6 位\n",
    "\n",
    "print(\"共有\",len(MazuU),\"筆資料\")\n",
    "print(\"學校數量/縣市面積=\",MMazuU,\"個/Km^2\")\n",
    "MazuU.head()"
   ]
  },
  {
   "cell_type": "code",
   "execution_count": 25,
   "id": "5bad9f69",
   "metadata": {},
   "outputs": [
    {
     "data": {
      "text/plain": [
       "[{'City': 'Taipei', 'D': 0.08830031821227177},\n",
       " {'City': 'NewTaipei', 'D': 0.009743897725710935},\n",
       " {'City': 'Keelung', 'D': 0.022597355054915336},\n",
       " {'City': 'Taoyuan', 'D': 0.009828380102772096},\n",
       " {'City': 'Hsinchu County', 'D': 0.0014010145727231288},\n",
       " {'City': 'Hsinchu City', 'D': 0.04800648279543669},\n",
       " {'City': 'Miaoli', 'D': 0.0016480664966264903},\n",
       " {'City': 'Taichung', 'D': 0.0076753011697881365},\n",
       " {'City': 'Changhua', 'D': 0.004653777564324514},\n",
       " {'City': 'Nantou', 'D': 0.0004870403434998135},\n",
       " {'City': 'Yunlin ', 'D': 0.002324081371976506},\n",
       " {'City': 'Chiayi County', 'D': 0.002101241271509422},\n",
       " {'City': 'Chiayi City', 'D': 0.03331911717667129},\n",
       " {'City': 'Tainan', 'D': 0.0063878722412776},\n",
       " {'City': 'Kaohsiung', 'D': 0.005420325216802845},\n",
       " {'City': 'Pingtung', 'D': 0.0018014121125437261},\n",
       " {'City': 'Yilan', 'D': 0.0018659979303283954},\n",
       " {'City': 'Hualien', 'D': 0.0008641975361987503},\n",
       " {'City': 'Taitung', 'D': 0.0005689491560293562},\n",
       " {'City': 'Penghu', 'D': 0.007882450590829084},\n",
       " {'City': 'Kinmen', 'D': 0.00659387033813367},\n",
       " {'City': 'Lienchiang', 'D': 0.0}]"
      ]
     },
     "execution_count": 25,
     "metadata": {},
     "output_type": "execute_result"
    }
   ],
   "source": [
    "UCityD_dict=[{'City':'Taipei','D':MTUr}, \n",
    "            {'City':'NewTaipei','D':MNTUr},\n",
    "            {'City':'Keelung','D':MKUr},\n",
    "            {'City':'Taoyuan','D':MTYUr},\n",
    "            {'City':'Hsinchu County','D':MHCUr},\n",
    "            {'City':'Hsinchu City','D':MHUr},\n",
    "            {'City':'Miaoli','D':MMiUr}, \n",
    "            {'City':'Taichung','D':MTcUr},\n",
    "            {'City':'Changhua','D':MChUr},\n",
    "            {'City':'Nantou','D':MNUr},\n",
    "            {'City':'Yunlin ','D':MYUr},\n",
    "            {'City':'Chiayi County','D':MCcUr},\n",
    "            {'City':'Chiayi City','D':MCUr},\n",
    "            {'City':'Tainan','D':MTnUr},\n",
    "            {'City':'Kaohsiung','D':MKhUr},\n",
    "            {'City':'Pingtung','D':MPUr},\n",
    "            {'City':'Yilan','D':MYiUr},\n",
    "            {'City':'Hualien','D':MHuaUr},\n",
    "            {'City':'Taitung','D':MTtUr},\n",
    "            {'City':'Penghu','D':MPeUr},\n",
    "            {'City':'Kinmen','D':MKiUr},\n",
    "            {'City':'Lienchiang','D':MMazuUr}]\n",
    "UCityD_dict"
   ]
  },
  {
   "cell_type": "code",
   "execution_count": 26,
   "id": "8fd18a89",
   "metadata": {},
   "outputs": [
    {
     "data": {
      "text/plain": [
       "{'City': 'Lienchiang', 'D': 0.0}"
      ]
     },
     "execution_count": 26,
     "metadata": {},
     "output_type": "execute_result"
    }
   ],
   "source": [
    "#將空值移除\n",
    "UCityD_dict_empty = UCityD_dict.pop()\n",
    "UCityD_dict_empty"
   ]
  },
  {
   "cell_type": "code",
   "execution_count": 27,
   "id": "f139f9d8",
   "metadata": {},
   "outputs": [
    {
     "data": {
      "text/plain": [
       "[{'City': 'Taipei', 'D': 0.08830031821227177},\n",
       " {'City': 'NewTaipei', 'D': 0.009743897725710935},\n",
       " {'City': 'Keelung', 'D': 0.022597355054915336},\n",
       " {'City': 'Taoyuan', 'D': 0.009828380102772096},\n",
       " {'City': 'Hsinchu County', 'D': 0.0014010145727231288},\n",
       " {'City': 'Hsinchu City', 'D': 0.04800648279543669},\n",
       " {'City': 'Miaoli', 'D': 0.0016480664966264903},\n",
       " {'City': 'Taichung', 'D': 0.0076753011697881365},\n",
       " {'City': 'Changhua', 'D': 0.004653777564324514},\n",
       " {'City': 'Nantou', 'D': 0.0004870403434998135},\n",
       " {'City': 'Yunlin ', 'D': 0.002324081371976506},\n",
       " {'City': 'Chiayi County', 'D': 0.002101241271509422},\n",
       " {'City': 'Chiayi City', 'D': 0.03331911717667129},\n",
       " {'City': 'Tainan', 'D': 0.0063878722412776},\n",
       " {'City': 'Kaohsiung', 'D': 0.005420325216802845},\n",
       " {'City': 'Pingtung', 'D': 0.0018014121125437261},\n",
       " {'City': 'Yilan', 'D': 0.0018659979303283954},\n",
       " {'City': 'Hualien', 'D': 0.0008641975361987503},\n",
       " {'City': 'Taitung', 'D': 0.0005689491560293562},\n",
       " {'City': 'Penghu', 'D': 0.007882450590829084},\n",
       " {'City': 'Kinmen', 'D': 0.00659387033813367}]"
      ]
     },
     "execution_count": 27,
     "metadata": {},
     "output_type": "execute_result"
    }
   ],
   "source": [
    "UCityD_dict"
   ]
  },
  {
   "cell_type": "code",
   "execution_count": 28,
   "id": "002cd897",
   "metadata": {},
   "outputs": [
    {
     "data": {
      "text/plain": [
       "[{'City': 'Nantou', 'D': 0.0004870403434998135},\n",
       " {'City': 'Taitung', 'D': 0.0005689491560293562},\n",
       " {'City': 'Hualien', 'D': 0.0008641975361987503},\n",
       " {'City': 'Hsinchu County', 'D': 0.0014010145727231288},\n",
       " {'City': 'Miaoli', 'D': 0.0016480664966264903}]"
      ]
     },
     "execution_count": 28,
     "metadata": {},
     "output_type": "execute_result"
    }
   ],
   "source": [
    "#尋找學校比的前五低縣市\n",
    "import heapq\n",
    "\n",
    "ULowD_city = heapq.nsmallest(5, UCityD_dict, key=lambda s: s['D'])\n",
    "\n",
    "ULowD_city"
   ]
  },
  {
   "cell_type": "code",
   "execution_count": 29,
   "id": "3a51d819",
   "metadata": {},
   "outputs": [],
   "source": [
    "#結論：南投縣、花蓮縣、新竹縣、苗栗縣、屏東縣"
   ]
  },
  {
   "cell_type": "code",
   "execution_count": 30,
   "id": "1d54bb48",
   "metadata": {},
   "outputs": [
    {
     "name": "stdout",
     "output_type": "stream",
     "text": [
      "['Taipei', 'NewTaipei', 'Keelung', 'Taoyuan', 'Hsinchu County', 'Hsinchu City', 'Miaoli', 'Taichung', 'Changhua', 'Nantou', 'Yunlin', 'Chiayi County', 'Chiayi City', 'Tainan', 'Kaohsiung', 'Pingtung', 'Yilan', 'Hualien', 'Taitung', 'Penghu', 'Kinmen', 'Lienchiang']\n",
      "[271.7997, 2052.5667, 132.7589, 1220.954, 1427.5369, 104.1526, 1820.3149, 2214.8968, 1074.396, 4106.436, 1290.8326, 1903.6367, 60.0256, 2191.6531, 2951.8524, 2775.6003, 2143.6251, 4628.5714, 3515.2526, 126.8641, 151.656, 28.8]\n",
      "[0.08830031821227177, 0.009743897725710935, 0.022597355054915336, 0.009828380102772096, 0.0014010145727231288, 0.04800648279543669, 0.0016480664966264903, 0.0076753011697881365, 0.004653777564324514, 0.0004870403434998135, 0.002324081371976506, 0.002101241271509422, 0.03331911717667129, 0.0063878722412776, 0.005420325216802845, 0.0018014121125437261, 0.0018659979303283954, 0.0008641975361987503, 0.0005689491560293562, 0.007882450590829084, 0.00659387033813367, 0.0]\n",
      "[24, 20, 3, 12, 2, 5, 3, 17, 2, 5, 3, 4, 2, 14, 16, 5, 4, 4, 2, 1, 1, 0]\n"
     ]
    }
   ],
   "source": [
    "# 輸入city and density\n",
    "City_list=['Taipei', 'NewTaipei', 'Keelung', 'Taoyuan', 'Hsinchu County', 'Hsinchu City', 'Miaoli', 'Taichung', 'Changhua', 'Nantou', 'Yunlin', 'Chiayi County', 'Chiayi City', 'Tainan', 'Kaohsiung', 'Pingtung', 'Yilan', 'Hualien', 'Taitung', 'Penghu', 'Kinmen', 'Lienchiang']\n",
    "CityArea_list=[TaipeiAreakm, NewTaipeiAreakm, KeelungAreakm, TaoyuanAreakm, HsinchuCountyAreakm, HsinchuAreakm, MiaoliAreakm, TaichungAreakm, ChanghuaAreakm, NantouAreakm, YunlinAreakm, ChiayiCountyAreakm, ChiayiAreakm, TainanAreakm, KaohsiungAreakm, PingtungAreakm, YilanAreakm, HualienAreakm, TaitungAreakm, PenghuAreakm, KinmenAreakm, MazuAreakm]\n",
    "UniversityD_list=[MTUr, MNTUr, MKUr, MTYUr, MHCUr, MHUr, MMiUr, MTcUr, MChUr, MNUr, MYUr, MCcUr, MCUr, MTnUr, MKhUr, MPUr, MYiUr, MHuaUr, MTtUr, MPeUr, MKiUr, MMazuUr]\n",
    "UniversityN_list=[len(TaipeiU), len(NewTaipeiU), len(KeelungU), len(TaoyuanU), len(HsinchuCountyU), len(HsinchuU), len(MiaoliU), len(TaichungU), len(NantouU), len(ChanghuaU), len(YunlinU), len(ChiayiCountyU), len(ChiayiU), len(TainanU), len(KaohsiungU), len(PingtungU), len(YilanU), len(HualienU), len(TaitungU), len(PenghuU), len(KinmenU), len(MazuU)]\n",
    "\n",
    "print(City_list)\n",
    "print(CityArea_list)\n",
    "print(UniversityD_list)\n",
    "print(UniversityN_list)"
   ]
  },
  {
   "cell_type": "code",
   "execution_count": 31,
   "id": "9c0e3452",
   "metadata": {},
   "outputs": [
    {
     "data": {
      "text/plain": [
       "[22, 22, 22, 22]"
      ]
     },
     "execution_count": 31,
     "metadata": {},
     "output_type": "execute_result"
    }
   ],
   "source": [
    "lll1=[len(City_list), len(CityArea_list), len(UniversityD_list), len(UniversityN_list)]\n",
    "lll1"
   ]
  },
  {
   "cell_type": "code",
   "execution_count": 32,
   "id": "d362092a",
   "metadata": {},
   "outputs": [
    {
     "data": {
      "text/html": [
       "<div>\n",
       "<style scoped>\n",
       "    .dataframe tbody tr th:only-of-type {\n",
       "        vertical-align: middle;\n",
       "    }\n",
       "\n",
       "    .dataframe tbody tr th {\n",
       "        vertical-align: top;\n",
       "    }\n",
       "\n",
       "    .dataframe thead th {\n",
       "        text-align: right;\n",
       "    }\n",
       "</style>\n",
       "<table border=\"1\" class=\"dataframe\">\n",
       "  <thead>\n",
       "    <tr style=\"text-align: right;\">\n",
       "      <th></th>\n",
       "      <th>City</th>\n",
       "      <th>City area</th>\n",
       "      <th>University density</th>\n",
       "      <th>University number</th>\n",
       "    </tr>\n",
       "  </thead>\n",
       "  <tbody>\n",
       "    <tr>\n",
       "      <th>0</th>\n",
       "      <td>Taipei</td>\n",
       "      <td>271.7997</td>\n",
       "      <td>0.088300</td>\n",
       "      <td>24</td>\n",
       "    </tr>\n",
       "    <tr>\n",
       "      <th>1</th>\n",
       "      <td>NewTaipei</td>\n",
       "      <td>2052.5667</td>\n",
       "      <td>0.009744</td>\n",
       "      <td>20</td>\n",
       "    </tr>\n",
       "    <tr>\n",
       "      <th>2</th>\n",
       "      <td>Keelung</td>\n",
       "      <td>132.7589</td>\n",
       "      <td>0.022597</td>\n",
       "      <td>3</td>\n",
       "    </tr>\n",
       "    <tr>\n",
       "      <th>3</th>\n",
       "      <td>Taoyuan</td>\n",
       "      <td>1220.9540</td>\n",
       "      <td>0.009828</td>\n",
       "      <td>12</td>\n",
       "    </tr>\n",
       "    <tr>\n",
       "      <th>4</th>\n",
       "      <td>Hsinchu County</td>\n",
       "      <td>1427.5369</td>\n",
       "      <td>0.001401</td>\n",
       "      <td>2</td>\n",
       "    </tr>\n",
       "    <tr>\n",
       "      <th>5</th>\n",
       "      <td>Hsinchu City</td>\n",
       "      <td>104.1526</td>\n",
       "      <td>0.048006</td>\n",
       "      <td>5</td>\n",
       "    </tr>\n",
       "    <tr>\n",
       "      <th>6</th>\n",
       "      <td>Miaoli</td>\n",
       "      <td>1820.3149</td>\n",
       "      <td>0.001648</td>\n",
       "      <td>3</td>\n",
       "    </tr>\n",
       "    <tr>\n",
       "      <th>7</th>\n",
       "      <td>Taichung</td>\n",
       "      <td>2214.8968</td>\n",
       "      <td>0.007675</td>\n",
       "      <td>17</td>\n",
       "    </tr>\n",
       "    <tr>\n",
       "      <th>8</th>\n",
       "      <td>Changhua</td>\n",
       "      <td>1074.3960</td>\n",
       "      <td>0.004654</td>\n",
       "      <td>2</td>\n",
       "    </tr>\n",
       "    <tr>\n",
       "      <th>9</th>\n",
       "      <td>Nantou</td>\n",
       "      <td>4106.4360</td>\n",
       "      <td>0.000487</td>\n",
       "      <td>5</td>\n",
       "    </tr>\n",
       "    <tr>\n",
       "      <th>10</th>\n",
       "      <td>Yunlin</td>\n",
       "      <td>1290.8326</td>\n",
       "      <td>0.002324</td>\n",
       "      <td>3</td>\n",
       "    </tr>\n",
       "    <tr>\n",
       "      <th>11</th>\n",
       "      <td>Chiayi County</td>\n",
       "      <td>1903.6367</td>\n",
       "      <td>0.002101</td>\n",
       "      <td>4</td>\n",
       "    </tr>\n",
       "    <tr>\n",
       "      <th>12</th>\n",
       "      <td>Chiayi City</td>\n",
       "      <td>60.0256</td>\n",
       "      <td>0.033319</td>\n",
       "      <td>2</td>\n",
       "    </tr>\n",
       "    <tr>\n",
       "      <th>13</th>\n",
       "      <td>Tainan</td>\n",
       "      <td>2191.6531</td>\n",
       "      <td>0.006388</td>\n",
       "      <td>14</td>\n",
       "    </tr>\n",
       "    <tr>\n",
       "      <th>14</th>\n",
       "      <td>Kaohsiung</td>\n",
       "      <td>2951.8524</td>\n",
       "      <td>0.005420</td>\n",
       "      <td>16</td>\n",
       "    </tr>\n",
       "    <tr>\n",
       "      <th>15</th>\n",
       "      <td>Pingtung</td>\n",
       "      <td>2775.6003</td>\n",
       "      <td>0.001801</td>\n",
       "      <td>5</td>\n",
       "    </tr>\n",
       "    <tr>\n",
       "      <th>16</th>\n",
       "      <td>Yilan</td>\n",
       "      <td>2143.6251</td>\n",
       "      <td>0.001866</td>\n",
       "      <td>4</td>\n",
       "    </tr>\n",
       "    <tr>\n",
       "      <th>17</th>\n",
       "      <td>Hualien</td>\n",
       "      <td>4628.5714</td>\n",
       "      <td>0.000864</td>\n",
       "      <td>4</td>\n",
       "    </tr>\n",
       "    <tr>\n",
       "      <th>18</th>\n",
       "      <td>Taitung</td>\n",
       "      <td>3515.2526</td>\n",
       "      <td>0.000569</td>\n",
       "      <td>2</td>\n",
       "    </tr>\n",
       "    <tr>\n",
       "      <th>19</th>\n",
       "      <td>Penghu</td>\n",
       "      <td>126.8641</td>\n",
       "      <td>0.007882</td>\n",
       "      <td>1</td>\n",
       "    </tr>\n",
       "    <tr>\n",
       "      <th>20</th>\n",
       "      <td>Kinmen</td>\n",
       "      <td>151.6560</td>\n",
       "      <td>0.006594</td>\n",
       "      <td>1</td>\n",
       "    </tr>\n",
       "    <tr>\n",
       "      <th>21</th>\n",
       "      <td>Lienchiang</td>\n",
       "      <td>28.8000</td>\n",
       "      <td>0.000000</td>\n",
       "      <td>0</td>\n",
       "    </tr>\n",
       "  </tbody>\n",
       "</table>\n",
       "</div>"
      ],
      "text/plain": [
       "              City  City area  University density  University number\n",
       "0           Taipei   271.7997            0.088300                 24\n",
       "1        NewTaipei  2052.5667            0.009744                 20\n",
       "2          Keelung   132.7589            0.022597                  3\n",
       "3          Taoyuan  1220.9540            0.009828                 12\n",
       "4   Hsinchu County  1427.5369            0.001401                  2\n",
       "5     Hsinchu City   104.1526            0.048006                  5\n",
       "6           Miaoli  1820.3149            0.001648                  3\n",
       "7         Taichung  2214.8968            0.007675                 17\n",
       "8         Changhua  1074.3960            0.004654                  2\n",
       "9           Nantou  4106.4360            0.000487                  5\n",
       "10          Yunlin  1290.8326            0.002324                  3\n",
       "11   Chiayi County  1903.6367            0.002101                  4\n",
       "12     Chiayi City    60.0256            0.033319                  2\n",
       "13          Tainan  2191.6531            0.006388                 14\n",
       "14       Kaohsiung  2951.8524            0.005420                 16\n",
       "15        Pingtung  2775.6003            0.001801                  5\n",
       "16           Yilan  2143.6251            0.001866                  4\n",
       "17         Hualien  4628.5714            0.000864                  4\n",
       "18         Taitung  3515.2526            0.000569                  2\n",
       "19          Penghu   126.8641            0.007882                  1\n",
       "20          Kinmen   151.6560            0.006594                  1\n",
       "21      Lienchiang    28.8000            0.000000                  0"
      ]
     },
     "execution_count": 32,
     "metadata": {},
     "output_type": "execute_result"
    }
   ],
   "source": [
    "ana2=pd.DataFrame({\n",
    "    \"City\": City_list,\n",
    "    \"City area\": CityArea_list,\n",
    "    \"University density\": UniversityD_list,\n",
    "    \"University number\": UniversityN_list\n",
    "})\n",
    "ana2"
   ]
  },
  {
   "cell_type": "code",
   "execution_count": 34,
   "id": "1c0fe4c2",
   "metadata": {},
   "outputs": [
    {
     "data": {
      "application/vnd.plotly.v1+json": {
       "config": {
        "plotlyServerURL": "https://plot.ly"
       },
       "data": [
        {
         "customdata": [
          [
           "Taipei",
           0.08830031821227177
          ],
          [
           "NewTaipei",
           0.009743897725710935
          ],
          [
           "Keelung",
           0.022597355054915336
          ],
          [
           "Taoyuan",
           0.009828380102772096
          ],
          [
           "Hsinchu County",
           0.0014010145727231288
          ],
          [
           "Hsinchu City",
           0.04800648279543669
          ],
          [
           "Miaoli",
           0.0016480664966264903
          ],
          [
           "Taichung",
           0.0076753011697881365
          ],
          [
           "Changhua",
           0.004653777564324514
          ],
          [
           "Nantou",
           0.0004870403434998135
          ],
          [
           "Yunlin",
           0.002324081371976506
          ],
          [
           "Chiayi County",
           0.002101241271509422
          ],
          [
           "Chiayi City",
           0.03331911717667129
          ],
          [
           "Tainan",
           0.0063878722412776
          ],
          [
           "Kaohsiung",
           0.005420325216802845
          ],
          [
           "Pingtung",
           0.0018014121125437261
          ],
          [
           "Yilan",
           0.0018659979303283954
          ],
          [
           "Hualien",
           0.0008641975361987503
          ],
          [
           "Taitung",
           0.0005689491560293562
          ],
          [
           "Penghu",
           0.007882450590829084
          ],
          [
           "Kinmen",
           0.00659387033813367
          ],
          [
           "Lienchiang",
           0
          ]
         ],
         "hovertemplate": "City area=%{x}<br>University number=%{y}<br>University density=%{marker.color}<br>City=%{customdata[0]}<extra></extra>",
         "legendgroup": "",
         "marker": {
          "color": [
           0.08830031821227177,
           0.009743897725710935,
           0.022597355054915336,
           0.009828380102772096,
           0.0014010145727231288,
           0.04800648279543669,
           0.0016480664966264903,
           0.0076753011697881365,
           0.004653777564324514,
           0.0004870403434998135,
           0.002324081371976506,
           0.002101241271509422,
           0.03331911717667129,
           0.0063878722412776,
           0.005420325216802845,
           0.0018014121125437261,
           0.0018659979303283954,
           0.0008641975361987503,
           0.0005689491560293562,
           0.007882450590829084,
           0.00659387033813367,
           0
          ],
          "coloraxis": "coloraxis",
          "size": [
           0.08830031821227177,
           0.009743897725710935,
           0.022597355054915336,
           0.009828380102772096,
           0.0014010145727231288,
           0.04800648279543669,
           0.0016480664966264903,
           0.0076753011697881365,
           0.004653777564324514,
           0.0004870403434998135,
           0.002324081371976506,
           0.002101241271509422,
           0.03331911717667129,
           0.0063878722412776,
           0.005420325216802845,
           0.0018014121125437261,
           0.0018659979303283954,
           0.0008641975361987503,
           0.0005689491560293562,
           0.007882450590829084,
           0.00659387033813367,
           0
          ],
          "sizemode": "area",
          "sizeref": 2.452786617007549e-05,
          "symbol": "circle"
         },
         "mode": "markers+text",
         "name": "",
         "orientation": "v",
         "showlegend": false,
         "text": [
          "Taipei",
          "NewTaipei",
          "Keelung",
          "Taoyuan",
          "Hsinchu County",
          "Hsinchu City",
          "Miaoli",
          "Taichung",
          "Changhua",
          "Nantou",
          "Yunlin",
          "Chiayi County",
          "Chiayi City",
          "Tainan",
          "Kaohsiung",
          "Pingtung",
          "Yilan",
          "Hualien",
          "Taitung",
          "Penghu",
          "Kinmen",
          "Lienchiang"
         ],
         "type": "scatter",
         "x": [
          271.7997,
          2052.5667,
          132.7589,
          1220.954,
          1427.5369,
          104.1526,
          1820.3149,
          2214.8968,
          1074.396,
          4106.436,
          1290.8326,
          1903.6367,
          60.0256,
          2191.6531,
          2951.8524,
          2775.6003,
          2143.6251,
          4628.5714,
          3515.2526,
          126.8641,
          151.656,
          28.8
         ],
         "xaxis": "x",
         "y": [
          24,
          20,
          3,
          12,
          2,
          5,
          3,
          17,
          2,
          5,
          3,
          4,
          2,
          14,
          16,
          5,
          4,
          4,
          2,
          1,
          1,
          0
         ],
         "yaxis": "y"
        }
       ],
       "layout": {
        "coloraxis": {
         "colorbar": {
          "title": {
           "text": "University density"
          }
         },
         "colorscale": [
          [
           0,
           "#0d0887"
          ],
          [
           0.1111111111111111,
           "#46039f"
          ],
          [
           0.2222222222222222,
           "#7201a8"
          ],
          [
           0.3333333333333333,
           "#9c179e"
          ],
          [
           0.4444444444444444,
           "#bd3786"
          ],
          [
           0.5555555555555556,
           "#d8576b"
          ],
          [
           0.6666666666666666,
           "#ed7953"
          ],
          [
           0.7777777777777778,
           "#fb9f3a"
          ],
          [
           0.8888888888888888,
           "#fdca26"
          ],
          [
           1,
           "#f0f921"
          ]
         ]
        },
        "legend": {
         "itemsizing": "constant",
         "tracegroupgap": 0
        },
        "margin": {
         "t": 60
        },
        "template": {
         "data": {
          "bar": [
           {
            "error_x": {
             "color": "#2a3f5f"
            },
            "error_y": {
             "color": "#2a3f5f"
            },
            "marker": {
             "line": {
              "color": "#E5ECF6",
              "width": 0.5
             },
             "pattern": {
              "fillmode": "overlay",
              "size": 10,
              "solidity": 0.2
             }
            },
            "type": "bar"
           }
          ],
          "barpolar": [
           {
            "marker": {
             "line": {
              "color": "#E5ECF6",
              "width": 0.5
             },
             "pattern": {
              "fillmode": "overlay",
              "size": 10,
              "solidity": 0.2
             }
            },
            "type": "barpolar"
           }
          ],
          "carpet": [
           {
            "aaxis": {
             "endlinecolor": "#2a3f5f",
             "gridcolor": "white",
             "linecolor": "white",
             "minorgridcolor": "white",
             "startlinecolor": "#2a3f5f"
            },
            "baxis": {
             "endlinecolor": "#2a3f5f",
             "gridcolor": "white",
             "linecolor": "white",
             "minorgridcolor": "white",
             "startlinecolor": "#2a3f5f"
            },
            "type": "carpet"
           }
          ],
          "choropleth": [
           {
            "colorbar": {
             "outlinewidth": 0,
             "ticks": ""
            },
            "type": "choropleth"
           }
          ],
          "contour": [
           {
            "colorbar": {
             "outlinewidth": 0,
             "ticks": ""
            },
            "colorscale": [
             [
              0,
              "#0d0887"
             ],
             [
              0.1111111111111111,
              "#46039f"
             ],
             [
              0.2222222222222222,
              "#7201a8"
             ],
             [
              0.3333333333333333,
              "#9c179e"
             ],
             [
              0.4444444444444444,
              "#bd3786"
             ],
             [
              0.5555555555555556,
              "#d8576b"
             ],
             [
              0.6666666666666666,
              "#ed7953"
             ],
             [
              0.7777777777777778,
              "#fb9f3a"
             ],
             [
              0.8888888888888888,
              "#fdca26"
             ],
             [
              1,
              "#f0f921"
             ]
            ],
            "type": "contour"
           }
          ],
          "contourcarpet": [
           {
            "colorbar": {
             "outlinewidth": 0,
             "ticks": ""
            },
            "type": "contourcarpet"
           }
          ],
          "heatmap": [
           {
            "colorbar": {
             "outlinewidth": 0,
             "ticks": ""
            },
            "colorscale": [
             [
              0,
              "#0d0887"
             ],
             [
              0.1111111111111111,
              "#46039f"
             ],
             [
              0.2222222222222222,
              "#7201a8"
             ],
             [
              0.3333333333333333,
              "#9c179e"
             ],
             [
              0.4444444444444444,
              "#bd3786"
             ],
             [
              0.5555555555555556,
              "#d8576b"
             ],
             [
              0.6666666666666666,
              "#ed7953"
             ],
             [
              0.7777777777777778,
              "#fb9f3a"
             ],
             [
              0.8888888888888888,
              "#fdca26"
             ],
             [
              1,
              "#f0f921"
             ]
            ],
            "type": "heatmap"
           }
          ],
          "heatmapgl": [
           {
            "colorbar": {
             "outlinewidth": 0,
             "ticks": ""
            },
            "colorscale": [
             [
              0,
              "#0d0887"
             ],
             [
              0.1111111111111111,
              "#46039f"
             ],
             [
              0.2222222222222222,
              "#7201a8"
             ],
             [
              0.3333333333333333,
              "#9c179e"
             ],
             [
              0.4444444444444444,
              "#bd3786"
             ],
             [
              0.5555555555555556,
              "#d8576b"
             ],
             [
              0.6666666666666666,
              "#ed7953"
             ],
             [
              0.7777777777777778,
              "#fb9f3a"
             ],
             [
              0.8888888888888888,
              "#fdca26"
             ],
             [
              1,
              "#f0f921"
             ]
            ],
            "type": "heatmapgl"
           }
          ],
          "histogram": [
           {
            "marker": {
             "pattern": {
              "fillmode": "overlay",
              "size": 10,
              "solidity": 0.2
             }
            },
            "type": "histogram"
           }
          ],
          "histogram2d": [
           {
            "colorbar": {
             "outlinewidth": 0,
             "ticks": ""
            },
            "colorscale": [
             [
              0,
              "#0d0887"
             ],
             [
              0.1111111111111111,
              "#46039f"
             ],
             [
              0.2222222222222222,
              "#7201a8"
             ],
             [
              0.3333333333333333,
              "#9c179e"
             ],
             [
              0.4444444444444444,
              "#bd3786"
             ],
             [
              0.5555555555555556,
              "#d8576b"
             ],
             [
              0.6666666666666666,
              "#ed7953"
             ],
             [
              0.7777777777777778,
              "#fb9f3a"
             ],
             [
              0.8888888888888888,
              "#fdca26"
             ],
             [
              1,
              "#f0f921"
             ]
            ],
            "type": "histogram2d"
           }
          ],
          "histogram2dcontour": [
           {
            "colorbar": {
             "outlinewidth": 0,
             "ticks": ""
            },
            "colorscale": [
             [
              0,
              "#0d0887"
             ],
             [
              0.1111111111111111,
              "#46039f"
             ],
             [
              0.2222222222222222,
              "#7201a8"
             ],
             [
              0.3333333333333333,
              "#9c179e"
             ],
             [
              0.4444444444444444,
              "#bd3786"
             ],
             [
              0.5555555555555556,
              "#d8576b"
             ],
             [
              0.6666666666666666,
              "#ed7953"
             ],
             [
              0.7777777777777778,
              "#fb9f3a"
             ],
             [
              0.8888888888888888,
              "#fdca26"
             ],
             [
              1,
              "#f0f921"
             ]
            ],
            "type": "histogram2dcontour"
           }
          ],
          "mesh3d": [
           {
            "colorbar": {
             "outlinewidth": 0,
             "ticks": ""
            },
            "type": "mesh3d"
           }
          ],
          "parcoords": [
           {
            "line": {
             "colorbar": {
              "outlinewidth": 0,
              "ticks": ""
             }
            },
            "type": "parcoords"
           }
          ],
          "pie": [
           {
            "automargin": true,
            "type": "pie"
           }
          ],
          "scatter": [
           {
            "marker": {
             "colorbar": {
              "outlinewidth": 0,
              "ticks": ""
             }
            },
            "type": "scatter"
           }
          ],
          "scatter3d": [
           {
            "line": {
             "colorbar": {
              "outlinewidth": 0,
              "ticks": ""
             }
            },
            "marker": {
             "colorbar": {
              "outlinewidth": 0,
              "ticks": ""
             }
            },
            "type": "scatter3d"
           }
          ],
          "scattercarpet": [
           {
            "marker": {
             "colorbar": {
              "outlinewidth": 0,
              "ticks": ""
             }
            },
            "type": "scattercarpet"
           }
          ],
          "scattergeo": [
           {
            "marker": {
             "colorbar": {
              "outlinewidth": 0,
              "ticks": ""
             }
            },
            "type": "scattergeo"
           }
          ],
          "scattergl": [
           {
            "marker": {
             "colorbar": {
              "outlinewidth": 0,
              "ticks": ""
             }
            },
            "type": "scattergl"
           }
          ],
          "scattermapbox": [
           {
            "marker": {
             "colorbar": {
              "outlinewidth": 0,
              "ticks": ""
             }
            },
            "type": "scattermapbox"
           }
          ],
          "scatterpolar": [
           {
            "marker": {
             "colorbar": {
              "outlinewidth": 0,
              "ticks": ""
             }
            },
            "type": "scatterpolar"
           }
          ],
          "scatterpolargl": [
           {
            "marker": {
             "colorbar": {
              "outlinewidth": 0,
              "ticks": ""
             }
            },
            "type": "scatterpolargl"
           }
          ],
          "scatterternary": [
           {
            "marker": {
             "colorbar": {
              "outlinewidth": 0,
              "ticks": ""
             }
            },
            "type": "scatterternary"
           }
          ],
          "surface": [
           {
            "colorbar": {
             "outlinewidth": 0,
             "ticks": ""
            },
            "colorscale": [
             [
              0,
              "#0d0887"
             ],
             [
              0.1111111111111111,
              "#46039f"
             ],
             [
              0.2222222222222222,
              "#7201a8"
             ],
             [
              0.3333333333333333,
              "#9c179e"
             ],
             [
              0.4444444444444444,
              "#bd3786"
             ],
             [
              0.5555555555555556,
              "#d8576b"
             ],
             [
              0.6666666666666666,
              "#ed7953"
             ],
             [
              0.7777777777777778,
              "#fb9f3a"
             ],
             [
              0.8888888888888888,
              "#fdca26"
             ],
             [
              1,
              "#f0f921"
             ]
            ],
            "type": "surface"
           }
          ],
          "table": [
           {
            "cells": {
             "fill": {
              "color": "#EBF0F8"
             },
             "line": {
              "color": "white"
             }
            },
            "header": {
             "fill": {
              "color": "#C8D4E3"
             },
             "line": {
              "color": "white"
             }
            },
            "type": "table"
           }
          ]
         },
         "layout": {
          "annotationdefaults": {
           "arrowcolor": "#2a3f5f",
           "arrowhead": 0,
           "arrowwidth": 1
          },
          "autotypenumbers": "strict",
          "coloraxis": {
           "colorbar": {
            "outlinewidth": 0,
            "ticks": ""
           }
          },
          "colorscale": {
           "diverging": [
            [
             0,
             "#8e0152"
            ],
            [
             0.1,
             "#c51b7d"
            ],
            [
             0.2,
             "#de77ae"
            ],
            [
             0.3,
             "#f1b6da"
            ],
            [
             0.4,
             "#fde0ef"
            ],
            [
             0.5,
             "#f7f7f7"
            ],
            [
             0.6,
             "#e6f5d0"
            ],
            [
             0.7,
             "#b8e186"
            ],
            [
             0.8,
             "#7fbc41"
            ],
            [
             0.9,
             "#4d9221"
            ],
            [
             1,
             "#276419"
            ]
           ],
           "sequential": [
            [
             0,
             "#0d0887"
            ],
            [
             0.1111111111111111,
             "#46039f"
            ],
            [
             0.2222222222222222,
             "#7201a8"
            ],
            [
             0.3333333333333333,
             "#9c179e"
            ],
            [
             0.4444444444444444,
             "#bd3786"
            ],
            [
             0.5555555555555556,
             "#d8576b"
            ],
            [
             0.6666666666666666,
             "#ed7953"
            ],
            [
             0.7777777777777778,
             "#fb9f3a"
            ],
            [
             0.8888888888888888,
             "#fdca26"
            ],
            [
             1,
             "#f0f921"
            ]
           ],
           "sequentialminus": [
            [
             0,
             "#0d0887"
            ],
            [
             0.1111111111111111,
             "#46039f"
            ],
            [
             0.2222222222222222,
             "#7201a8"
            ],
            [
             0.3333333333333333,
             "#9c179e"
            ],
            [
             0.4444444444444444,
             "#bd3786"
            ],
            [
             0.5555555555555556,
             "#d8576b"
            ],
            [
             0.6666666666666666,
             "#ed7953"
            ],
            [
             0.7777777777777778,
             "#fb9f3a"
            ],
            [
             0.8888888888888888,
             "#fdca26"
            ],
            [
             1,
             "#f0f921"
            ]
           ]
          },
          "colorway": [
           "#636efa",
           "#EF553B",
           "#00cc96",
           "#ab63fa",
           "#FFA15A",
           "#19d3f3",
           "#FF6692",
           "#B6E880",
           "#FF97FF",
           "#FECB52"
          ],
          "font": {
           "color": "#2a3f5f"
          },
          "geo": {
           "bgcolor": "white",
           "lakecolor": "white",
           "landcolor": "#E5ECF6",
           "showlakes": true,
           "showland": true,
           "subunitcolor": "white"
          },
          "hoverlabel": {
           "align": "left"
          },
          "hovermode": "closest",
          "mapbox": {
           "style": "light"
          },
          "paper_bgcolor": "white",
          "plot_bgcolor": "#E5ECF6",
          "polar": {
           "angularaxis": {
            "gridcolor": "white",
            "linecolor": "white",
            "ticks": ""
           },
           "bgcolor": "#E5ECF6",
           "radialaxis": {
            "gridcolor": "white",
            "linecolor": "white",
            "ticks": ""
           }
          },
          "scene": {
           "xaxis": {
            "backgroundcolor": "#E5ECF6",
            "gridcolor": "white",
            "gridwidth": 2,
            "linecolor": "white",
            "showbackground": true,
            "ticks": "",
            "zerolinecolor": "white"
           },
           "yaxis": {
            "backgroundcolor": "#E5ECF6",
            "gridcolor": "white",
            "gridwidth": 2,
            "linecolor": "white",
            "showbackground": true,
            "ticks": "",
            "zerolinecolor": "white"
           },
           "zaxis": {
            "backgroundcolor": "#E5ECF6",
            "gridcolor": "white",
            "gridwidth": 2,
            "linecolor": "white",
            "showbackground": true,
            "ticks": "",
            "zerolinecolor": "white"
           }
          },
          "shapedefaults": {
           "line": {
            "color": "#2a3f5f"
           }
          },
          "ternary": {
           "aaxis": {
            "gridcolor": "white",
            "linecolor": "white",
            "ticks": ""
           },
           "baxis": {
            "gridcolor": "white",
            "linecolor": "white",
            "ticks": ""
           },
           "bgcolor": "#E5ECF6",
           "caxis": {
            "gridcolor": "white",
            "linecolor": "white",
            "ticks": ""
           }
          },
          "title": {
           "x": 0.05
          },
          "xaxis": {
           "automargin": true,
           "gridcolor": "white",
           "linecolor": "white",
           "ticks": "",
           "title": {
            "standoff": 15
           },
           "zerolinecolor": "white",
           "zerolinewidth": 2
          },
          "yaxis": {
           "automargin": true,
           "gridcolor": "white",
           "linecolor": "white",
           "ticks": "",
           "title": {
            "standoff": 15
           },
           "zerolinecolor": "white",
           "zerolinewidth": 2
          }
         }
        },
        "xaxis": {
         "anchor": "y",
         "domain": [
          0,
          1
         ],
         "title": {
          "text": "City area"
         }
        },
        "yaxis": {
         "anchor": "x",
         "domain": [
          0,
          1
         ],
         "title": {
          "text": "University number"
         }
        }
       }
      },
      "text/html": [
       "<div>                            <div id=\"ad805ff5-f8ab-41c5-842a-df681fc1c70c\" class=\"plotly-graph-div\" style=\"height:525px; width:100%;\"></div>            <script type=\"text/javascript\">                require([\"plotly\"], function(Plotly) {                    window.PLOTLYENV=window.PLOTLYENV || {};                                    if (document.getElementById(\"ad805ff5-f8ab-41c5-842a-df681fc1c70c\")) {                    Plotly.newPlot(                        \"ad805ff5-f8ab-41c5-842a-df681fc1c70c\",                        [{\"customdata\":[[\"Taipei\",0.08830031821227177],[\"NewTaipei\",0.009743897725710935],[\"Keelung\",0.022597355054915336],[\"Taoyuan\",0.009828380102772096],[\"Hsinchu County\",0.0014010145727231288],[\"Hsinchu City\",0.04800648279543669],[\"Miaoli\",0.0016480664966264903],[\"Taichung\",0.0076753011697881365],[\"Changhua\",0.004653777564324514],[\"Nantou\",0.0004870403434998135],[\"Yunlin\",0.002324081371976506],[\"Chiayi County\",0.002101241271509422],[\"Chiayi City\",0.03331911717667129],[\"Tainan\",0.0063878722412776],[\"Kaohsiung\",0.005420325216802845],[\"Pingtung\",0.0018014121125437261],[\"Yilan\",0.0018659979303283954],[\"Hualien\",0.0008641975361987503],[\"Taitung\",0.0005689491560293562],[\"Penghu\",0.007882450590829084],[\"Kinmen\",0.00659387033813367],[\"Lienchiang\",0.0]],\"hovertemplate\":\"City area=%{x}<br>University number=%{y}<br>University density=%{marker.color}<br>City=%{customdata[0]}<extra></extra>\",\"legendgroup\":\"\",\"marker\":{\"color\":[0.08830031821227177,0.009743897725710935,0.022597355054915336,0.009828380102772096,0.0014010145727231288,0.04800648279543669,0.0016480664966264903,0.0076753011697881365,0.004653777564324514,0.0004870403434998135,0.002324081371976506,0.002101241271509422,0.03331911717667129,0.0063878722412776,0.005420325216802845,0.0018014121125437261,0.0018659979303283954,0.0008641975361987503,0.0005689491560293562,0.007882450590829084,0.00659387033813367,0.0],\"coloraxis\":\"coloraxis\",\"size\":[0.08830031821227177,0.009743897725710935,0.022597355054915336,0.009828380102772096,0.0014010145727231288,0.04800648279543669,0.0016480664966264903,0.0076753011697881365,0.004653777564324514,0.0004870403434998135,0.002324081371976506,0.002101241271509422,0.03331911717667129,0.0063878722412776,0.005420325216802845,0.0018014121125437261,0.0018659979303283954,0.0008641975361987503,0.0005689491560293562,0.007882450590829084,0.00659387033813367,0.0],\"sizemode\":\"area\",\"sizeref\":2.452786617007549e-05,\"symbol\":\"circle\"},\"mode\":\"markers+text\",\"name\":\"\",\"orientation\":\"v\",\"showlegend\":false,\"text\":[\"Taipei\",\"NewTaipei\",\"Keelung\",\"Taoyuan\",\"Hsinchu County\",\"Hsinchu City\",\"Miaoli\",\"Taichung\",\"Changhua\",\"Nantou\",\"Yunlin\",\"Chiayi County\",\"Chiayi City\",\"Tainan\",\"Kaohsiung\",\"Pingtung\",\"Yilan\",\"Hualien\",\"Taitung\",\"Penghu\",\"Kinmen\",\"Lienchiang\"],\"x\":[271.7997,2052.5667,132.7589,1220.954,1427.5369,104.1526,1820.3149,2214.8968,1074.396,4106.436,1290.8326,1903.6367,60.0256,2191.6531,2951.8524,2775.6003,2143.6251,4628.5714,3515.2526,126.8641,151.656,28.8],\"xaxis\":\"x\",\"y\":[24,20,3,12,2,5,3,17,2,5,3,4,2,14,16,5,4,4,2,1,1,0],\"yaxis\":\"y\",\"type\":\"scatter\"}],                        {\"template\":{\"data\":{\"bar\":[{\"error_x\":{\"color\":\"#2a3f5f\"},\"error_y\":{\"color\":\"#2a3f5f\"},\"marker\":{\"line\":{\"color\":\"#E5ECF6\",\"width\":0.5},\"pattern\":{\"fillmode\":\"overlay\",\"size\":10,\"solidity\":0.2}},\"type\":\"bar\"}],\"barpolar\":[{\"marker\":{\"line\":{\"color\":\"#E5ECF6\",\"width\":0.5},\"pattern\":{\"fillmode\":\"overlay\",\"size\":10,\"solidity\":0.2}},\"type\":\"barpolar\"}],\"carpet\":[{\"aaxis\":{\"endlinecolor\":\"#2a3f5f\",\"gridcolor\":\"white\",\"linecolor\":\"white\",\"minorgridcolor\":\"white\",\"startlinecolor\":\"#2a3f5f\"},\"baxis\":{\"endlinecolor\":\"#2a3f5f\",\"gridcolor\":\"white\",\"linecolor\":\"white\",\"minorgridcolor\":\"white\",\"startlinecolor\":\"#2a3f5f\"},\"type\":\"carpet\"}],\"choropleth\":[{\"colorbar\":{\"outlinewidth\":0,\"ticks\":\"\"},\"type\":\"choropleth\"}],\"contour\":[{\"colorbar\":{\"outlinewidth\":0,\"ticks\":\"\"},\"colorscale\":[[0.0,\"#0d0887\"],[0.1111111111111111,\"#46039f\"],[0.2222222222222222,\"#7201a8\"],[0.3333333333333333,\"#9c179e\"],[0.4444444444444444,\"#bd3786\"],[0.5555555555555556,\"#d8576b\"],[0.6666666666666666,\"#ed7953\"],[0.7777777777777778,\"#fb9f3a\"],[0.8888888888888888,\"#fdca26\"],[1.0,\"#f0f921\"]],\"type\":\"contour\"}],\"contourcarpet\":[{\"colorbar\":{\"outlinewidth\":0,\"ticks\":\"\"},\"type\":\"contourcarpet\"}],\"heatmap\":[{\"colorbar\":{\"outlinewidth\":0,\"ticks\":\"\"},\"colorscale\":[[0.0,\"#0d0887\"],[0.1111111111111111,\"#46039f\"],[0.2222222222222222,\"#7201a8\"],[0.3333333333333333,\"#9c179e\"],[0.4444444444444444,\"#bd3786\"],[0.5555555555555556,\"#d8576b\"],[0.6666666666666666,\"#ed7953\"],[0.7777777777777778,\"#fb9f3a\"],[0.8888888888888888,\"#fdca26\"],[1.0,\"#f0f921\"]],\"type\":\"heatmap\"}],\"heatmapgl\":[{\"colorbar\":{\"outlinewidth\":0,\"ticks\":\"\"},\"colorscale\":[[0.0,\"#0d0887\"],[0.1111111111111111,\"#46039f\"],[0.2222222222222222,\"#7201a8\"],[0.3333333333333333,\"#9c179e\"],[0.4444444444444444,\"#bd3786\"],[0.5555555555555556,\"#d8576b\"],[0.6666666666666666,\"#ed7953\"],[0.7777777777777778,\"#fb9f3a\"],[0.8888888888888888,\"#fdca26\"],[1.0,\"#f0f921\"]],\"type\":\"heatmapgl\"}],\"histogram\":[{\"marker\":{\"pattern\":{\"fillmode\":\"overlay\",\"size\":10,\"solidity\":0.2}},\"type\":\"histogram\"}],\"histogram2d\":[{\"colorbar\":{\"outlinewidth\":0,\"ticks\":\"\"},\"colorscale\":[[0.0,\"#0d0887\"],[0.1111111111111111,\"#46039f\"],[0.2222222222222222,\"#7201a8\"],[0.3333333333333333,\"#9c179e\"],[0.4444444444444444,\"#bd3786\"],[0.5555555555555556,\"#d8576b\"],[0.6666666666666666,\"#ed7953\"],[0.7777777777777778,\"#fb9f3a\"],[0.8888888888888888,\"#fdca26\"],[1.0,\"#f0f921\"]],\"type\":\"histogram2d\"}],\"histogram2dcontour\":[{\"colorbar\":{\"outlinewidth\":0,\"ticks\":\"\"},\"colorscale\":[[0.0,\"#0d0887\"],[0.1111111111111111,\"#46039f\"],[0.2222222222222222,\"#7201a8\"],[0.3333333333333333,\"#9c179e\"],[0.4444444444444444,\"#bd3786\"],[0.5555555555555556,\"#d8576b\"],[0.6666666666666666,\"#ed7953\"],[0.7777777777777778,\"#fb9f3a\"],[0.8888888888888888,\"#fdca26\"],[1.0,\"#f0f921\"]],\"type\":\"histogram2dcontour\"}],\"mesh3d\":[{\"colorbar\":{\"outlinewidth\":0,\"ticks\":\"\"},\"type\":\"mesh3d\"}],\"parcoords\":[{\"line\":{\"colorbar\":{\"outlinewidth\":0,\"ticks\":\"\"}},\"type\":\"parcoords\"}],\"pie\":[{\"automargin\":true,\"type\":\"pie\"}],\"scatter\":[{\"marker\":{\"colorbar\":{\"outlinewidth\":0,\"ticks\":\"\"}},\"type\":\"scatter\"}],\"scatter3d\":[{\"line\":{\"colorbar\":{\"outlinewidth\":0,\"ticks\":\"\"}},\"marker\":{\"colorbar\":{\"outlinewidth\":0,\"ticks\":\"\"}},\"type\":\"scatter3d\"}],\"scattercarpet\":[{\"marker\":{\"colorbar\":{\"outlinewidth\":0,\"ticks\":\"\"}},\"type\":\"scattercarpet\"}],\"scattergeo\":[{\"marker\":{\"colorbar\":{\"outlinewidth\":0,\"ticks\":\"\"}},\"type\":\"scattergeo\"}],\"scattergl\":[{\"marker\":{\"colorbar\":{\"outlinewidth\":0,\"ticks\":\"\"}},\"type\":\"scattergl\"}],\"scattermapbox\":[{\"marker\":{\"colorbar\":{\"outlinewidth\":0,\"ticks\":\"\"}},\"type\":\"scattermapbox\"}],\"scatterpolar\":[{\"marker\":{\"colorbar\":{\"outlinewidth\":0,\"ticks\":\"\"}},\"type\":\"scatterpolar\"}],\"scatterpolargl\":[{\"marker\":{\"colorbar\":{\"outlinewidth\":0,\"ticks\":\"\"}},\"type\":\"scatterpolargl\"}],\"scatterternary\":[{\"marker\":{\"colorbar\":{\"outlinewidth\":0,\"ticks\":\"\"}},\"type\":\"scatterternary\"}],\"surface\":[{\"colorbar\":{\"outlinewidth\":0,\"ticks\":\"\"},\"colorscale\":[[0.0,\"#0d0887\"],[0.1111111111111111,\"#46039f\"],[0.2222222222222222,\"#7201a8\"],[0.3333333333333333,\"#9c179e\"],[0.4444444444444444,\"#bd3786\"],[0.5555555555555556,\"#d8576b\"],[0.6666666666666666,\"#ed7953\"],[0.7777777777777778,\"#fb9f3a\"],[0.8888888888888888,\"#fdca26\"],[1.0,\"#f0f921\"]],\"type\":\"surface\"}],\"table\":[{\"cells\":{\"fill\":{\"color\":\"#EBF0F8\"},\"line\":{\"color\":\"white\"}},\"header\":{\"fill\":{\"color\":\"#C8D4E3\"},\"line\":{\"color\":\"white\"}},\"type\":\"table\"}]},\"layout\":{\"annotationdefaults\":{\"arrowcolor\":\"#2a3f5f\",\"arrowhead\":0,\"arrowwidth\":1},\"autotypenumbers\":\"strict\",\"coloraxis\":{\"colorbar\":{\"outlinewidth\":0,\"ticks\":\"\"}},\"colorscale\":{\"diverging\":[[0,\"#8e0152\"],[0.1,\"#c51b7d\"],[0.2,\"#de77ae\"],[0.3,\"#f1b6da\"],[0.4,\"#fde0ef\"],[0.5,\"#f7f7f7\"],[0.6,\"#e6f5d0\"],[0.7,\"#b8e186\"],[0.8,\"#7fbc41\"],[0.9,\"#4d9221\"],[1,\"#276419\"]],\"sequential\":[[0.0,\"#0d0887\"],[0.1111111111111111,\"#46039f\"],[0.2222222222222222,\"#7201a8\"],[0.3333333333333333,\"#9c179e\"],[0.4444444444444444,\"#bd3786\"],[0.5555555555555556,\"#d8576b\"],[0.6666666666666666,\"#ed7953\"],[0.7777777777777778,\"#fb9f3a\"],[0.8888888888888888,\"#fdca26\"],[1.0,\"#f0f921\"]],\"sequentialminus\":[[0.0,\"#0d0887\"],[0.1111111111111111,\"#46039f\"],[0.2222222222222222,\"#7201a8\"],[0.3333333333333333,\"#9c179e\"],[0.4444444444444444,\"#bd3786\"],[0.5555555555555556,\"#d8576b\"],[0.6666666666666666,\"#ed7953\"],[0.7777777777777778,\"#fb9f3a\"],[0.8888888888888888,\"#fdca26\"],[1.0,\"#f0f921\"]]},\"colorway\":[\"#636efa\",\"#EF553B\",\"#00cc96\",\"#ab63fa\",\"#FFA15A\",\"#19d3f3\",\"#FF6692\",\"#B6E880\",\"#FF97FF\",\"#FECB52\"],\"font\":{\"color\":\"#2a3f5f\"},\"geo\":{\"bgcolor\":\"white\",\"lakecolor\":\"white\",\"landcolor\":\"#E5ECF6\",\"showlakes\":true,\"showland\":true,\"subunitcolor\":\"white\"},\"hoverlabel\":{\"align\":\"left\"},\"hovermode\":\"closest\",\"mapbox\":{\"style\":\"light\"},\"paper_bgcolor\":\"white\",\"plot_bgcolor\":\"#E5ECF6\",\"polar\":{\"angularaxis\":{\"gridcolor\":\"white\",\"linecolor\":\"white\",\"ticks\":\"\"},\"bgcolor\":\"#E5ECF6\",\"radialaxis\":{\"gridcolor\":\"white\",\"linecolor\":\"white\",\"ticks\":\"\"}},\"scene\":{\"xaxis\":{\"backgroundcolor\":\"#E5ECF6\",\"gridcolor\":\"white\",\"gridwidth\":2,\"linecolor\":\"white\",\"showbackground\":true,\"ticks\":\"\",\"zerolinecolor\":\"white\"},\"yaxis\":{\"backgroundcolor\":\"#E5ECF6\",\"gridcolor\":\"white\",\"gridwidth\":2,\"linecolor\":\"white\",\"showbackground\":true,\"ticks\":\"\",\"zerolinecolor\":\"white\"},\"zaxis\":{\"backgroundcolor\":\"#E5ECF6\",\"gridcolor\":\"white\",\"gridwidth\":2,\"linecolor\":\"white\",\"showbackground\":true,\"ticks\":\"\",\"zerolinecolor\":\"white\"}},\"shapedefaults\":{\"line\":{\"color\":\"#2a3f5f\"}},\"ternary\":{\"aaxis\":{\"gridcolor\":\"white\",\"linecolor\":\"white\",\"ticks\":\"\"},\"baxis\":{\"gridcolor\":\"white\",\"linecolor\":\"white\",\"ticks\":\"\"},\"bgcolor\":\"#E5ECF6\",\"caxis\":{\"gridcolor\":\"white\",\"linecolor\":\"white\",\"ticks\":\"\"}},\"title\":{\"x\":0.05},\"xaxis\":{\"automargin\":true,\"gridcolor\":\"white\",\"linecolor\":\"white\",\"ticks\":\"\",\"title\":{\"standoff\":15},\"zerolinecolor\":\"white\",\"zerolinewidth\":2},\"yaxis\":{\"automargin\":true,\"gridcolor\":\"white\",\"linecolor\":\"white\",\"ticks\":\"\",\"title\":{\"standoff\":15},\"zerolinecolor\":\"white\",\"zerolinewidth\":2}}},\"xaxis\":{\"anchor\":\"y\",\"domain\":[0.0,1.0],\"title\":{\"text\":\"City area\"}},\"yaxis\":{\"anchor\":\"x\",\"domain\":[0.0,1.0],\"title\":{\"text\":\"University number\"}},\"coloraxis\":{\"colorbar\":{\"title\":{\"text\":\"University density\"}},\"colorscale\":[[0.0,\"#0d0887\"],[0.1111111111111111,\"#46039f\"],[0.2222222222222222,\"#7201a8\"],[0.3333333333333333,\"#9c179e\"],[0.4444444444444444,\"#bd3786\"],[0.5555555555555556,\"#d8576b\"],[0.6666666666666666,\"#ed7953\"],[0.7777777777777778,\"#fb9f3a\"],[0.8888888888888888,\"#fdca26\"],[1.0,\"#f0f921\"]]},\"legend\":{\"tracegroupgap\":0,\"itemsizing\":\"constant\"},\"margin\":{\"t\":60}},                        {\"responsive\": true}                    ).then(function(){\n",
       "                            \n",
       "var gd = document.getElementById('ad805ff5-f8ab-41c5-842a-df681fc1c70c');\n",
       "var x = new MutationObserver(function (mutations, observer) {{\n",
       "        var display = window.getComputedStyle(gd).display;\n",
       "        if (!display || display === 'none') {{\n",
       "            console.log([gd, 'removed!']);\n",
       "            Plotly.purge(gd);\n",
       "            observer.disconnect();\n",
       "        }}\n",
       "}});\n",
       "\n",
       "// Listen for the removal of the full notebook cells\n",
       "var notebookContainer = gd.closest('#notebook-container');\n",
       "if (notebookContainer) {{\n",
       "    x.observe(notebookContainer, {childList: true});\n",
       "}}\n",
       "\n",
       "// Listen for the clearing of the current output cell\n",
       "var outputEl = gd.closest('.output');\n",
       "if (outputEl) {{\n",
       "    x.observe(outputEl, {childList: true});\n",
       "}}\n",
       "\n",
       "                        })                };                });            </script>        </div>"
      ]
     },
     "metadata": {},
     "output_type": "display_data"
    }
   ],
   "source": [
    "import plotly.express as px\n",
    "\n",
    "fig = px.scatter(\n",
    "    ana2,\n",
    "    x=\"City area\",\n",
    "    y=\"University number\",\n",
    "    hover_data=[\"City\",\"University density\"],   # 列表形式\n",
    "    color=\"University density\",\n",
    "    size=\"University density\",\n",
    "    size_max=60,\n",
    "    text=\"City\"\n",
    "    )\n",
    "\n",
    "fig.show()"
   ]
  },
  {
   "cell_type": "code",
   "execution_count": null,
   "id": "f39b5f2b",
   "metadata": {},
   "outputs": [],
   "source": []
  },
  {
   "cell_type": "code",
   "execution_count": null,
   "id": "728a3ff3",
   "metadata": {},
   "outputs": [],
   "source": []
  }
 ],
 "metadata": {
  "kernelspec": {
   "display_name": "Python 3 (ipykernel)",
   "language": "python",
   "name": "python3"
  },
  "language_info": {
   "codemirror_mode": {
    "name": "ipython",
    "version": 3
   },
   "file_extension": ".py",
   "mimetype": "text/x-python",
   "name": "python",
   "nbconvert_exporter": "python",
   "pygments_lexer": "ipython3",
   "version": "3.9.12"
  }
 },
 "nbformat": 4,
 "nbformat_minor": 5
}
