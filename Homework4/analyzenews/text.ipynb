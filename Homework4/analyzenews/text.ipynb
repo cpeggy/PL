{
 "cells": [
  {
   "cell_type": "code",
   "execution_count": 68,
   "id": "080a3eb5",
   "metadata": {},
   "outputs": [],
   "source": [
    "import requests \n",
    "from bs4 import BeautifulSoup\n",
    "import pandas as pd\n",
    " \n",
    " \n",
    "url1 = 'https://www.cna.com.tw/news/ahel/202103100239.aspx'\n",
    "r1 = requests.get(url1)\n",
    "web_content = r1.text\n",
    "soup1 = BeautifulSoup(web_content,'lxml')"
   ]
  },
  {
   "cell_type": "code",
   "execution_count": 69,
   "id": "8cb63bba",
   "metadata": {},
   "outputs": [],
   "source": [
    "url2 = 'https://www.cna.com.tw/news/firstnews/202106050038.aspx'\n",
    "r2 = requests.get(url2)\n",
    "web_content = r2.text\n",
    "soup2 = BeautifulSoup(web_content,'lxml')"
   ]
  },
  {
   "cell_type": "code",
   "execution_count": 72,
   "id": "69fe1212",
   "metadata": {},
   "outputs": [
    {
     "data": {
      "text/plain": [
       "[<p>（中央社記者陳至中台北10日電）蘭陽技術學院宣布110學年度起停招，教育部表示，已要求董事會再捐資新台幣3500萬元，學校規劃持續辦學到舊生畢業。</p>,\n",
       " <p>蘭陽技術學院董事會今天表示，目前在財務方面零負債，教職員工未曾欠薪，財務健全，營運正常，但受到少子女化影響、校地處偏鄉，永續辦學在未來仍有難以克服因素，決定自110學年起停招。</p>,\n",
       " <p>教育部今天稍晚告訴中央社記者，蘭陽技術學院停招計畫經1月14日校務會議報告、1月26日董事會通過後報到教育部，教育部於2月20日函覆同意辦理，同時要求董事會須再捐資3500萬元，作為停招後所需資金，若有不足，仍要繼續捐資因應。</p>,\n",
       " <p>蘭陽技術學院目前有577名學生，扣除畢業生，110 學年度仍會有308名學生。教育部表示，學校規劃持續辦學到舊生畢業。另外，現有教師32名、職員33名，將編列資遣費、優離優退慰問金等逐年離退。</p>,\n",
       " <p>教育部長潘文忠今天下午在部務會報前接受媒體聯訪，也呼籲蘭陽技術學院要依法維護學生的學習權益，以及教師的工作權。</p>,\n",
       " <p>由於目前已是110學年度的招生季，陸續有多所私校傳出經營危機，媒體問及如何避免選校踩到「地雷」。潘文忠建議，學生、家長可參考大專校院公開資訊，包括註冊率、財務狀況等，瞭解學校狀況後再作決定。（編輯：陳政偉）1100310</p>,\n",
       " <p>本網站之文字、圖片及影音，非經授權，不得轉載、公開播送或公開傳輸及利用。</p>]"
      ]
     },
     "execution_count": 72,
     "metadata": {},
     "output_type": "execute_result"
    }
   ],
   "source": [
    "articleContent1 = soup1.find_all('p')\n",
    "articleContent1"
   ]
  },
  {
   "cell_type": "code",
   "execution_count": 73,
   "id": "147ca4c8",
   "metadata": {},
   "outputs": [
    {
     "data": {
      "text/plain": [
       "[<p>（中央社記者陳至中台北5日電）教育部今天表示，經技專校院設立變更及停辦審議會審議通過，位於花蓮縣的台灣觀光學院，將於9月1日起停辦，扣除應屆畢業生後的108名學生，將由教育部協助安置。</p>,\n",
       " <p>受到少子女化影響，台灣觀光學院招生困難，今年4月將停辦計畫報到教育部。教育部於5月24日以線上形式召開私校諮詢會，出席委員（19名）全數同意，建議教育部核定台觀停辦。</p>,\n",
       " <p>教育部今天表示，本月1日召開的「專科以上學校設立變更及停辦審議會」，正式審議通過台觀的停辦案。教育部考量學校要在暑假期間開設暑修課程，為應屆畢業生補齊學分，因此將停辦日期安排在今年9月1日。</p>,\n",
       " <p>教育部表示，台觀目前有專任教師2名、專案教師計7名、職員17名。教職員可利用「大專校院高等教育人力躍升培訓及媒合平台」轉介其他單位，或依法辦理資遣或退休。</p>,\n",
       " <p>教育部表示，台觀將參考「私立高級中等以上學校退場條例」草案精神，按教職員工服務工作年資，發給資遣慰助金，最高發給6個月薪資。</p>,\n",
       " <p>學生部分，台觀扣除今年應屆畢業生後剩108名，教育部將召開說明會，將以學生實際需求給予安置與協助 。學生轉學後，原校修過的學分可從寬抵免，畢業門檻依原校標準，未完成的論文或專題，由轉入校協助繼續完成，學雜費也以依照原校標準收取為原則。</p>,\n",
       " <p>學生轉學後，住宿、交通多有不便。教育部表示，有住宿需求的學生，轉入校可協助安排校內宿舍，如有增加住宿費用或交通費支出，所需經費可由教育部轉型退場基金補助。另外包括就學貸款、獎學金、工讀金等，也都會由轉入校持續提供協助。（編輯：陳政偉）1100605</p>,\n",
       " <p>本網站之文字、圖片及影音，非經授權，不得轉載、公開播送或公開傳輸及利用。</p>]"
      ]
     },
     "execution_count": 73,
     "metadata": {},
     "output_type": "execute_result"
    }
   ],
   "source": [
    "articleContent2 = soup2.find_all('p')\n",
    "articleContent2"
   ]
  },
  {
   "cell_type": "code",
   "execution_count": 75,
   "id": "a1da186f",
   "metadata": {},
   "outputs": [
    {
     "data": {
      "text/plain": [
       "[<p>（中央社記者陳至中台北10日電）蘭陽技術學院宣布110學年度起停招，教育部表示，已要求董事會再捐資新台幣3500萬元，學校規劃持續辦學到舊生畢業。</p>,\n",
       " <p>蘭陽技術學院董事會今天表示，目前在財務方面零負債，教職員工未曾欠薪，財務健全，營運正常，但受到少子女化影響、校地處偏鄉，永續辦學在未來仍有難以克服因素，決定自110學年起停招。</p>,\n",
       " <p>教育部今天稍晚告訴中央社記者，蘭陽技術學院停招計畫經1月14日校務會議報告、1月26日董事會通過後報到教育部，教育部於2月20日函覆同意辦理，同時要求董事會須再捐資3500萬元，作為停招後所需資金，若有不足，仍要繼續捐資因應。</p>,\n",
       " <p>蘭陽技術學院目前有577名學生，扣除畢業生，110 學年度仍會有308名學生。教育部表示，學校規劃持續辦學到舊生畢業。另外，現有教師32名、職員33名，將編列資遣費、優離優退慰問金等逐年離退。</p>,\n",
       " <p>教育部長潘文忠今天下午在部務會報前接受媒體聯訪，也呼籲蘭陽技術學院要依法維護學生的學習權益，以及教師的工作權。</p>,\n",
       " <p>由於目前已是110學年度的招生季，陸續有多所私校傳出經營危機，媒體問及如何避免選校踩到「地雷」。潘文忠建議，學生、家長可參考大專校院公開資訊，包括註冊率、財務狀況等，瞭解學校狀況後再作決定。（編輯：陳政偉）1100310</p>,\n",
       " <p>本網站之文字、圖片及影音，非經授權，不得轉載、公開播送或公開傳輸及利用。</p>,\n",
       " <p>（中央社記者陳至中台北5日電）教育部今天表示，經技專校院設立變更及停辦審議會審議通過，位於花蓮縣的台灣觀光學院，將於9月1日起停辦，扣除應屆畢業生後的108名學生，將由教育部協助安置。</p>,\n",
       " <p>受到少子女化影響，台灣觀光學院招生困難，今年4月將停辦計畫報到教育部。教育部於5月24日以線上形式召開私校諮詢會，出席委員（19名）全數同意，建議教育部核定台觀停辦。</p>,\n",
       " <p>教育部今天表示，本月1日召開的「專科以上學校設立變更及停辦審議會」，正式審議通過台觀的停辦案。教育部考量學校要在暑假期間開設暑修課程，為應屆畢業生補齊學分，因此將停辦日期安排在今年9月1日。</p>,\n",
       " <p>教育部表示，台觀目前有專任教師2名、專案教師計7名、職員17名。教職員可利用「大專校院高等教育人力躍升培訓及媒合平台」轉介其他單位，或依法辦理資遣或退休。</p>,\n",
       " <p>教育部表示，台觀將參考「私立高級中等以上學校退場條例」草案精神，按教職員工服務工作年資，發給資遣慰助金，最高發給6個月薪資。</p>,\n",
       " <p>學生部分，台觀扣除今年應屆畢業生後剩108名，教育部將召開說明會，將以學生實際需求給予安置與協助 。學生轉學後，原校修過的學分可從寬抵免，畢業門檻依原校標準，未完成的論文或專題，由轉入校協助繼續完成，學雜費也以依照原校標準收取為原則。</p>,\n",
       " <p>學生轉學後，住宿、交通多有不便。教育部表示，有住宿需求的學生，轉入校可協助安排校內宿舍，如有增加住宿費用或交通費支出，所需經費可由教育部轉型退場基金補助。另外包括就學貸款、獎學金、工讀金等，也都會由轉入校持續提供協助。（編輯：陳政偉）1100605</p>,\n",
       " <p>本網站之文字、圖片及影音，非經授權，不得轉載、公開播送或公開傳輸及利用。</p>]"
      ]
     },
     "execution_count": 75,
     "metadata": {},
     "output_type": "execute_result"
    }
   ],
   "source": [
    "articleContent=articleContent1+articleContent2\n",
    "articleContent"
   ]
  },
  {
   "cell_type": "code",
   "execution_count": 78,
   "id": "de3379b6",
   "metadata": {},
   "outputs": [],
   "source": [
    "# 將所有tag p中的text取出並放進list。\n",
    "article = []\n",
    "for p in articleContent:\n",
    "    article.append(p.text)"
   ]
  },
  {
   "cell_type": "code",
   "execution_count": 79,
   "id": "014258ad",
   "metadata": {},
   "outputs": [
    {
     "name": "stdout",
     "output_type": "stream",
     "text": [
      "（中央社記者陳至中台北10日電）蘭陽技術學院宣布110學年度起停招，教育部表示，已要求董事會再捐資新台幣3500萬元，學校規劃持續辦學到舊生畢業。\n",
      "蘭陽技術學院董事會今天表示，目前在財務方面零負債，教職員工未曾欠薪，財務健全，營運正常，但受到少子女化影響、校地處偏鄉，永續辦學在未來仍有難以克服因素，決定自110學年起停招。\n",
      "教育部今天稍晚告訴中央社記者，蘭陽技術學院停招計畫經1月14日校務會議報告、1月26日董事會通過後報到教育部，教育部於2月20日函覆同意辦理，同時要求董事會須再捐資3500萬元，作為停招後所需資金，若有不足，仍要繼續捐資因應。\n",
      "蘭陽技術學院目前有577名學生，扣除畢業生，110 學年度仍會有308名學生。教育部表示，學校規劃持續辦學到舊生畢業。另外，現有教師32名、職員33名，將編列資遣費、優離優退慰問金等逐年離退。\n",
      "教育部長潘文忠今天下午在部務會報前接受媒體聯訪，也呼籲蘭陽技術學院要依法維護學生的學習權益，以及教師的工作權。\n",
      "由於目前已是110學年度的招生季，陸續有多所私校傳出經營危機，媒體問及如何避免選校踩到「地雷」。潘文忠建議，學生、家長可參考大專校院公開資訊，包括註冊率、財務狀況等，瞭解學校狀況後再作決定。（編輯：陳政偉）1100310\n",
      "本網站之文字、圖片及影音，非經授權，不得轉載、公開播送或公開傳輸及利用。\n",
      "（中央社記者陳至中台北5日電）教育部今天表示，經技專校院設立變更及停辦審議會審議通過，位於花蓮縣的台灣觀光學院，將於9月1日起停辦，扣除應屆畢業生後的108名學生，將由教育部協助安置。\n",
      "受到少子女化影響，台灣觀光學院招生困難，今年4月將停辦計畫報到教育部。教育部於5月24日以線上形式召開私校諮詢會，出席委員（19名）全數同意，建議教育部核定台觀停辦。\n",
      "教育部今天表示，本月1日召開的「專科以上學校設立變更及停辦審議會」，正式審議通過台觀的停辦案。教育部考量學校要在暑假期間開設暑修課程，為應屆畢業生補齊學分，因此將停辦日期安排在今年9月1日。\n",
      "教育部表示，台觀目前有專任教師2名、專案教師計7名、職員17名。教職員可利用「大專校院高等教育人力躍升培訓及媒合平台」轉介其他單位，或依法辦理資遣或退休。\n",
      "教育部表示，台觀將參考「私立高級中等以上學校退場條例」草案精神，按教職員工服務工作年資，發給資遣慰助金，最高發給6個月薪資。\n",
      "學生部分，台觀扣除今年應屆畢業生後剩108名，教育部將召開說明會，將以學生實際需求給予安置與協助 。學生轉學後，原校修過的學分可從寬抵免，畢業門檻依原校標準，未完成的論文或專題，由轉入校協助繼續完成，學雜費也以依照原校標準收取為原則。\n",
      "學生轉學後，住宿、交通多有不便。教育部表示，有住宿需求的學生，轉入校可協助安排校內宿舍，如有增加住宿費用或交通費支出，所需經費可由教育部轉型退場基金補助。另外包括就學貸款、獎學金、工讀金等，也都會由轉入校持續提供協助。（編輯：陳政偉）1100605\n",
      "本網站之文字、圖片及影音，非經授權，不得轉載、公開播送或公開傳輸及利用。\n"
     ]
    }
   ],
   "source": [
    "articleAll = '\\n'.join(article)\n",
    "print(articleAll)"
   ]
  },
  {
   "cell_type": "code",
   "execution_count": 80,
   "id": "e9e4c591",
   "metadata": {},
   "outputs": [],
   "source": [
    "import jieba\n",
    "import nltk"
   ]
  },
  {
   "cell_type": "code",
   "execution_count": 81,
   "id": "e79cef47",
   "metadata": {},
   "outputs": [],
   "source": [
    "jieba.load_userdict('text.txt') # 輸入自己字典的路徑"
   ]
  },
  {
   "cell_type": "code",
   "execution_count": 86,
   "id": "580ea209",
   "metadata": {},
   "outputs": [
    {
     "name": "stdout",
     "output_type": "stream",
     "text": [
      "蘭陽技術學院宣布110學年度起停招表示已要求董事會再捐資新台幣3500萬元學校規劃持續辦學到舊生畢業\n",
      "蘭陽技術學院董事會今天表示目前在財務方面零負債教職員工未曾欠薪財務健全營運正常但受到少子女化影響校地處偏鄉永續辦學在未來仍有難以克服因素決定自110學年起停招\n",
      "今天稍晚告訴蘭陽技術學院停招計畫經1月14日校務會議報告1月26日董事會通過後報到於2月20日函覆同意辦理同時要求董事會須再捐資3500萬元作為停招後所需資金若有不足仍要繼續捐資因應\n",
      "蘭陽技術學院目前有577名學生扣除畢業生110 學年度仍會有308名學生表示學校規劃持續辦學到舊生畢業另外現有教師32名職員33名將編列資遣費優離優退慰問金等逐年離退\n",
      "長今天下午在部務會報前接受媒體聯訪也呼籲蘭陽技術學院要依法維護學生的學習權益以及教師的工作權\n",
      "由於目前已是110學年度的招生季陸續有多所私校傳出經營危機媒體問及如何避免選校踩到地雷建議學生家長可參考大專校院公開資訊包括註冊率財務狀況等瞭解學校狀況後再作決定\n",
      "\n",
      "今天表示經技專校院設立變更及停辦審議會審議通過位於花蓮縣的台灣觀光學院將於9月1日起停辦扣除應屆畢業生後的108名學生將由協助安置\n",
      "受到少子女化影響台灣觀光學院招生困難今年4月將停辦計畫報到於5月24日以線上形式召開私校諮詢會出席委員19名全數同意建議核定台觀停辦\n",
      "今天表示本月1日召開的專科以上學校設立變更及停辦審議會正式審議通過台觀的停辦案考量學校要在暑假期間開設暑修課程為應屆畢業生補齊學分因此將停辦日期安排在今年9月1日\n",
      "表示台觀目前有專任教師2名專案教師計7名職員17名教職員可利用大專校院高等教育人力躍升培訓及媒合平台轉介其他單位或依法辦理資遣或退休\n",
      "表示台觀將參考私立高級中等以上學校退場條例草案精神按教職員工服務工作年資發給資遣慰助金最高發給6個月薪資\n",
      "學生部分台觀扣除今年應屆畢業生後剩108名將召開說明會將以學生實際需求給予安置與協助 學生轉學後原校修過的學分可從寬抵免畢業門檻依原校標準未完成的論文或專題由轉入校協助繼續完成學雜費也以依照原校標準收取為原則\n",
      "學生轉學後住宿交通多有不便表示有住宿需求的學生轉入校可協助安排校內宿舍如有增加住宿費用或交通費支出所需經費可由轉型退場基金補助另外包括就學貸款獎學金工讀金等也都會由轉入校持續提供協助\n",
      "\n"
     ]
    }
   ],
   "source": [
    "d = articleAll.replace('[^\\w\\s]','').replace('／',\"\").replace('《','').replace('》','').replace('，','').replace('。','').replace('「','').replace('」','').replace('（','').replace('）','').replace('！','').replace('？','').replace('、','').replace('▲','').replace('…','').replace('：','').replace('中央社記者','').replace('台北','').replace('本網站之文字圖片及影音非經授權不得轉載公開播送或公開傳輸及利用','').replace('教育部','').replace('編輯陳政偉','').replace('陳至中10日電','').replace('陳至中5日電','').replace('潘文忠','').replace('1100310','').replace('1100605','')\n",
    "print(d)"
   ]
  },
  {
   "cell_type": "code",
   "execution_count": 87,
   "id": "6131795a",
   "metadata": {},
   "outputs": [
    {
     "name": "stdout",
     "output_type": "stream",
     "text": [
      "全模式: 蘭/ 陽/ 技/ 術/ 學/ 院/ 宣布/ 110/ 學/ 年度/ 起/ 停/ 招/ 表示/ 已/ 要求/ 董事/ 會/ 再/ 捐/ 資/ 新/ 台/ 幣/ 3500/ 萬/ 元/ 學/ 校/ 規/ 劃/ 持/ 續/ 辦/ 學/ 到/ 舊/ 生/ 畢/ 業/ / \n",
      "/ / 蘭/ 陽/ 技/ 術/ 學/ 院/ 董事/ 會/ 今天/ 表示/ 目前/ 在/ 財/ 務/ 方面/ 零/ 負/ 債/ 教/ 職/ 員/ 工/ 未曾/ 欠薪/ 財/ 務/ 健全/ 營/ 運/ 正常/ 但/ 受到/ 少子/ 子女/ 化/ 影/ 響/ 校/ 地/ 處/ 偏/ 鄉/ 永/ 續/ 辦/ 學/ 在/ 未/ 來/ 仍/ 有/ 難/ 以/ 克服/ 因素/ 決/ 定/ 自/ 110/ 學/ 年/ 起/ 停/ 招/ / \n",
      "/ / 今天/ 稍晚/ 告/ 訴/ 蘭/ 陽/ 技/ 術/ 學/ 院/ 停/ 招/ 計/ 畫/ 經/ 1/ 月/ 14/ 日/ 校/ 務/ 會/ 議/ 報/ 告/ 1/ 月/ 26/ 日/ 董事/ 會/ 通/ 過/ 後/ 報/ 到/ 於/ 2/ 月/ 20/ 日/ 函/ 覆/ 同意/ 辦/ 理/ 同/ 時/ 要求/ 董事/ 會/ 須/ 再/ 捐/ 資/ 3500/ 萬/ 元/ 作/ 為/ 停/ 招/ 後/ 所需/ 資/ 金/ 若/ 有/ 不足/ 仍要/ 繼/ 續/ 捐/ 資/ 因/ 應/ / \n",
      "/ / 蘭/ 陽/ 技/ 術/ 學/ 院/ 目前/ 有/ 577/ 名/ 學/ 生/ 扣除/ 畢/ 業/ 生/ 110/ /  / / 學/ 年度/ 仍/ 會/ 有/ 308/ 名/ 學/ 生/ 表示/ 學/ 校/ 規/ 劃/ 持/ 續/ 辦/ 學/ 到/ 舊/ 生/ 畢/ 業/ 另外/ 現/ 有/ 教/ 師/ 32/ 名/ 職/ 員/ 33/ 名/ 將/ 編/ 列/ 資/ 遣/ 費/ 優/ 離/ 優/ 退/ 慰/ 問/ 金/ 等/ 逐年/ 離/ 退/ / \n",
      "/ / 長/ 潘/ 文/ 忠/ 今天/ 今天下午/ 天下/ 下午/ 在/ 部/ 務/ 會/ 報/ 前/ 接受/ 媒/ 體/ 聯/ 訪/ 也/ 呼/ 籲/ 蘭/ 陽/ 技/ 術/ 學/ 院/ 要/ 依法/ 維/ 護/ 學/ 生/ 的/ 學/ 習/ 權/ 益/ 以及/ 教/ 師/ 的/ 工作/ 權/ / \n",
      "/ / 由/ 於/ 目前/ 已是/ 110/ 學/ 年度/ 的/ 招生/ 季/ 陸/ 續/ 有/ 多所/ 私/ 校/ 傳/ 出/ 經/ 營/ 危/ 機/ 媒/ 體/ 問/ 及/ 如何/ 避免/ 選/ 校/ 踩到/ 地雷/ 潘/ 文/ 忠/ 建/ 議/ 學/ 生/ 家/ 長/ 可/ 參/ 考/ 大/ 專/ 校院/ 公/ 開/ 資/ 訊/ 包括/ 註/ 冊/ 率/ 財/ 務/ 狀/ 況/ 等/ 瞭/ 解/ 學/ 校/ 狀/ 況/ 後/ 再/ 作/ 決/ 定/ 1100310/ / \n",
      "/ \n",
      "\n",
      "精確模式: 蘭陽/ 技術/ 學院/ 宣布/ 110/ 學/ 年度/ 起/ 停招/ 表示/ 已/ 要求/ 董事/ 會/ 再/ 捐資新/ 台幣/ 3500/ 萬元學校/ 規劃/ 持續/ 辦學到/ 舊生/ 畢業/ \n",
      "/ 蘭陽/ 技術/ 學院/ 董事/ 會/ 今天/ 表示/ 目前/ 在/ 財務/ 方面/ 零負/ 債教/ 職員工/ 未曾/ 欠薪/ 財務/ 健全/ 營運/ 正常/ 但/ 受到/ 少/ 子女/ 化影/ 響校/ 地處/ 偏鄉/ 永續/ 辦學/ 在/ 未來/ 仍/ 有/ 難以/ 克服/ 因素/ 決定/ 自/ 110/ 學年/ 起/ 停招/ \n",
      "/ 今天/ 稍晚/ 告訴/ 蘭陽/ 技術/ 學院/ 停/ 招計/ 畫經/ 1/ 月/ 14/ 日/ 校務會議/ 報告/ 1/ 月/ 26/ 日/ 董事/ 會通/ 過後報/ 到/ 於/ 2/ 月/ 20/ 日函覆/ 同意/ 辦理/ 同時/ 要求/ 董事/ 會須/ 再/ 捐資/ 3500/ 萬元作/ 為/ 停/ 招後所/ 需資金/ 若/ 有/ 不足/ 仍要/ 繼續/ 捐資/ 因應/ \n",
      "/ 蘭陽/ 技術/ 學院/ 目前/ 有/ 577/ 名學生/ 扣除/ 畢業生/ 110/  / 學/ 年度/ 仍會/ 有/ 308/ 名學生/ 表示/ 學校/ 規劃/ 持續/ 辦學到/ 舊生/ 畢業/ 另外/ 現有/ 教師/ 32/ 名/ 職員/ 33/ 名將/ 編列/ 資遣費/ 優離/ 優退慰/ 問金/ 等/ 逐年/ 離退/ \n",
      "/ 長/ 潘文忠/ 今天下午/ 在/ 部務會/ 報前/ 接受/ 媒體/ 聯訪/ 也/ 呼籲蘭陽/ 技術/ 學院/ 要/ 依法/ 維護/ 學生/ 的/ 學習/ 權益/ 以及/ 教師/ 的/ 工作/ 權/ \n",
      "/ 由/ 於/ 目前/ 已/ 是/ 110/ 學/ 年度/ 的/ 招生/ 季陸續/ 有/ 多所/ 私校/ 傳出/ 經營/ 危機/ 媒體/ 問及/ 如何/ 避免/ 選校/ 踩/ 到/ 地雷/ 潘文忠/ 建議/ 學生家長/ 可/ 參考/ 大專/ 校院/ 公開/ 資訊/ 包括/ 註/ 冊/ 率/ 財/ 務/ 狀/ 況/ 等/ 瞭/ 解/ 學/ 校/ 狀/ 況/ 後/ 再/ 作/ 決/ 定/ 1100310/ \n",
      "\n",
      "\n",
      "Default為精確模式: 蘭陽/ 技術/ 學院/ 宣布/ 110/ 學/ 年度/ 起/ 停招/ 表示/ 已/ 要求/ 董事/ 會/ 再/ 捐資新/ 台幣/ 3500/ 萬元學校/ 規劃/ 持續/ 辦學到/ 舊生/ 畢業/ \n",
      "/ 蘭陽/ 技術/ 學院/ 董事/ 會/ 今天/ 表示/ 目前/ 在/ 財務/ 方面/ 零負/ 債教/ 職員工/ 未曾/ 欠薪/ 財務/ 健全/ 營運/ 正常/ 但/ 受到/ 少/ 子女/ 化影/ 響校/ 地處/ 偏鄉/ 永續/ 辦學/ 在/ 未來/ 仍/ 有/ 難以/ 克服/ 因素/ 決定/ 自/ 110/ 學年/ 起/ 停招/ \n",
      "/ 今天/ 稍晚/ 告訴/ 蘭陽/ 技術/ 學院/ 停/ 招計/ 畫經/ 1/ 月/ 14/ 日/ 校務會議/ 報告/ 1/ 月/ 26/ 日/ 董事/ 會通/ 過後報/ 到/ 於/ 2/ 月/ 20/ 日函覆/ 同意/ 辦理/ 同時/ 要求/ 董事/ 會須/ 再/ 捐資/ 3500/ 萬元作/ 為/ 停/ 招後所/ 需資金/ 若/ 有/ 不足/ 仍要/ 繼續/ 捐資/ 因應/ \n",
      "/ 蘭陽/ 技術/ 學院/ 目前/ 有/ 577/ 名學生/ 扣除/ 畢業生/ 110/  / 學/ 年度/ 仍會/ 有/ 308/ 名學生/ 表示/ 學校/ 規劃/ 持續/ 辦學到/ 舊生/ 畢業/ 另外/ 現有/ 教師/ 32/ 名/ 職員/ 33/ 名將/ 編列/ 資遣費/ 優離/ 優退慰/ 問金/ 等/ 逐年/ 離退/ \n",
      "/ 長/ 潘文忠/ 今天下午/ 在/ 部務會/ 報前/ 接受/ 媒體/ 聯訪/ 也/ 呼籲蘭陽/ 技術/ 學院/ 要/ 依法/ 維護/ 學生/ 的/ 學習/ 權益/ 以及/ 教師/ 的/ 工作/ 權/ \n",
      "/ 由/ 於/ 目前/ 已/ 是/ 110/ 學/ 年度/ 的/ 招生/ 季陸續/ 有/ 多所/ 私校/ 傳出/ 經營/ 危機/ 媒體/ 問及/ 如何/ 避免/ 選校/ 踩/ 到/ 地雷/ 潘文忠/ 建議/ 學生家長/ 可/ 參考/ 大專/ 校院/ 公開/ 資訊/ 包括/ 註/ 冊/ 率/ 財/ 務/ 狀/ 況/ 等/ 瞭/ 解/ 學/ 校/ 狀/ 況/ 後/ 再/ 作/ 決/ 定/ 1100310/ \n",
      "\n",
      "\n",
      "搜索引擎模式: 蘭陽/ 技術/ 學院/ 宣布/ 110/ 學/ 年度/ 起/ 停招/ 表示/ 已/ 要求/ 董事/ 會/ 再/ 捐資新/ 台幣/ 3500/ 萬元學校/ 規劃/ 持續/ 辦學到/ 舊生/ 畢業/ \n",
      "/ 蘭陽/ 技術/ 學院/ 董事/ 會/ 今天/ 表示/ 目前/ 在/ 財務/ 方面/ 零負/ 債教/ 職員工/ 未曾/ 欠薪/ 財務/ 健全/ 營運/ 正常/ 但/ 受到/ 少/ 子女/ 化影/ 響校/ 地處/ 偏鄉/ 永續/ 辦學/ 在/ 未來/ 仍/ 有/ 難以/ 克服/ 因素/ 決定/ 自/ 110/ 學年/ 起/ 停招/ \n",
      "/ 今天/ 稍晚/ 告訴/ 蘭陽/ 技術/ 學院/ 停/ 招計/ 畫經/ 1/ 月/ 14/ 日/ 校務會議/ 報告/ 1/ 月/ 26/ 日/ 董事/ 會通/ 過後報/ 到/ 於/ 2/ 月/ 20/ 日函覆/ 同意/ 辦理/ 同時/ 要求/ 董事/ 會須/ 再/ 捐資/ 3500/ 萬元作/ 為/ 停/ 招後所/ 需資金/ 若/ 有/ 不足/ 仍要/ 繼續/ 捐資/ 因應/ \n",
      "/ 蘭陽/ 技術/ 學院/ 目前/ 有/ 577/ 名學生/ 扣除/ 畢業生/ 110/  / 學/ 年度/ 仍會/ 有/ 308/ 名學生/ 表示/ 學校/ 規劃/ 持續/ 辦學到/ 舊生/ 畢業/ 另外/ 現有/ 教師/ 32/ 名/ 職員/ 33/ 名將/ 編列/ 資遣費/ 優離/ 優退慰/ 問金/ 等/ 逐年/ 離退/ \n",
      "/ 長/ 潘文忠/ 今天/ 天下/ 下午/ 今天下午/ 在/ 部務會/ 報前/ 接受/ 媒體/ 聯訪/ 也/ 呼籲蘭陽/ 技術/ 學院/ 要/ 依法/ 維護/ 學生/ 的/ 學習/ 權益/ 以及/ 教師/ 的/ 工作/ 權/ \n",
      "/ 由/ 於/ 目前/ 已/ 是/ 110/ 學/ 年度/ 的/ 招生/ 季陸續/ 有/ 多所/ 私校/ 傳出/ 經營/ 危機/ 媒體/ 問及/ 如何/ 避免/ 選校/ 踩/ 到/ 地雷/ 潘文忠/ 建議/ 學生家長/ 可/ 參考/ 大專/ 校院/ 公開/ 資訊/ 包括/ 註/ 冊/ 率/ 財/ 務/ 狀/ 況/ 等/ 瞭/ 解/ 學/ 校/ 狀/ 況/ 後/ 再/ 作/ 決/ 定/ 1100310/ \n",
      "\n",
      "\n"
     ]
    }
   ],
   "source": [
    "jieba.setLogLevel(20)\n",
    "\n",
    "Sentence = jieba.cut(d1, cut_all=True)\n",
    "print('全模式'+\": \"  + \"/ \".join(Sentence) + '\\n')   \n",
    " \n",
    "Sentence = jieba.cut(d1, cut_all=False)\n",
    "print('精確模式'+\": \" + \"/ \".join(Sentence)+ '\\n')  \n",
    " \n",
    "Sentence = jieba.cut(d1)  \n",
    "print('Default為精確模式'+\": \" + \"/ \".join(Sentence)+ '\\n')\n",
    " \n",
    "Sentence = jieba.cut_for_search(d1)  \n",
    "print('搜索引擎模式'+\": \" + \"/ \".join(Sentence)+ '\\n')"
   ]
  },
  {
   "cell_type": "code",
   "execution_count": 88,
   "id": "acaefd6f",
   "metadata": {},
   "outputs": [
    {
     "data": {
      "text/plain": [
       "generator"
      ]
     },
     "execution_count": 88,
     "metadata": {},
     "output_type": "execute_result"
    }
   ],
   "source": [
    "type(Sentence)"
   ]
  },
  {
   "cell_type": "code",
   "execution_count": 89,
   "id": "bff14acd",
   "metadata": {},
   "outputs": [],
   "source": [
    "import matplotlib.pyplot as plt\n",
    "from wordcloud import WordCloud"
   ]
  },
  {
   "cell_type": "code",
   "execution_count": 90,
   "id": "fc63ae32",
   "metadata": {},
   "outputs": [],
   "source": [
    "# 設定停用字詞 \n",
    "stopwords = {}.fromkeys([\"也\",\"但\",\"來\",\"個\",\"再\",\"的\",\"和\",\"是\",\"有\",\"更\",\"會\",\"可能\",\"有何\",\"從\",\"對\",\"就\", '\\n','越','為','這種','多','越來',' '])\n",
    "#stopwords = {\"也\",\"但\",\"來\",\"個\",\"再\",\"的\",\"和\",\"是\",\"有\",\"更\",\"會\",\"可能\",\"有何\",\"從\",\"對\",\"就\",'\\n','越','為','這種'"
   ]
  },
  {
   "cell_type": "code",
   "execution_count": 96,
   "id": "74be8f16",
   "metadata": {},
   "outputs": [],
   "source": [
    "# 使用cut_for_search(搜尋引擎)斷詞模式並產生字詞頻率的dictionary (並剔除stopwords的計算)\n",
    "Sentence = jieba.cut_for_search(d) "
   ]
  },
  {
   "cell_type": "code",
   "execution_count": 97,
   "id": "0e018b70",
   "metadata": {},
   "outputs": [],
   "source": [
    "# create a python dictionary\n",
    "hash = {}\n",
    "for item in Sentence:\n",
    "\n",
    "    if item in stopwords:\n",
    "        continue\n",
    "    \n",
    "    if item in hash:\n",
    "        hash[item] += 1\n",
    "    else:\n",
    "        hash[item] = 1"
   ]
  },
  {
   "cell_type": "code",
   "execution_count": 98,
   "id": "dffc8856",
   "metadata": {},
   "outputs": [],
   "source": [
    "# 文字雲樣式設定\n",
    "wc = WordCloud(font_path=\"/Users/hsuanlee/Library/Fonts/NotoSansCJKtc-Regular.otf\", #設置字體\n",
    "               background_color=\"white\", #背景顏色\n",
    "               max_words = 2000 ,        #文字雲顯示最大詞數\n",
    "               stopwords=stopwords)      #停用字詞"
   ]
  },
  {
   "cell_type": "code",
   "execution_count": 103,
   "id": "c8731522",
   "metadata": {},
   "outputs": [],
   "source": [
    "# 使用dictionary的內容產生文字雲\n",
    "#wc.generate_from_frequencies(hash)"
   ]
  },
  {
   "cell_type": "code",
   "execution_count": 104,
   "id": "824b84cf",
   "metadata": {},
   "outputs": [
    {
     "data": {
      "image/png": "[encoded data removed]",
      "text/plain": [
       "<Figure size 432x288 with 1 Axes>"
      ]
     },
     "metadata": {
      "needs_background": "light"
     },
     "output_type": "display_data"
    },
    {
     "data": {
      "text/plain": [
       "<Figure size 4000x2000 with 0 Axes>"
      ]
     },
     "metadata": {},
     "output_type": "display_data"
    }
   ],
   "source": [
    "# 視覺化呈現\n",
    "plt.imshow(cloud)\n",
    "plt.axis(\"off\")\n",
    "plt.figure(figsize=(20,10), dpi =200)\n",
    "plt.show()"
   ]
  },
  {
   "cell_type": "code",
   "execution_count": 101,
   "id": "0c228cc2",
   "metadata": {},
   "outputs": [
    {
     "data": {
      "text/html": [
       "<div>\n",
       "<style scoped>\n",
       "    .dataframe tbody tr th:only-of-type {\n",
       "        vertical-align: middle;\n",
       "    }\n",
       "\n",
       "    .dataframe tbody tr th {\n",
       "        vertical-align: top;\n",
       "    }\n",
       "\n",
       "    .dataframe thead th {\n",
       "        text-align: right;\n",
       "    }\n",
       "</style>\n",
       "<table border=\"1\" class=\"dataframe\">\n",
       "  <thead>\n",
       "    <tr style=\"text-align: right;\">\n",
       "      <th></th>\n",
       "      <th>詞頻</th>\n",
       "    </tr>\n",
       "  </thead>\n",
       "  <tbody>\n",
       "    <tr>\n",
       "      <th>表示</th>\n",
       "      <td>8</td>\n",
       "    </tr>\n",
       "    <tr>\n",
       "      <th>月</th>\n",
       "      <td>7</td>\n",
       "    </tr>\n",
       "    <tr>\n",
       "      <th>學院</th>\n",
       "      <td>6</td>\n",
       "    </tr>\n",
       "    <tr>\n",
       "      <th>技術</th>\n",
       "      <td>5</td>\n",
       "    </tr>\n",
       "    <tr>\n",
       "      <th>於</th>\n",
       "      <td>5</td>\n",
       "    </tr>\n",
       "    <tr>\n",
       "      <th>...</th>\n",
       "      <td>...</td>\n",
       "    </tr>\n",
       "    <tr>\n",
       "      <th>公開</th>\n",
       "      <td>1</td>\n",
       "    </tr>\n",
       "    <tr>\n",
       "      <th>資訊</th>\n",
       "      <td>1</td>\n",
       "    </tr>\n",
       "    <tr>\n",
       "      <th>註</th>\n",
       "      <td>1</td>\n",
       "    </tr>\n",
       "    <tr>\n",
       "      <th>冊</th>\n",
       "      <td>1</td>\n",
       "    </tr>\n",
       "    <tr>\n",
       "      <th>提供</th>\n",
       "      <td>1</td>\n",
       "    </tr>\n",
       "  </tbody>\n",
       "</table>\n",
       "<p>318 rows × 1 columns</p>\n",
       "</div>"
      ],
      "text/plain": [
       "    詞頻\n",
       "表示   8\n",
       "月    7\n",
       "學院   6\n",
       "技術   5\n",
       "於    5\n",
       "..  ..\n",
       "公開   1\n",
       "資訊   1\n",
       "註    1\n",
       "冊    1\n",
       "提供   1\n",
       "\n",
       "[318 rows x 1 columns]"
      ]
     },
     "execution_count": 101,
     "metadata": {},
     "output_type": "execute_result"
    }
   ],
   "source": [
    "artDf = pd.DataFrame.from_dict(hash, orient='index', columns = ['詞頻'])\n",
    "dfi=artDf.sort_values(by= ['詞頻'], ascending= False)\n",
    "dfi"
   ]
  },
  {
   "cell_type": "code",
   "execution_count": 102,
   "id": "9c14c051",
   "metadata": {},
   "outputs": [
    {
     "name": "stdout",
     "output_type": "stream",
     "text": [
      "csv 下載finish\n"
     ]
    }
   ],
   "source": [
    "#轉csv檔並下載\n",
    "dfi.to_csv('texts.csv')\n",
    "print(\"csv 下載finish\")"
   ]
  },
  {
   "cell_type": "code",
   "execution_count": 23,
   "id": "cf3f76a4",
   "metadata": {},
   "outputs": [
    {
     "name": "stdout",
     "output_type": "stream",
     "text": [
      "台灣觀光學院9月1日起停辦 教育部拍板\n",
      "2021/6/5 10:36（6/5 15:59 更新）\n",
      "（中央社記者陳至中台北5日電）教育部今天表示，經技專校院設立變更及停辦審議會審議通過，位於花蓮縣的台灣觀光學院，將於9月1日起停辦，扣除應屆畢業生後的108名學生，將由教育部協助安置。\n",
      "\n",
      "受到少子女化影響，台灣觀光學院招生困難，今年4月將停辦計畫報到教育部。教育部於5月24日以線上形式召開私校諮詢會，出席委員（19名）全數同意，建議教育部核定台觀停辦。\n",
      "\n",
      "教育部今天表示，本月1日召開的「專科以上學校設立變更及停辦審議會」，正式審議通過台觀的停辦案。教育部考量學校要在暑假期間開設暑修課程，為應屆畢業生補齊學分，因此將停辦日期安排在今年9月1日。\n",
      "\n",
      "教育部表示，台觀目前有專任教師2名、專案教師計7名、職員17名。教職員可利用「大專校院高等教育人力躍升培訓及媒合平台」轉介其他單位，或依法辦理資遣或退休。\n",
      "\n",
      "教育部表示，台觀將參考「私立高級中等以上學校退場條例」草案精神，按教職員工服務工作年資，發給資遣慰助金，最高發給6個月薪資。\n",
      "\n",
      "訂閱《早安世界》電子報 每天3分鐘掌握10件天下事\n",
      "請輸入電子信箱\n",
      "訂閱\n",
      "學生部分，台觀扣除今年應屆畢業生後剩108名，教育部將召開說明會，將以學生實際需求給予安置與協助 。學生轉學後，原校修過的學分可從寬抵免，畢業門檻依原校標準，未完成的論文或專題，由轉入校協助繼續完成，學雜費也以依照原校標準收取為原則。\n",
      "\n",
      "學生轉學後，住宿、交通多有不便。教育部表示，有住宿需求的學生，轉入校可協助安排校內宿舍，如有增加住宿費用或交通費支出，所需經費可由教育部轉型退場基金補助。另外包括就學貸款、獎學金、工讀金等，也都會由轉入校持續提供協助。（編輯：陳政偉）1100605\n"
     ]
    }
   ],
   "source": [
    "#資料來源：https://www.cna.com.tw/news/firstnews/202106050038.aspx\n",
    "\n",
    "with open('臺觀.txt','r', encoding='utf-8') as fh2:\n",
    "    tmp2 = fh2.read()\n",
    "    onelinelist2 = tmp2.split('\\n')\n",
    "    for j in onelinelist2:\n",
    "        print(j)"
   ]
  },
  {
   "cell_type": "code",
   "execution_count": 24,
   "id": "82648318",
   "metadata": {},
   "outputs": [
    {
     "ename": "ModuleNotFoundError",
     "evalue": "No module named 'jieba'",
     "output_type": "error",
     "traceback": [
      "\u001b[1;31m---------------------------------------------------------------------------\u001b[0m",
      "\u001b[1;31mModuleNotFoundError\u001b[0m                       Traceback (most recent call last)",
      "Input \u001b[1;32mIn [24]\u001b[0m, in \u001b[0;36m<cell line: 5>\u001b[1;34m()\u001b[0m\n\u001b[0;32m      3\u001b[0m \u001b[38;5;28;01mimport\u001b[39;00m \u001b[38;5;21;01mcodecs\u001b[39;00m\n\u001b[0;32m      4\u001b[0m \u001b[38;5;28;01mimport\u001b[39;00m \u001b[38;5;21;01mpandas\u001b[39;00m\n\u001b[1;32m----> 5\u001b[0m \u001b[38;5;28;01mimport\u001b[39;00m \u001b[38;5;21;01mjieba\u001b[39;00m\n\u001b[0;32m      6\u001b[0m \u001b[38;5;28;01mimport\u001b[39;00m \u001b[38;5;21;01mjieba\u001b[39;00m\u001b[38;5;21;01m.\u001b[39;00m\u001b[38;5;21;01manalyse\u001b[39;00m\n",
      "\u001b[1;31mModuleNotFoundError\u001b[0m: No module named 'jieba'"
     ]
    }
   ],
   "source": [
    "#匯入需要的模組\n",
    "import os\n",
    "import codecs\n",
    "import pandas\n",
    "import jieba\n",
    "import jieba.analyse"
   ]
  },
  {
   "cell_type": "code",
   "execution_count": null,
   "id": "e5b8208c",
   "metadata": {},
   "outputs": [],
   "source": [
    "#搭建語料庫\n",
    "for root, dirs, files in os.walk(\n",
    "    r\"C:\\Users\\www12\\Desktop\\data\\2.6\\SogouC.mini\\\\Sample\\\\\"\n",
    "):\n",
    "    for name in files:\n",
    "        filePath = root + '\\\\' + name;\n",
    "        f = codecs.open(filePath, 'r', 'utf-8')\n",
    "        content = f.read().strip()\n",
    "        f.close()#讀取檔案內容\n",
    "        tags = jieba.analyse.extract_tags(content, topK=5)#獲取每篇文字詞頻在前五的關鍵詞\n",
    "        filePaths.append(filePath)\n",
    "        contents.append(content)\n",
    "關鍵字提取： tags = jieba.analyse.extract_tags(content, topK=n) 引數： content：文章內容 topK=n：n個關鍵詞\n",
    "\n",
    "        tag1s.append(tags[0])#陣列提取對應的關鍵詞\n",
    "        tag2s.append(tags[1])\n",
    "        tag3s.append(tags[2])\n",
    "        tag4s.append(tags[3])\n",
    "        tag5s.append(tags[4])\n",
    "#關鍵詞陣列新增至資料框\n",
    "tagDF = pandas.DataFrame({\n",
    "    'filePath': filePaths, \n",
    "    'content': contents, \n",
    "    'tag1': tag1s, \n",
    "    'tag2': tag2s, \n",
    "    'tag3': tag3s, \n",
    "    'tag4': tag4s, \n",
    "    'tag5': tag5s\n",
    "})"
   ]
  },
  {
   "cell_type": "code",
   "execution_count": null,
   "id": "e9ff0889",
   "metadata": {},
   "outputs": [],
   "source": []
  },
  {
   "cell_type": "code",
   "execution_count": 1,
   "id": "daab9f1b",
   "metadata": {},
   "outputs": [
    {
     "name": "stdout",
     "output_type": "stream",
     "text": [
      "蘭陽技術學院110學年度起停招 照顧舊生到畢業\n",
      "2021/3/10 16:51\n",
      "蘭陽技術學院董事會今天表示，目前在財務方面零負債，教職員工未曾欠薪，財務健全，營運正常，但受到少子女化影響、校地處偏鄉，永續辦學在未來仍有難以克服因素，決定自110學年起停招。\n",
      "\n",
      "教育部今天稍晚告訴中央社記者，蘭陽技術學院停招計畫經1月14日校務會議報告、1月26日董事會通過後報到教育部，教育部於2月20日函覆同意辦理，同時要求董事會須再捐資3500萬元，作為停招後所需資金，若有不足，仍要繼續捐資因應。\n",
      "\n",
      "蘭陽技術學院目前有577名學生，扣除畢業生，110 學年度仍會有308名學生。教育部表示，學校規劃持續辦學到舊生畢業。另外，現有教師32名、職員33名，將編列資遣費、優離優退慰問金等逐年離退。\n",
      "\n",
      "教育部長潘文忠今天下午在部務會報前接受媒體聯訪，也呼籲蘭陽技術學院要依法維護學生的學習權益，以及教師的工作權。\n",
      "\n",
      "由於目前已是110學年度的招生季，陸續有多所私校傳出經營危機，媒體問及如何避免選校踩到「地雷」。潘文忠建議，學生、家長可參考大專校院公開資訊，包括註冊率、財務狀況等，瞭解學校狀況後再作決定。（編輯：陳政偉）1100310\n"
     ]
    }
   ],
   "source": [
    "import pandas as pd\n",
    "\n",
    "#資料來源：https://www.cna.com.tw/news/ahel/202103100239.aspx\n",
    "\n",
    "with open('蘭陽.txt','r', encoding='utf-8') as fh1:\n",
    "    tmp1 = fh1.read()\n",
    "    onelinelist1 = tmp1.split('\\n')\n",
    "    for i in onelinelist1:\n",
    "        print(i)"
   ]
  },
  {
   "cell_type": "code",
   "execution_count": null,
   "id": "38f168bc",
   "metadata": {},
   "outputs": [],
   "source": []
  }
 ],
 "metadata": {
  "kernelspec": {
   "display_name": "Python 3 (ipykernel)",
   "language": "python",
   "name": "python3"
  },
  "language_info": {
   "codemirror_mode": {
    "name": "ipython",
    "version": 3
   },
   "file_extension": ".py",
   "mimetype": "text/x-python",
   "name": "python",
   "nbconvert_exporter": "python",
   "pygments_lexer": "ipython3",
   "version": "3.9.12"
  }
 },
 "nbformat": 4,
 "nbformat_minor": 5
}
