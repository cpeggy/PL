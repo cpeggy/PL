{
 "cells": [
  {
   "cell_type": "code",
   "execution_count": 2,
   "id": "ebb9ab2b",
   "metadata": {},
   "outputs": [
    {
     "ename": "Exception",
     "evalue": "jieba: file does not exist: C:\\Users\\Peggy\\Documents\\GitHub\\PL\\Homework4\\dict.txt.big.txt",
     "output_type": "error",
     "traceback": [
      "\u001b[1;31m---------------------------------------------------------------------------\u001b[0m",
      "\u001b[1;31mException\u001b[0m                                 Traceback (most recent call last)",
      "Input \u001b[1;32mIn [2]\u001b[0m, in \u001b[0;36m<cell line: 16>\u001b[1;34m()\u001b[0m\n\u001b[0;32m     12\u001b[0m text \u001b[38;5;241m=\u001b[39m texts[\u001b[38;5;241m0\u001b[39m]\u001b[38;5;241m.\u001b[39mtext\n\u001b[0;32m     14\u001b[0m \u001b[38;5;66;03m# 設定分詞資料庫\u001b[39;00m\n\u001b[0;32m     15\u001b[0m \u001b[38;5;66;03m# https://raw.githubusercontent.com/fxsjy/jieba/master/extra_dict/dict.txt.big 右鍵另存放目錄下\u001b[39;00m\n\u001b[1;32m---> 16\u001b[0m \u001b[43mjieba\u001b[49m\u001b[38;5;241;43m.\u001b[39;49m\u001b[43mset_dictionary\u001b[49m\u001b[43m(\u001b[49m\u001b[38;5;124;43m'\u001b[39;49m\u001b[38;5;124;43mdict.txt.big.txt\u001b[39;49m\u001b[38;5;124;43m'\u001b[39;49m\u001b[43m)\u001b[49m\n\u001b[0;32m     18\u001b[0m \u001b[38;5;66;03m# 將自己常用的詞加入字典\u001b[39;00m\n\u001b[0;32m     19\u001b[0m jieba\u001b[38;5;241m.\u001b[39mload_userdict(\u001b[38;5;124m'\u001b[39m\u001b[38;5;124mfinance_dict.txt\u001b[39m\u001b[38;5;124m'\u001b[39m)\n",
      "File \u001b[1;32m~\\AppData\\Roaming\\Python\\Python39\\site-packages\\jieba\\__init__.py:513\u001b[0m, in \u001b[0;36mTokenizer.set_dictionary\u001b[1;34m(self, dictionary_path)\u001b[0m\n\u001b[0;32m    511\u001b[0m abs_path \u001b[38;5;241m=\u001b[39m _get_abs_path(dictionary_path)\n\u001b[0;32m    512\u001b[0m \u001b[38;5;28;01mif\u001b[39;00m \u001b[38;5;129;01mnot\u001b[39;00m os\u001b[38;5;241m.\u001b[39mpath\u001b[38;5;241m.\u001b[39misfile(abs_path):\n\u001b[1;32m--> 513\u001b[0m     \u001b[38;5;28;01mraise\u001b[39;00m \u001b[38;5;167;01mException\u001b[39;00m(\u001b[38;5;124m\"\u001b[39m\u001b[38;5;124mjieba: file does not exist: \u001b[39m\u001b[38;5;124m\"\u001b[39m \u001b[38;5;241m+\u001b[39m abs_path)\n\u001b[0;32m    514\u001b[0m \u001b[38;5;28mself\u001b[39m\u001b[38;5;241m.\u001b[39mdictionary \u001b[38;5;241m=\u001b[39m abs_path\n\u001b[0;32m    515\u001b[0m \u001b[38;5;28mself\u001b[39m\u001b[38;5;241m.\u001b[39minitialized \u001b[38;5;241m=\u001b[39m \u001b[38;5;28;01mFalse\u001b[39;00m\n",
      "\u001b[1;31mException\u001b[0m: jieba: file does not exist: C:\\Users\\Peggy\\Documents\\GitHub\\PL\\Homework4\\dict.txt.big.txt"
     ]
    }
   ],
   "source": [
    "import pandas, numpy\n",
    "import requests # 訪問\n",
    "from bs4 import BeautifulSoup # 網頁解析\n",
    "import jieba\n",
    "from collections import Counter # 次數統計\n",
    "\n",
    "# 抓取yahoo新聞的某篇某段當範例\n",
    "url = 'https://tw.news.yahoo.com/%E6%99%B6%E5%9C%93%E5%BB%A0%E6%89%8D%E6%98%AF%E7%9C%9F%E6%AD%A3%E7%9A%84%E9%87%91%E9%9B%9E%E6%AF%8D-%E6%A5%8A%E6%87%89%E8%B6%85%E7%82%BA%E8%8B%B1%E7%89%B9%E7%88%BE%E7%B7%A9%E9%A0%B0-%E4%BB%A3%E5%B7%A5%E7%9A%84%E5%8F%B0%E7%A9%8D%E9%9B%BB%E6%80%8E%E9%BA%BC%E8%BE%A6-114410893.html'\n",
    "re = requests.get(url)\n",
    "soup = BeautifulSoup(re.text, 'html.parser')\n",
    "texts = soup.find_all('p', class_='M(0)')\n",
    "text = texts[0].text\n",
    "\n",
    "# 設定分詞資料庫\n",
    "# https://raw.githubusercontent.com/fxsjy/jieba/master/extra_dict/dict.txt.big 右鍵另存放目錄下\n",
    "jieba.set_dictionary('dict.txt.big.txt')\n",
    "\n",
    "# 將自己常用的詞加入字典\n",
    "jieba.load_userdict('finance_dict.txt')\n",
    "\n",
    "# 新增及刪除常用詞\n",
    "jieba.add_word('英特爾') # 加入英特爾\n",
    "jieba.add_word('美元') # 加入英特爾\n",
    "jieba.del_word('元') # 刪除電風扇\n",
    "\n",
    "# 斷句方式\n",
    "# 用jieba.lcut(text, cut_all=False)直接返回list\n",
    "segs = jieba.cut(text, cut_all=True) # 全切模式 切的很碎\n",
    "segs = jieba.cut(text, cut_all=False) # 預設模式\n",
    "seg_list = jieba.lcut(text, cut_all=False) # lcut直接返回list\n",
    "\n",
    "# 統計分詞出現次數\n",
    "dictionary = Counter(seg_list)\n",
    "\n",
    "# 移除停用詞\n",
    "stopword = [' ', '，', '（', '）', '...', '。', '「', '」']  # 定義停用詞\n",
    "[dictionary.pop(x, None) for x in stopword] # 存字典裡刪除停用詞\n",
    "\n",
    "# 產生文字雲\n",
    "from PIL import Image # 圖片轉array陣列\n",
    "import matplotlib.pyplot as plt\n",
    "import wordcloud # 文字雲\n",
    "\n",
    "# 格式設定\n",
    "font_path = 'SNsanafonMugiV260.ttf' # 設定字體格式\n",
    "mask = numpy.array(Image.open('1200px-TSMC.svg.png')) # 遮罩\n",
    "mask=(mask==0)*255 # 把舉證等於0的地方變成255 原本有數字的地方變0\n",
    "\n",
    "wc = wordcloud.WordCloud(background_color='white',\n",
    "                         margin=2, # 文字間距\n",
    "                         mask=mask, # 遮罩 有用的話則無視設定長寬\n",
    "                         font_path=font_path, # 設定字體\n",
    "                         max_words=200, # 取多少文字在裡面\n",
    "                         width=1080, height=720, # 長寬解析度\n",
    "                         relative_scaling=0.5 # 詞頻與詞大小關聯性\n",
    "                         )\n",
    "# 生成文字雲\n",
    "wc.generate_from_frequencies(dictionary) # 吃入次數字典資料\n",
    "\n",
    "# 輸出\n",
    "wc.to_file('my_wordcloud.png')\n",
    "\n",
    "# 顯示文字雲\n",
    "plt.imshow(wc)"
   ]
  },
  {
   "cell_type": "code",
   "execution_count": 3,
   "id": "f4bb393e",
   "metadata": {},
   "outputs": [
    {
     "ename": "FileNotFoundError",
     "evalue": "[Errno 2] No such file or directory: '1200px-TSMC.svg.png'",
     "output_type": "error",
     "traceback": [
      "\u001b[1;31m---------------------------------------------------------------------------\u001b[0m",
      "\u001b[1;31mFileNotFoundError\u001b[0m                         Traceback (most recent call last)",
      "Input \u001b[1;32mIn [3]\u001b[0m, in \u001b[0;36m<cell line: 7>\u001b[1;34m()\u001b[0m\n\u001b[0;32m      5\u001b[0m \u001b[38;5;66;03m# 格式設定\u001b[39;00m\n\u001b[0;32m      6\u001b[0m font_path \u001b[38;5;241m=\u001b[39m \u001b[38;5;124m'\u001b[39m\u001b[38;5;124mSNsanafonMugiV260.ttf\u001b[39m\u001b[38;5;124m'\u001b[39m \u001b[38;5;66;03m# 設定字體格式\u001b[39;00m\n\u001b[1;32m----> 7\u001b[0m mask \u001b[38;5;241m=\u001b[39m numpy\u001b[38;5;241m.\u001b[39marray(\u001b[43mImage\u001b[49m\u001b[38;5;241;43m.\u001b[39;49m\u001b[43mopen\u001b[49m\u001b[43m(\u001b[49m\u001b[38;5;124;43m'\u001b[39;49m\u001b[38;5;124;43m1200px-TSMC.svg.png\u001b[39;49m\u001b[38;5;124;43m'\u001b[39;49m\u001b[43m)\u001b[49m) \u001b[38;5;66;03m# 遮罩\u001b[39;00m\n\u001b[0;32m      8\u001b[0m mask\u001b[38;5;241m=\u001b[39m(mask\u001b[38;5;241m==\u001b[39m\u001b[38;5;241m0\u001b[39m)\u001b[38;5;241m*\u001b[39m\u001b[38;5;241m255\u001b[39m \u001b[38;5;66;03m# 把舉證等於0的地方變成255 原本有數字的地方變0\u001b[39;00m\n\u001b[0;32m     10\u001b[0m wc \u001b[38;5;241m=\u001b[39m wordcloud\u001b[38;5;241m.\u001b[39mWordCloud(background_color\u001b[38;5;241m=\u001b[39m\u001b[38;5;124m'\u001b[39m\u001b[38;5;124mwhite\u001b[39m\u001b[38;5;124m'\u001b[39m,\n\u001b[0;32m     11\u001b[0m                          margin\u001b[38;5;241m=\u001b[39m\u001b[38;5;241m2\u001b[39m, \u001b[38;5;66;03m# 文字間距\u001b[39;00m\n\u001b[0;32m     12\u001b[0m                          mask\u001b[38;5;241m=\u001b[39mmask, \u001b[38;5;66;03m# 遮罩 有用的話則無視設定長寬\u001b[39;00m\n\u001b[1;32m   (...)\u001b[0m\n\u001b[0;32m     16\u001b[0m                          relative_scaling\u001b[38;5;241m=\u001b[39m\u001b[38;5;241m0.5\u001b[39m \u001b[38;5;66;03m# 詞頻與詞大小關聯性\u001b[39;00m\n\u001b[0;32m     17\u001b[0m                          )\n",
      "File \u001b[1;32mC:\\ProgramData\\Anaconda3\\lib\\site-packages\\PIL\\Image.py:2953\u001b[0m, in \u001b[0;36mopen\u001b[1;34m(fp, mode, formats)\u001b[0m\n\u001b[0;32m   2950\u001b[0m     filename \u001b[38;5;241m=\u001b[39m fp\n\u001b[0;32m   2952\u001b[0m \u001b[38;5;28;01mif\u001b[39;00m filename:\n\u001b[1;32m-> 2953\u001b[0m     fp \u001b[38;5;241m=\u001b[39m \u001b[43mbuiltins\u001b[49m\u001b[38;5;241;43m.\u001b[39;49m\u001b[43mopen\u001b[49m\u001b[43m(\u001b[49m\u001b[43mfilename\u001b[49m\u001b[43m,\u001b[49m\u001b[43m \u001b[49m\u001b[38;5;124;43m\"\u001b[39;49m\u001b[38;5;124;43mrb\u001b[39;49m\u001b[38;5;124;43m\"\u001b[39;49m\u001b[43m)\u001b[49m\n\u001b[0;32m   2954\u001b[0m     exclusive_fp \u001b[38;5;241m=\u001b[39m \u001b[38;5;28;01mTrue\u001b[39;00m\n\u001b[0;32m   2956\u001b[0m \u001b[38;5;28;01mtry\u001b[39;00m:\n",
      "\u001b[1;31mFileNotFoundError\u001b[0m: [Errno 2] No such file or directory: '1200px-TSMC.svg.png'"
     ]
    }
   ],
   "source": []
  },
  {
   "cell_type": "code",
   "execution_count": null,
   "id": "c5ec8338",
   "metadata": {},
   "outputs": [],
   "source": []
  }
 ],
 "metadata": {
  "kernelspec": {
   "display_name": "Python 3 (ipykernel)",
   "language": "python",
   "name": "python3"
  },
  "language_info": {
   "codemirror_mode": {
    "name": "ipython",
    "version": 3
   },
   "file_extension": ".py",
   "mimetype": "text/x-python",
   "name": "python",
   "nbconvert_exporter": "python",
   "pygments_lexer": "ipython3",
   "version": "3.9.12"
  }
 },
 "nbformat": 4,
 "nbformat_minor": 5
}
