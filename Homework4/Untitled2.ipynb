{
 "cells": [
  {
   "cell_type": "code",
   "execution_count": 7,
   "id": "39961295",
   "metadata": {},
   "outputs": [],
   "source": [
    "import jieba\n",
    "import jieba.analyse "
   ]
  },
  {
   "cell_type": "code",
   "execution_count": null,
   "id": "9340fc70",
   "metadata": {},
   "outputs": [
    {
     "name": "stderr",
     "output_type": "stream",
     "text": [
      "Building prefix dict from C:\\Users\\Peggy\\Documents\\GitHub\\PL\\Homework4\\file_path.txt ...\n",
      "Loading model from cache C:\\Users\\Peggy\\AppData\\Local\\Temp\\jieba.u211079cf5076662e9401ede625e0028e.cache\n",
      "Loading model cost 0.965 seconds.\n",
      "Prefix dict has been built successfully.\n"
     ]
    }
   ],
   "source": [
    "# 設定詞庫\n",
    "### 繁體字較完整詞庫\n",
    "### https://raw.githubusercontent.com/ldkrsi/jieba-zh_TW/master/jieba/dict.txt\n",
    "jieba.set_dictionary('./file_path.txt')\n",
    "# 載入自定義詞庫\n",
    "jieba.load_userdict('./file_path.txt')\n",
    "# 加入字詞\n",
    "jieba.add_word(word, freq=None, tag=None)\n",
    "# 刪除字詞\n",
    "jieba.del_word(word)"
   ]
  },
  {
   "cell_type": "code",
   "execution_count": null,
   "id": "28d0edd7",
   "metadata": {},
   "outputs": [],
   "source": [
    "import nltk\n",
    "from wordcloud import WordCloud\n",
    "\n",
    "text = open('data.txt', 'r', encoding='utf-8').read()\n",
    "text = ' '.join(nltk.word_tokenize(text))\n",
    "cloud = WordCloud().generate(text)\n",
    "cloud.to_file('output.png')"
   ]
  },
  {
   "cell_type": "code",
   "execution_count": null,
   "id": "7b7e1029",
   "metadata": {},
   "outputs": [],
   "source": []
  }
 ],
 "metadata": {
  "kernelspec": {
   "display_name": "Python 3 (ipykernel)",
   "language": "python",
   "name": "python3"
  },
  "language_info": {
   "codemirror_mode": {
    "name": "ipython",
    "version": 3
   },
   "file_extension": ".py",
   "mimetype": "text/x-python",
   "name": "python",
   "nbconvert_exporter": "python",
   "pygments_lexer": "ipython3",
   "version": "3.9.12"
  }
 },
 "nbformat": 4,
 "nbformat_minor": 5
}
