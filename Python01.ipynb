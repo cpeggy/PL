{
 "cells": [
  {
   "cell_type": "code",
   "execution_count": null,
   "id": "bd947b50",
   "metadata": {},
   "outputs": [],
   "source": [
    "str1=\"道路交通安全規則第114 條第2 款訂有明文。次按汽車駕駛人，駕駛汽車經測試檢定有酒精濃度超過規定標準之情形者，處1 萬5000元以上6 萬元以下罰鍰，並當場移置保管該汽車及吊扣其駕駛執照1 年；汽車駕駛人，有同條例第35條第1 項規定之情形者，應接受道路交通安全講習\"\n",
    "print(str1)"
   ]
  }
 ],
 "metadata": {
  "kernelspec": {
   "display_name": "Python 3 (ipykernel)",
   "language": "python",
   "name": "python3"
  },
  "language_info": {
   "codemirror_mode": {
    "name": "ipython",
    "version": 3
   },
   "file_extension": ".py",
   "mimetype": "text/x-python",
   "name": "python",
   "nbconvert_exporter": "python",
   "pygments_lexer": "ipython3",
   "version": "3.9.12"
  }
 },
 "nbformat": 4,
 "nbformat_minor": 5
}
