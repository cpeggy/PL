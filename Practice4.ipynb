{
 "cells": [
  {
   "cell_type": "code",
   "execution_count": 24,
   "id": "093a748e",
   "metadata": {
    "scrolled": true
   },
   "outputs": [],
   "source": [
    "Loanwords = {\"純音譯\":[\"沙龍\",\"起司\",\"邏輯\",\"粉絲\",\"迪士尼\",\"咖哩\",\"康乃馨\"],\n",
    "             \"音譯&意譯\":[\"芒果\",\"駭客\",\"雷射\",\"基因\",\"拍立得\",\"俱樂部\",\"系列\"],\n",
    "             \"半音譯&半意譯\":[\"嘉年華\",\"微波爐\",\"芭蕾舞\",\"高爾夫球\",\"啤酒\",\"魯特琴\",\"比特幣\"],\n",
    "             \"直譯\":[\"金門大橋\",\"臉書\",\"紅襪\",\"湖人\",\"白宮\",\"超人\",\"象牙塔\"],\n",
    "             \"概念意譯\":[\"手機\",\"地鐵\",\"總統\",\"自由\",\"電話\",\"銀河\",\"電話\"]}"
   ]
  },
  {
   "cell_type": "code",
   "execution_count": 30,
   "id": "ccb336f9",
   "metadata": {},
   "outputs": [
    {
     "name": "stdout",
     "output_type": "stream",
     "text": [
      "請輸入外來語：起司\n"
     ]
    }
   ],
   "source": [
    "word = input(\"請輸入外來語：\")"
   ]
  },
  {
   "cell_type": "code",
   "execution_count": 35,
   "id": "66ad1209",
   "metadata": {},
   "outputs": [
    {
     "ename": "KeyError",
     "evalue": "'純音譯'",
     "output_type": "error",
     "traceback": [
      "\u001b[1;31m---------------------------------------------------------------------------\u001b[0m",
      "\u001b[1;31mKeyError\u001b[0m                                  Traceback (most recent call last)",
      "Input \u001b[1;32mIn [35]\u001b[0m, in \u001b[0;36m<cell line: 1>\u001b[1;34m()\u001b[0m\n\u001b[0;32m      1\u001b[0m \u001b[38;5;28;01mfor\u001b[39;00m i \u001b[38;5;129;01min\u001b[39;00m Loanwords:\n\u001b[1;32m----> 2\u001b[0m     \u001b[38;5;28;01mif\u001b[39;00m word \u001b[38;5;129;01min\u001b[39;00m \u001b[43mLoanwords\u001b[49m\u001b[43m[\u001b[49m\u001b[38;5;124;43m\"\u001b[39;49m\u001b[38;5;124;43m純音譯\u001b[39;49m\u001b[38;5;124;43m\"\u001b[39;49m\u001b[43m]\u001b[49m:\n\u001b[0;32m      3\u001b[0m         \u001b[38;5;28mprint\u001b[39m(\u001b[38;5;124m\"\u001b[39m\u001b[38;5;124m純音譯\u001b[39m\u001b[38;5;124m\"\u001b[39m)\n\u001b[0;32m      4\u001b[0m     \u001b[38;5;28;01melif\u001b[39;00m word \u001b[38;5;129;01min\u001b[39;00m Loanwords[\u001b[38;5;124m\"\u001b[39m\u001b[38;5;124m音譯&意譯\u001b[39m\u001b[38;5;124m\"\u001b[39m]:\n",
      "\u001b[1;31mKeyError\u001b[0m: '純音譯'"
     ]
    }
   ],
   "source": [
    "for i in Loanwords:\n",
    "    if word in Loanwords[\"純音譯\"]:\n",
    "        print(\"純音譯\")\n",
    "    elif word in Loanwords[\"音譯&意譯\"]:\n",
    "        print(\"音譯&意譯\")\n",
    "    elif word in Loanwords[\"半音譯&半意譯\"]:\n",
    "        print(\"半音譯&半意譯\")\n",
    "    elif word in Loanwords[\"直譯\"]:\n",
    "        print(\"直譯\")\n",
    "    elif word in Loanwords[\"概念意譯\"]:\n",
    "        print(\"概念意譯\")\n",
    "    else :\n",
    "        print(\"尼在說啥\")"
   ]
  },
  {
   "cell_type": "code",
   "execution_count": null,
   "id": "3aa7a0ac",
   "metadata": {},
   "outputs": [],
   "source": [
    "Loanwords{a=[\"沙龍\",\"起司\",\"邏輯\",\"粉絲\",\"迪士尼\",\"咖哩\",\"康乃馨\"],\n",
    "           b=[\"芒果\",\"駭客\",\"雷射\",\"基因\",\"拍立得\",\"俱樂部\",\"系列\"],\n",
    "           c=[\"嘉年華\",\"微波爐\",\"芭蕾舞\",\"高爾夫球\",\"啤酒\",\"魯特琴\",\"比特幣\"],\n",
    "           d=[\"金門大橋\",\"臉書\",\"紅襪\",\"湖人\",\"白宮\",\"超人\",\"象牙塔\"],\n",
    "           e=[\"手機\",\"地鐵\",\"總統\",\"自由\",\"電話\",\"銀河\",\"電話\"]}"
   ]
  },
  {
   "cell_type": "code",
   "execution_count": null,
   "id": "f5911c32",
   "metadata": {},
   "outputs": [],
   "source": []
  }
 ],
 "metadata": {
  "kernelspec": {
   "display_name": "Python 3 (ipykernel)",
   "language": "python",
   "name": "python3"
  },
  "language_info": {
   "codemirror_mode": {
    "name": "ipython",
    "version": 3
   },
   "file_extension": ".py",
   "mimetype": "text/x-python",
   "name": "python",
   "nbconvert_exporter": "python",
   "pygments_lexer": "ipython3",
   "version": "3.9.12"
  }
 },
 "nbformat": 4,
 "nbformat_minor": 5
}
