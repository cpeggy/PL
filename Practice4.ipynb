{
 "cells": [
  {
   "cell_type": "code",
   "execution_count": 1,
   "id": "7082a835",
   "metadata": {},
   "outputs": [
    {
     "ename": "SyntaxError",
     "evalue": "invalid syntax (4264332602.py, line 4)",
     "output_type": "error",
     "traceback": [
      "\u001b[1;36m  Input \u001b[1;32mIn [1]\u001b[1;36m\u001b[0m\n\u001b[1;33m    \"直譯\":[\"金門大橋\",\"臉書\",\"紅襪\",\"湖人\",\"白宮\",\"超人\",\"象牙塔\"]\u001b[0m\n\u001b[1;37m    ^\u001b[0m\n\u001b[1;31mSyntaxError\u001b[0m\u001b[1;31m:\u001b[0m invalid syntax\n"
     ]
    }
   ],
   "source": [
    "Loanwords={\"純音譯\":[\"沙龍\",\"起司\",\"邏輯\",\"粉絲\",\"迪士尼\",\"咖哩\",\"康乃馨\"],\n",
    "           \"音譯&意譯\":[\"芒果\",\"駭客\",\"雷射\",\"基因\",\"拍立得\",\"俱樂部\",\"系列\"],\n",
    "           \"半音譯&半意譯\":[\"嘉年華\",\"微波爐\",\"芭蕾舞\",\"高爾夫球\",\"啤酒\",\"魯特琴\",\"比特幣\"]\n",
    "           \"直譯\":[\"金門大橋\",\"臉書\",\"紅襪\",\"湖人\",\"白宮\",\"超人\",\"象牙塔\"]\n",
    "           \"概念意譯\":[\"手機\",\"地鐵\",\"總統\",\"自由\",\"電話\",\"銀河\",\"電話\"]}"
   ]
  },
  {
   "cell_type": "code",
   "execution_count": null,
   "id": "1f2d07ec",
   "metadata": {},
   "outputs": [],
   "source": [
    "word = input(\"請輸入外來語： \")\n",
    "\n",
    "if word == allstudent[] and \"Y\":\n",
    "        print(\"有到\")\n",
    "        \n",
    "elif word == allstudent[] and \"\":\n",
    "        print(\"未到\")\n",
    "elif word == \n",
    "        print(\"\")\n",
    "elif word == \n",
    "elif word == \n",
    "        \n",
    "else:\n",
    "        print(\"這個人是誰啊~~~???\")"
   ]
  }
 ],
 "metadata": {
  "kernelspec": {
   "display_name": "Python 3 (ipykernel)",
   "language": "python",
   "name": "python3"
  },
  "language_info": {
   "codemirror_mode": {
    "name": "ipython",
    "version": 3
   },
   "file_extension": ".py",
   "mimetype": "text/x-python",
   "name": "python",
   "nbconvert_exporter": "python",
   "pygments_lexer": "ipython3",
   "version": "3.9.12"
  }
 },
 "nbformat": 4,
 "nbformat_minor": 5
}
