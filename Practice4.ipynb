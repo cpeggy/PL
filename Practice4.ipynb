{
 "cells": [
  {
   "cell_type": "code",
   "execution_count": 44,
   "id": "93b455b9",
   "metadata": {
    "scrolled": true
   },
   "outputs": [],
   "source": [
    "Loanwords = {\"純音譯\":[\"沙龍\",\"起司\",\"邏輯\",\"粉絲\",\"迪士尼\",\"咖哩\",\"康乃馨\"],\n",
    "             \"音譯&意譯\":[\"芒果\",\"駭客\",\"雷射\",\"基因\",\"拍立得\",\"俱樂部\",\"系列\"],\n",
    "             \"半音譯&半意譯\":[\"嘉年華\",\"微波爐\",\"芭蕾舞\",\"高爾夫球\",\"啤酒\",\"魯特琴\",\"比特幣\"],\n",
    "             \"直譯\":[\"金門大橋\",\"臉書\",\"紅襪\",\"湖人\",\"白宮\",\"超人\",\"象牙塔\"],\n",
    "             \"概念意譯\":[\"手機\",\"地鐵\",\"總統\",\"自由\",\"電話\",\"銀河\",\"電話\"]}"
   ]
  },
  {
   "cell_type": "code",
   "execution_count": null,
   "id": "c6ab03dc",
   "metadata": {},
   "outputs": [],
   "source": [
    "word = \"起司\""
   ]
  },
  {
   "cell_type": "code",
   "execution_count": 62,
   "id": "763d3573",
   "metadata": {},
   "outputs": [
    {
     "name": "stdout",
     "output_type": "stream",
     "text": [
      "純音譯\n"
     ]
    }
   ],
   "source": [
    "n = 0\n",
    "temp = list(Loanwords.keys())\n",
    "\n",
    "for i in Loanwords.values():\n",
    "    #print(i)\n",
    "    if word in i:\n",
    "        print(temp[n])\n",
    "    else:\n",
    "        n = n+1"
   ]
  },
  {
   "cell_type": "code",
   "execution_count": 59,
   "id": "b31c6842",
   "metadata": {},
   "outputs": [
    {
     "data": {
      "text/plain": [
       "dict_keys(['純音譯', '音譯&意譯', '半音譯&半意譯', '直譯', '概念意譯'])"
      ]
     },
     "execution_count": 59,
     "metadata": {},
     "output_type": "execute_result"
    }
   ],
   "source": [
    "Loanwords.keys()"
   ]
  },
  {
   "cell_type": "code",
   "execution_count": 37,
   "id": "4a876464",
   "metadata": {},
   "outputs": [
    {
     "ename": "IndentationError",
     "evalue": "unindent does not match any outer indentation level (<tokenize>, line 3)",
     "output_type": "error",
     "traceback": [
      "\u001b[1;36m  File \u001b[1;32m<tokenize>:3\u001b[1;36m\u001b[0m\n\u001b[1;33m    elif word in Loanwords[\"音譯&意譯\"]:\u001b[0m\n\u001b[1;37m    ^\u001b[0m\n\u001b[1;31mIndentationError\u001b[0m\u001b[1;31m:\u001b[0m unindent does not match any outer indentation level\n"
     ]
    }
   ],
   "source": [
    "if word in Loanwords[\"純音譯\"]:\n",
    "        print(\"純音譯\")\n",
    "    elif word in Loanwords[\"音譯&意譯\"]:\n",
    "        print(\"音譯&意譯\")\n",
    "    elif word in Loanwords[\"半音譯&半意譯\"]:\n",
    "        print(\"半音譯&半意譯\")\n",
    "    elif word in Loanwords[\"直譯\"]:\n",
    "        print(\"直譯\")\n",
    "    elif word in Loanwords[\"概念意譯\"]:\n",
    "        print(\"概念意譯\")\n",
    "    else :\n",
    "        print(\"尼在說啥\")"
   ]
  },
  {
   "cell_type": "code",
   "execution_count": null,
   "id": "0125ed97",
   "metadata": {},
   "outputs": [],
   "source": [
    "Loanwords{a=[\"沙龍\",\"起司\",\"邏輯\",\"粉絲\",\"迪士尼\",\"咖哩\",\"康乃馨\"],\n",
    "           b=[\"芒果\",\"駭客\",\"雷射\",\"基因\",\"拍立得\",\"俱樂部\",\"系列\"],\n",
    "           c=[\"嘉年華\",\"微波爐\",\"芭蕾舞\",\"高爾夫球\",\"啤酒\",\"魯特琴\",\"比特幣\"],\n",
    "           d=[\"金門大橋\",\"臉書\",\"紅襪\",\"湖人\",\"白宮\",\"超人\",\"象牙塔\"],\n",
    "           e=[\"手機\",\"地鐵\",\"總統\",\"自由\",\"電話\",\"銀河\",\"電話\"]}"
   ]
  },
  {
   "cell_type": "code",
   "execution_count": null,
   "id": "ce91558a",
   "metadata": {},
   "outputs": [],
   "source": []
  }
 ],
 "metadata": {
  "kernelspec": {
   "display_name": "Python 3 (ipykernel)",
   "language": "python",
   "name": "python3"
  },
  "language_info": {
   "codemirror_mode": {
    "name": "ipython",
    "version": 3
   },
   "file_extension": ".py",
   "mimetype": "text/x-python",
   "name": "python",
   "nbconvert_exporter": "python",
   "pygments_lexer": "ipython3",
   "version": "3.9.12"
  }
 },
 "nbformat": 4,
 "nbformat_minor": 5
}
