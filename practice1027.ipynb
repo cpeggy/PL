{
 "cells": [
  {
   "cell_type": "code",
   "execution_count": null,
   "id": "7e81a0e9",
   "metadata": {},
   "outputs": [],
   "source": [
    "#練習Pandas+資料視覺化"
   ]
  },
  {
   "cell_type": "code",
   "execution_count": null,
   "id": "216b2cdf",
   "metadata": {},
   "outputs": [],
   "source": [
    "##玩玩功能ing"
   ]
  },
  {
   "cell_type": "code",
   "execution_count": null,
   "id": "803b7cc1",
   "metadata": {},
   "outputs": [],
   "source": [
    "###import+read 檔案"
   ]
  },
  {
   "cell_type": "code",
   "execution_count": 2,
   "id": "06f76db2",
   "metadata": {},
   "outputs": [
    {
     "data": {
      "text/html": [
       "<div>\n",
       "<style scoped>\n",
       "    .dataframe tbody tr th:only-of-type {\n",
       "        vertical-align: middle;\n",
       "    }\n",
       "\n",
       "    .dataframe tbody tr th {\n",
       "        vertical-align: top;\n",
       "    }\n",
       "\n",
       "    .dataframe thead th {\n",
       "        text-align: right;\n",
       "    }\n",
       "</style>\n",
       "<table border=\"1\" class=\"dataframe\">\n",
       "  <thead>\n",
       "    <tr style=\"text-align: right;\">\n",
       "      <th></th>\n",
       "      <th>時間戳記</th>\n",
       "      <th>你是個...?</th>\n",
       "      <th>是否有 3D 暈 (例如: 3D電影看太久會感到不舒服、長時間玩生存遊戲時會感到暈眩......)</th>\n",
       "      <th>是否有使用VR眼鏡體驗專案?</th>\n",
       "      <th>遊玩時間</th>\n",
       "      <th>對於此體驗的滿意度</th>\n",
       "      <th>任何建議，哪裡覺得不滿意</th>\n",
       "      <th>體驗的流暢度</th>\n",
       "      <th>對於流暢度的建議</th>\n",
       "      <th>對於知識的取得是否有幫助?</th>\n",
       "      <th>對於知識取得的建議</th>\n",
       "      <th>想對我們說的話</th>\n",
       "    </tr>\n",
       "  </thead>\n",
       "  <tbody>\n",
       "    <tr>\n",
       "      <th>0</th>\n",
       "      <td>2022/4/4 下午 2:29:48</td>\n",
       "      <td>國高中學生</td>\n",
       "      <td>否</td>\n",
       "      <td>NaN</td>\n",
       "      <td>10 - 15 分鐘</td>\n",
       "      <td>2</td>\n",
       "      <td>介紹的小字太小太糊了(VR模式)</td>\n",
       "      <td>2</td>\n",
       "      <td>VR模式的時候，反應不靈敏還有有點卡卡的</td>\n",
       "      <td>2</td>\n",
       "      <td>可以有較生活化或實用化的知識(對我而言有點easy)</td>\n",
       "      <td>臭姐姐，為什麼要一個國三生幫你玩(因為你玩的會暈)然後浪費我的頭腦容量。</td>\n",
       "    </tr>\n",
       "    <tr>\n",
       "      <th>1</th>\n",
       "      <td>2022/5/16 上午 1:20:49</td>\n",
       "      <td>大學生以上(含以上)</td>\n",
       "      <td>否</td>\n",
       "      <td>否</td>\n",
       "      <td>5 - 10 分鐘</td>\n",
       "      <td>5</td>\n",
       "      <td>NaN</td>\n",
       "      <td>4</td>\n",
       "      <td>NaN</td>\n",
       "      <td>4</td>\n",
       "      <td>會出成題目的地方可以在介紹的時候給點小提示！然後小寶貝的照片多一點會玩的更開心😍😍</td>\n",
       "      <td>我愛妳乃云寶貝 小寶貝最棒了😘</td>\n",
       "    </tr>\n",
       "    <tr>\n",
       "      <th>2</th>\n",
       "      <td>2022/5/17 上午 11:23:23</td>\n",
       "      <td>國小低年級學生(1、2年級含以下)</td>\n",
       "      <td>是</td>\n",
       "      <td>是</td>\n",
       "      <td>20 分鐘以上</td>\n",
       "      <td>5</td>\n",
       "      <td>超棒的囉！</td>\n",
       "      <td>5</td>\n",
       "      <td>我很開心囉！</td>\n",
       "      <td>5</td>\n",
       "      <td>讚喔囉！</td>\n",
       "      <td>你們很棒喔？</td>\n",
       "    </tr>\n",
       "    <tr>\n",
       "      <th>3</th>\n",
       "      <td>2022/5/17 上午 11:32:37</td>\n",
       "      <td>大學生以上(含以上)</td>\n",
       "      <td>是</td>\n",
       "      <td>是</td>\n",
       "      <td>10 - 15 分鐘</td>\n",
       "      <td>4</td>\n",
       "      <td>頭有點暈</td>\n",
       "      <td>5</td>\n",
       "      <td>還不錯</td>\n",
       "      <td>4</td>\n",
       "      <td>可以有趣的獲得知識</td>\n",
       "      <td>甘八爹呦</td>\n",
       "    </tr>\n",
       "    <tr>\n",
       "      <th>4</th>\n",
       "      <td>2022/5/17 下午 5:52:37</td>\n",
       "      <td>大學生以上(含以上)</td>\n",
       "      <td>否</td>\n",
       "      <td>否</td>\n",
       "      <td>5 - 10 分鐘</td>\n",
       "      <td>5</td>\n",
       "      <td>NaN</td>\n",
       "      <td>5</td>\n",
       "      <td>NaN</td>\n",
       "      <td>5</td>\n",
       "      <td>NaN</td>\n",
       "      <td>NaN</td>\n",
       "    </tr>\n",
       "  </tbody>\n",
       "</table>\n",
       "</div>"
      ],
      "text/plain": [
       "                    時間戳記            你是個...?  \\\n",
       "0    2022/4/4 下午 2:29:48              國高中學生   \n",
       "1   2022/5/16 上午 1:20:49         大學生以上(含以上)   \n",
       "2  2022/5/17 上午 11:23:23  國小低年級學生(1、2年級含以下)   \n",
       "3  2022/5/17 上午 11:32:37         大學生以上(含以上)   \n",
       "4   2022/5/17 下午 5:52:37         大學生以上(含以上)   \n",
       "\n",
       "  是否有 3D 暈 (例如: 3D電影看太久會感到不舒服、長時間玩生存遊戲時會感到暈眩......) 是否有使用VR眼鏡體驗專案?  \\\n",
       "0                                                 否            NaN   \n",
       "1                                                 否              否   \n",
       "2                                                 是              是   \n",
       "3                                                 是              是   \n",
       "4                                                 否              否   \n",
       "\n",
       "         遊玩時間  對於此體驗的滿意度      任何建議，哪裡覺得不滿意  體驗的流暢度              對於流暢度的建議  \\\n",
       "0  10 - 15 分鐘          2  介紹的小字太小太糊了(VR模式)       2  VR模式的時候，反應不靈敏還有有點卡卡的   \n",
       "1   5 - 10 分鐘          5               NaN       4                   NaN   \n",
       "2     20 分鐘以上          5             超棒的囉！       5                我很開心囉！   \n",
       "3  10 - 15 分鐘          4              頭有點暈       5                   還不錯   \n",
       "4   5 - 10 分鐘          5               NaN       5                   NaN   \n",
       "\n",
       "   對於知識的取得是否有幫助?                                  對於知識取得的建議  \\\n",
       "0              2                 可以有較生活化或實用化的知識(對我而言有點easy)   \n",
       "1              4  會出成題目的地方可以在介紹的時候給點小提示！然後小寶貝的照片多一點會玩的更開心😍😍   \n",
       "2              5                                       讚喔囉！   \n",
       "3              4                                  可以有趣的獲得知識   \n",
       "4              5                                        NaN   \n",
       "\n",
       "                                想對我們說的話  \n",
       "0  臭姐姐，為什麼要一個國三生幫你玩(因為你玩的會暈)然後浪費我的頭腦容量。  \n",
       "1                       我愛妳乃云寶貝 小寶貝最棒了😘  \n",
       "2                                你們很棒喔？  \n",
       "3                                  甘八爹呦  \n",
       "4                                   NaN  "
      ]
     },
     "execution_count": 2,
     "metadata": {},
     "output_type": "execute_result"
    }
   ],
   "source": [
    "import pandas as pd\n",
    "data = pd.read_csv(\"台北市植物園 腊葉館 VR體驗回饋 (回覆) - 表單回應 1.csv\")\n",
    "data.head()"
   ]
  },
  {
   "cell_type": "code",
   "execution_count": null,
   "id": "dd418654",
   "metadata": {},
   "outputs": [],
   "source": [
    "###提取資料大小、欄位、空值"
   ]
  },
  {
   "cell_type": "code",
   "execution_count": 3,
   "id": "edc6c021",
   "metadata": {},
   "outputs": [
    {
     "name": "stdout",
     "output_type": "stream",
     "text": [
      "資料(資料筆數,欄位數量):  (16, 12)\n",
      "資料中所有欄位名稱:  Index(['時間戳記', '你是個...?', '是否有 3D 暈 (例如: 3D電影看太久會感到不舒服、長時間玩生存遊戲時會感到暈眩......)',\n",
      "       '是否有使用VR眼鏡體驗專案?', '遊玩時間', '對於此體驗的滿意度', '任何建議，哪裡覺得不滿意', '體驗的流暢度',\n",
      "       '對於流暢度的建議', '對於知識的取得是否有幫助?', '對於知識取得的建議', '想對我們說的話'],\n",
      "      dtype='object')\n",
      "資料中是否有空值:  False\n"
     ]
    }
   ],
   "source": [
    "print(\"資料(資料筆數,欄位數量): \",data.shape)\n",
    "print(\"資料中所有欄位名稱: \",data.columns)\n",
    "print(\"資料中是否有空值: \",data.empty)"
   ]
  },
  {
   "cell_type": "code",
   "execution_count": null,
   "id": "ed2ad6d4",
   "metadata": {},
   "outputs": [],
   "source": [
    "###從直欄提取資料"
   ]
  },
  {
   "cell_type": "code",
   "execution_count": 4,
   "id": "7069ccf7",
   "metadata": {},
   "outputs": [
    {
     "data": {
      "text/plain": [
       "{nan, '國小低年級學生(1、2年級含以下)', '國高中學生', '大學生以上(含以上)'}"
      ]
     },
     "execution_count": 4,
     "metadata": {},
     "output_type": "execute_result"
    }
   ],
   "source": [
    "set(data[\"你是個...?\"])"
   ]
  },
  {
   "cell_type": "code",
   "execution_count": 5,
   "id": "24f21d4d",
   "metadata": {},
   "outputs": [
    {
     "data": {
      "text/plain": [
       "{nan,\n",
       " '下一位',\n",
       " '你們很棒喔？',\n",
       " '做的超級棒，下次可以參加黑客松ㄛ~\\n用VR,meta應該都可以吸引評審目光',\n",
       " '加油',\n",
       " '在對稱區那邊的標題不要全部擠在一起啦XD\\n採集標本裝置那邊覺得應該也可以放圖片介紹\\n打卡牆那邊的圖可以再放大點不然字好小qq \\n整體來說很棒！',\n",
       " '很棒！',\n",
       " '很用心的體驗遊戲 很新奇的體驗 謝謝你們帶來這麼棒的作品',\n",
       " '我愛妳乃云寶貝 小寶貝最棒了😘',\n",
       " '我覺得你們非常用心，而且可以讓我們在家就能學習植物的知識，並透過VR體驗感受當地的氛圍並且觀察，非常有趣，立意也很好！你們很棒！繼續加油！',\n",
       " '甘八爹呦',\n",
       " '臭姐姐，為什麼要一個國三生幫你玩(因為你玩的會暈)然後浪費我的頭腦容量。',\n",
       " '被姊姊抓來測試的somebody\\n3:D'}"
      ]
     },
     "execution_count": 5,
     "metadata": {},
     "output_type": "execute_result"
    }
   ],
   "source": [
    "set(data[\"想對我們說的話\"])"
   ]
  },
  {
   "cell_type": "code",
   "execution_count": null,
   "id": "b4dbec4c",
   "metadata": {},
   "outputs": [],
   "source": [
    "###篩選資料:單一條件"
   ]
  },
  {
   "cell_type": "code",
   "execution_count": 6,
   "id": "98c2eb1c",
   "metadata": {},
   "outputs": [
    {
     "name": "stdout",
     "output_type": "stream",
     "text": [
      "共有 2 筆資料\n"
     ]
    },
    {
     "data": {
      "text/html": [
       "<div>\n",
       "<style scoped>\n",
       "    .dataframe tbody tr th:only-of-type {\n",
       "        vertical-align: middle;\n",
       "    }\n",
       "\n",
       "    .dataframe tbody tr th {\n",
       "        vertical-align: top;\n",
       "    }\n",
       "\n",
       "    .dataframe thead th {\n",
       "        text-align: right;\n",
       "    }\n",
       "</style>\n",
       "<table border=\"1\" class=\"dataframe\">\n",
       "  <thead>\n",
       "    <tr style=\"text-align: right;\">\n",
       "      <th></th>\n",
       "      <th>時間戳記</th>\n",
       "      <th>你是個...?</th>\n",
       "      <th>是否有 3D 暈 (例如: 3D電影看太久會感到不舒服、長時間玩生存遊戲時會感到暈眩......)</th>\n",
       "      <th>是否有使用VR眼鏡體驗專案?</th>\n",
       "      <th>遊玩時間</th>\n",
       "      <th>對於此體驗的滿意度</th>\n",
       "      <th>任何建議，哪裡覺得不滿意</th>\n",
       "      <th>體驗的流暢度</th>\n",
       "      <th>對於流暢度的建議</th>\n",
       "      <th>對於知識的取得是否有幫助?</th>\n",
       "      <th>對於知識取得的建議</th>\n",
       "      <th>想對我們說的話</th>\n",
       "    </tr>\n",
       "  </thead>\n",
       "  <tbody>\n",
       "    <tr>\n",
       "      <th>0</th>\n",
       "      <td>2022/4/4 下午 2:29:48</td>\n",
       "      <td>國高中學生</td>\n",
       "      <td>否</td>\n",
       "      <td>NaN</td>\n",
       "      <td>10 - 15 分鐘</td>\n",
       "      <td>2</td>\n",
       "      <td>介紹的小字太小太糊了(VR模式)</td>\n",
       "      <td>2</td>\n",
       "      <td>VR模式的時候，反應不靈敏還有有點卡卡的</td>\n",
       "      <td>2</td>\n",
       "      <td>可以有較生活化或實用化的知識(對我而言有點easy)</td>\n",
       "      <td>臭姐姐，為什麼要一個國三生幫你玩(因為你玩的會暈)然後浪費我的頭腦容量。</td>\n",
       "    </tr>\n",
       "    <tr>\n",
       "      <th>15</th>\n",
       "      <td>2022/5/25 下午 10:04:23</td>\n",
       "      <td>國高中學生</td>\n",
       "      <td>否</td>\n",
       "      <td>是</td>\n",
       "      <td>5 分鐘以下</td>\n",
       "      <td>3</td>\n",
       "      <td>標題底下說明的字體太小。</td>\n",
       "      <td>3</td>\n",
       "      <td>題目消失了。</td>\n",
       "      <td>2</td>\n",
       "      <td>太簡單。</td>\n",
       "      <td>被姊姊抓來測試的somebody\\n3:D</td>\n",
       "    </tr>\n",
       "  </tbody>\n",
       "</table>\n",
       "</div>"
      ],
      "text/plain": [
       "                     時間戳記 你是個...?  \\\n",
       "0     2022/4/4 下午 2:29:48   國高中學生   \n",
       "15  2022/5/25 下午 10:04:23   國高中學生   \n",
       "\n",
       "   是否有 3D 暈 (例如: 3D電影看太久會感到不舒服、長時間玩生存遊戲時會感到暈眩......) 是否有使用VR眼鏡體驗專案?  \\\n",
       "0                                                  否            NaN   \n",
       "15                                                 否              是   \n",
       "\n",
       "          遊玩時間  對於此體驗的滿意度      任何建議，哪裡覺得不滿意  體驗的流暢度              對於流暢度的建議  \\\n",
       "0   10 - 15 分鐘          2  介紹的小字太小太糊了(VR模式)       2  VR模式的時候，反應不靈敏還有有點卡卡的   \n",
       "15      5 分鐘以下          3      標題底下說明的字體太小。       3                題目消失了。   \n",
       "\n",
       "    對於知識的取得是否有幫助?                   對於知識取得的建議  \\\n",
       "0               2  可以有較生活化或實用化的知識(對我而言有點easy)   \n",
       "15              2                        太簡單。   \n",
       "\n",
       "                                 想對我們說的話  \n",
       "0   臭姐姐，為什麼要一個國三生幫你玩(因為你玩的會暈)然後浪費我的頭腦容量。  \n",
       "15                 被姊姊抓來測試的somebody\\n3:D  "
      ]
     },
     "execution_count": 6,
     "metadata": {},
     "output_type": "execute_result"
    }
   ],
   "source": [
    "c1 = (data[\"你是個...?\"] == \"國高中學生\")\n",
    "d1 = data[c1]\n",
    "\n",
    "print(\"共有\",len(d1),\"筆資料\")\n",
    "d1.head()"
   ]
  },
  {
   "cell_type": "code",
   "execution_count": null,
   "id": "c586f0f6",
   "metadata": {},
   "outputs": [],
   "source": [
    "###篩選資料:多條件"
   ]
  },
  {
   "cell_type": "code",
   "execution_count": 7,
   "id": "f5c66743",
   "metadata": {},
   "outputs": [
    {
     "name": "stdout",
     "output_type": "stream",
     "text": [
      "共有 5 筆資料\n"
     ]
    },
    {
     "data": {
      "text/html": [
       "<div>\n",
       "<style scoped>\n",
       "    .dataframe tbody tr th:only-of-type {\n",
       "        vertical-align: middle;\n",
       "    }\n",
       "\n",
       "    .dataframe tbody tr th {\n",
       "        vertical-align: top;\n",
       "    }\n",
       "\n",
       "    .dataframe thead th {\n",
       "        text-align: right;\n",
       "    }\n",
       "</style>\n",
       "<table border=\"1\" class=\"dataframe\">\n",
       "  <thead>\n",
       "    <tr style=\"text-align: right;\">\n",
       "      <th></th>\n",
       "      <th>時間戳記</th>\n",
       "      <th>你是個...?</th>\n",
       "      <th>是否有 3D 暈 (例如: 3D電影看太久會感到不舒服、長時間玩生存遊戲時會感到暈眩......)</th>\n",
       "      <th>是否有使用VR眼鏡體驗專案?</th>\n",
       "      <th>遊玩時間</th>\n",
       "      <th>對於此體驗的滿意度</th>\n",
       "      <th>任何建議，哪裡覺得不滿意</th>\n",
       "      <th>體驗的流暢度</th>\n",
       "      <th>對於流暢度的建議</th>\n",
       "      <th>對於知識的取得是否有幫助?</th>\n",
       "      <th>對於知識取得的建議</th>\n",
       "      <th>想對我們說的話</th>\n",
       "    </tr>\n",
       "  </thead>\n",
       "  <tbody>\n",
       "    <tr>\n",
       "      <th>3</th>\n",
       "      <td>2022/5/17 上午 11:32:37</td>\n",
       "      <td>大學生以上(含以上)</td>\n",
       "      <td>是</td>\n",
       "      <td>是</td>\n",
       "      <td>10 - 15 分鐘</td>\n",
       "      <td>4</td>\n",
       "      <td>頭有點暈</td>\n",
       "      <td>5</td>\n",
       "      <td>還不錯</td>\n",
       "      <td>4</td>\n",
       "      <td>可以有趣的獲得知識</td>\n",
       "      <td>甘八爹呦</td>\n",
       "    </tr>\n",
       "    <tr>\n",
       "      <th>8</th>\n",
       "      <td>2022/5/23 下午 10:50:28</td>\n",
       "      <td>大學生以上(含以上)</td>\n",
       "      <td>否</td>\n",
       "      <td>是</td>\n",
       "      <td>10 - 15 分鐘</td>\n",
       "      <td>5</td>\n",
       "      <td>讚</td>\n",
       "      <td>5</td>\n",
       "      <td>無</td>\n",
       "      <td>5</td>\n",
       "      <td>嗨</td>\n",
       "      <td>下一位</td>\n",
       "    </tr>\n",
       "    <tr>\n",
       "      <th>9</th>\n",
       "      <td>2022/5/23 下午 10:54:51</td>\n",
       "      <td>大學生以上(含以上)</td>\n",
       "      <td>否</td>\n",
       "      <td>是</td>\n",
       "      <td>15 - 20 分鐘</td>\n",
       "      <td>4</td>\n",
       "      <td>NaN</td>\n",
       "      <td>3</td>\n",
       "      <td>NaN</td>\n",
       "      <td>5</td>\n",
       "      <td>NaN</td>\n",
       "      <td>NaN</td>\n",
       "    </tr>\n",
       "    <tr>\n",
       "      <th>13</th>\n",
       "      <td>2022/5/25 下午 12:42:51</td>\n",
       "      <td>大學生以上(含以上)</td>\n",
       "      <td>否</td>\n",
       "      <td>是</td>\n",
       "      <td>5 - 10 分鐘</td>\n",
       "      <td>4</td>\n",
       "      <td>NaN</td>\n",
       "      <td>3</td>\n",
       "      <td>應該是程式的問題，切換視角不大便利</td>\n",
       "      <td>5</td>\n",
       "      <td>NaN</td>\n",
       "      <td>很棒！</td>\n",
       "    </tr>\n",
       "    <tr>\n",
       "      <th>14</th>\n",
       "      <td>2022/5/25 下午 9:27:11</td>\n",
       "      <td>大學生以上(含以上)</td>\n",
       "      <td>否</td>\n",
       "      <td>是</td>\n",
       "      <td>10 - 15 分鐘</td>\n",
       "      <td>4</td>\n",
       "      <td>在文字的部分偏小，如果可以做跨頁可以更好</td>\n",
       "      <td>4</td>\n",
       "      <td>第一次玩容易找不到下一個場景，後面場景轉換可以寫建議探索…</td>\n",
       "      <td>4</td>\n",
       "      <td>可能不想打擊探索者，所以答錯還可以繼續答</td>\n",
       "      <td>做的超級棒，下次可以參加黑客松ㄛ~\\n用VR,meta應該都可以吸引評審目光</td>\n",
       "    </tr>\n",
       "  </tbody>\n",
       "</table>\n",
       "</div>"
      ],
      "text/plain": [
       "                     時間戳記     你是個...?  \\\n",
       "3   2022/5/17 上午 11:32:37  大學生以上(含以上)   \n",
       "8   2022/5/23 下午 10:50:28  大學生以上(含以上)   \n",
       "9   2022/5/23 下午 10:54:51  大學生以上(含以上)   \n",
       "13  2022/5/25 下午 12:42:51  大學生以上(含以上)   \n",
       "14   2022/5/25 下午 9:27:11  大學生以上(含以上)   \n",
       "\n",
       "   是否有 3D 暈 (例如: 3D電影看太久會感到不舒服、長時間玩生存遊戲時會感到暈眩......) 是否有使用VR眼鏡體驗專案?  \\\n",
       "3                                                  是              是   \n",
       "8                                                  否              是   \n",
       "9                                                  否              是   \n",
       "13                                                 否              是   \n",
       "14                                                 否              是   \n",
       "\n",
       "          遊玩時間  對於此體驗的滿意度          任何建議，哪裡覺得不滿意  體驗的流暢度  \\\n",
       "3   10 - 15 分鐘          4                  頭有點暈       5   \n",
       "8   10 - 15 分鐘          5                     讚       5   \n",
       "9   15 - 20 分鐘          4                   NaN       3   \n",
       "13   5 - 10 分鐘          4                   NaN       3   \n",
       "14  10 - 15 分鐘          4  在文字的部分偏小，如果可以做跨頁可以更好       4   \n",
       "\n",
       "                         對於流暢度的建議  對於知識的取得是否有幫助?             對於知識取得的建議  \\\n",
       "3                             還不錯              4             可以有趣的獲得知識   \n",
       "8                               無              5                     嗨   \n",
       "9                             NaN              5                   NaN   \n",
       "13              應該是程式的問題，切換視角不大便利              5                   NaN   \n",
       "14  第一次玩容易找不到下一個場景，後面場景轉換可以寫建議探索…              4  可能不想打擊探索者，所以答錯還可以繼續答   \n",
       "\n",
       "                                   想對我們說的話  \n",
       "3                                     甘八爹呦  \n",
       "8                                      下一位  \n",
       "9                                      NaN  \n",
       "13                                     很棒！  \n",
       "14  做的超級棒，下次可以參加黑客松ㄛ~\\n用VR,meta應該都可以吸引評審目光  "
      ]
     },
     "execution_count": 7,
     "metadata": {},
     "output_type": "execute_result"
    }
   ],
   "source": [
    "c2 = (data[\"你是個...?\"] == \"大學生以上(含以上)\") & (data[\"是否有使用VR眼鏡體驗專案?\"] == \"是\")\n",
    "d2 = data[c2]\n",
    "\n",
    "print(\"共有\",len(d2),\"筆資料\")\n",
    "d2.head()"
   ]
  },
  {
   "cell_type": "code",
   "execution_count": null,
   "id": "ad7fdd55",
   "metadata": {},
   "outputs": [],
   "source": [
    "###資料名稱.loc[行標籤,列標籤]→不連續的行列資料"
   ]
  },
  {
   "cell_type": "code",
   "execution_count": 16,
   "id": "82617138",
   "metadata": {},
   "outputs": [
    {
     "data": {
      "text/html": [
       "<div>\n",
       "<style scoped>\n",
       "    .dataframe tbody tr th:only-of-type {\n",
       "        vertical-align: middle;\n",
       "    }\n",
       "\n",
       "    .dataframe tbody tr th {\n",
       "        vertical-align: top;\n",
       "    }\n",
       "\n",
       "    .dataframe thead th {\n",
       "        text-align: right;\n",
       "    }\n",
       "</style>\n",
       "<table border=\"1\" class=\"dataframe\">\n",
       "  <thead>\n",
       "    <tr style=\"text-align: right;\">\n",
       "      <th></th>\n",
       "      <th>對於流暢度的建議</th>\n",
       "      <th>對於知識取得的建議</th>\n",
       "      <th>想對我們說的話</th>\n",
       "    </tr>\n",
       "  </thead>\n",
       "  <tbody>\n",
       "    <tr>\n",
       "      <th>11</th>\n",
       "      <td>NaN</td>\n",
       "      <td>NaN</td>\n",
       "      <td>NaN</td>\n",
       "    </tr>\n",
       "    <tr>\n",
       "      <th>12</th>\n",
       "      <td>除了字有點難看清楚外 其他部分都很棒！！</td>\n",
       "      <td>問答部分可以去探索找答案 這種方式我覺得很棒！！</td>\n",
       "      <td>很用心的體驗遊戲 很新奇的體驗 謝謝你們帶來這麼棒的作品</td>\n",
       "    </tr>\n",
       "    <tr>\n",
       "      <th>13</th>\n",
       "      <td>應該是程式的問題，切換視角不大便利</td>\n",
       "      <td>NaN</td>\n",
       "      <td>很棒！</td>\n",
       "    </tr>\n",
       "    <tr>\n",
       "      <th>14</th>\n",
       "      <td>第一次玩容易找不到下一個場景，後面場景轉換可以寫建議探索…</td>\n",
       "      <td>可能不想打擊探索者，所以答錯還可以繼續答</td>\n",
       "      <td>做的超級棒，下次可以參加黑客松ㄛ~\\n用VR,meta應該都可以吸引評審目光</td>\n",
       "    </tr>\n",
       "    <tr>\n",
       "      <th>15</th>\n",
       "      <td>題目消失了。</td>\n",
       "      <td>太簡單。</td>\n",
       "      <td>被姊姊抓來測試的somebody\\n3:D</td>\n",
       "    </tr>\n",
       "  </tbody>\n",
       "</table>\n",
       "</div>"
      ],
      "text/plain": [
       "                         對於流暢度的建議                 對於知識取得的建議  \\\n",
       "11                            NaN                       NaN   \n",
       "12           除了字有點難看清楚外 其他部分都很棒！！  問答部分可以去探索找答案 這種方式我覺得很棒！！   \n",
       "13              應該是程式的問題，切換視角不大便利                       NaN   \n",
       "14  第一次玩容易找不到下一個場景，後面場景轉換可以寫建議探索…      可能不想打擊探索者，所以答錯還可以繼續答   \n",
       "15                         題目消失了。                      太簡單。   \n",
       "\n",
       "                                   想對我們說的話  \n",
       "11                                     NaN  \n",
       "12            很用心的體驗遊戲 很新奇的體驗 謝謝你們帶來這麼棒的作品  \n",
       "13                                     很棒！  \n",
       "14  做的超級棒，下次可以參加黑客松ㄛ~\\n用VR,meta應該都可以吸引評審目光  \n",
       "15                   被姊姊抓來測試的somebody\\n3:D  "
      ]
     },
     "execution_count": 16,
     "metadata": {},
     "output_type": "execute_result"
    }
   ],
   "source": [
    "loc1 = data.loc[11:16,[\"對於流暢度的建議\",\"對於知識取得的建議\",\"想對我們說的話\"]]\n",
    "loc1"
   ]
  },
  {
   "cell_type": "code",
   "execution_count": null,
   "id": "789a9e7e",
   "metadata": {},
   "outputs": [],
   "source": [
    "#資料名稱.iloc[行索引,列索引]→連續的行列資料"
   ]
  },
  {
   "cell_type": "code",
   "execution_count": 9,
   "id": "20eacb80",
   "metadata": {},
   "outputs": [
    {
     "data": {
      "text/html": [
       "<div>\n",
       "<style scoped>\n",
       "    .dataframe tbody tr th:only-of-type {\n",
       "        vertical-align: middle;\n",
       "    }\n",
       "\n",
       "    .dataframe tbody tr th {\n",
       "        vertical-align: top;\n",
       "    }\n",
       "\n",
       "    .dataframe thead th {\n",
       "        text-align: right;\n",
       "    }\n",
       "</style>\n",
       "<table border=\"1\" class=\"dataframe\">\n",
       "  <thead>\n",
       "    <tr style=\"text-align: right;\">\n",
       "      <th></th>\n",
       "      <th>遊玩時間</th>\n",
       "      <th>對於此體驗的滿意度</th>\n",
       "      <th>任何建議，哪裡覺得不滿意</th>\n",
       "      <th>體驗的流暢度</th>\n",
       "      <th>對於流暢度的建議</th>\n",
       "      <th>對於知識的取得是否有幫助?</th>\n",
       "      <th>對於知識取得的建議</th>\n",
       "    </tr>\n",
       "  </thead>\n",
       "  <tbody>\n",
       "    <tr>\n",
       "      <th>10</th>\n",
       "      <td>5 - 10 分鐘</td>\n",
       "      <td>3</td>\n",
       "      <td>頗酷的，但畫面有點卡</td>\n",
       "      <td>2</td>\n",
       "      <td>同上提畫面卡</td>\n",
       "      <td>4</td>\n",
       "      <td>不錯的體驗</td>\n",
       "    </tr>\n",
       "    <tr>\n",
       "      <th>11</th>\n",
       "      <td>5 分鐘以下</td>\n",
       "      <td>4</td>\n",
       "      <td>NaN</td>\n",
       "      <td>4</td>\n",
       "      <td>NaN</td>\n",
       "      <td>4</td>\n",
       "      <td>NaN</td>\n",
       "    </tr>\n",
       "    <tr>\n",
       "      <th>12</th>\n",
       "      <td>10 - 15 分鐘</td>\n",
       "      <td>4</td>\n",
       "      <td>不知道是手機尺寸問題還是畫質問題 總覺得字一直很難看清楚 有點吃力</td>\n",
       "      <td>5</td>\n",
       "      <td>除了字有點難看清楚外 其他部分都很棒！！</td>\n",
       "      <td>5</td>\n",
       "      <td>問答部分可以去探索找答案 這種方式我覺得很棒！！</td>\n",
       "    </tr>\n",
       "  </tbody>\n",
       "</table>\n",
       "</div>"
      ],
      "text/plain": [
       "          遊玩時間  對於此體驗的滿意度                       任何建議，哪裡覺得不滿意  體驗的流暢度  \\\n",
       "10   5 - 10 分鐘          3                         頗酷的，但畫面有點卡       2   \n",
       "11      5 分鐘以下          4                                NaN       4   \n",
       "12  10 - 15 分鐘          4  不知道是手機尺寸問題還是畫質問題 總覺得字一直很難看清楚 有點吃力       5   \n",
       "\n",
       "                對於流暢度的建議  對於知識的取得是否有幫助?                 對於知識取得的建議  \n",
       "10                同上提畫面卡              4                     不錯的體驗  \n",
       "11                   NaN              4                       NaN  \n",
       "12  除了字有點難看清楚外 其他部分都很棒！！              5  問答部分可以去探索找答案 這種方式我覺得很棒！！  "
      ]
     },
     "execution_count": 9,
     "metadata": {},
     "output_type": "execute_result"
    }
   ],
   "source": [
    "iloc1 = data.iloc[10:13,4:11]\n",
    "iloc1"
   ]
  },
  {
   "cell_type": "code",
   "execution_count": 10,
   "id": "c7e93b6d",
   "metadata": {},
   "outputs": [
    {
     "data": {
      "text/html": [
       "<div>\n",
       "<style scoped>\n",
       "    .dataframe tbody tr th:only-of-type {\n",
       "        vertical-align: middle;\n",
       "    }\n",
       "\n",
       "    .dataframe tbody tr th {\n",
       "        vertical-align: top;\n",
       "    }\n",
       "\n",
       "    .dataframe thead th {\n",
       "        text-align: right;\n",
       "    }\n",
       "</style>\n",
       "<table border=\"1\" class=\"dataframe\">\n",
       "  <thead>\n",
       "    <tr style=\"text-align: right;\">\n",
       "      <th></th>\n",
       "      <th>你是個...?</th>\n",
       "      <th>是否有使用VR眼鏡體驗專案?</th>\n",
       "      <th>對於此體驗的滿意度</th>\n",
       "    </tr>\n",
       "  </thead>\n",
       "  <tbody>\n",
       "    <tr>\n",
       "      <th>2</th>\n",
       "      <td>國小低年級學生(1、2年級含以下)</td>\n",
       "      <td>是</td>\n",
       "      <td>5</td>\n",
       "    </tr>\n",
       "    <tr>\n",
       "      <th>8</th>\n",
       "      <td>大學生以上(含以上)</td>\n",
       "      <td>是</td>\n",
       "      <td>5</td>\n",
       "    </tr>\n",
       "    <tr>\n",
       "      <th>11</th>\n",
       "      <td>大學生以上(含以上)</td>\n",
       "      <td>否</td>\n",
       "      <td>4</td>\n",
       "    </tr>\n",
       "  </tbody>\n",
       "</table>\n",
       "</div>"
      ],
      "text/plain": [
       "              你是個...? 是否有使用VR眼鏡體驗專案?  對於此體驗的滿意度\n",
       "2   國小低年級學生(1、2年級含以下)              是          5\n",
       "8          大學生以上(含以上)              是          5\n",
       "11         大學生以上(含以上)              否          4"
      ]
     },
     "execution_count": 10,
     "metadata": {},
     "output_type": "execute_result"
    }
   ],
   "source": [
    "iloc2 = data.iloc[ [2,8,11] , [1,3,5] ]\n",
    "iloc2"
   ]
  },
  {
   "cell_type": "code",
   "execution_count": 14,
   "id": "18d6fb9d",
   "metadata": {},
   "outputs": [
    {
     "name": "stdout",
     "output_type": "stream",
     "text": [
      "在對稱區那邊的標題不要全部擠在一起啦XD\n",
      "採集標本裝置那邊覺得應該也可以放圖片介紹\n",
      "打卡牆那邊的圖可以再放大點不然字好小qq \n",
      "整體來說很棒！\n",
      "<class 'str'>\n"
     ]
    }
   ],
   "source": [
    "a = data[\"想對我們說的話\"][5]\n",
    "print(a)\n",
    "print(type(a))"
   ]
  },
  {
   "cell_type": "code",
   "execution_count": null,
   "id": "42530d6d",
   "metadata": {},
   "outputs": [],
   "source": [
    "###新的數字加減招"
   ]
  },
  {
   "cell_type": "code",
   "execution_count": 15,
   "id": "e1cc6f5e",
   "metadata": {},
   "outputs": [
    {
     "name": "stdout",
     "output_type": "stream",
     "text": [
      "<class 'str'>\n",
      "18\n",
      "<class 'int'>\n"
     ]
    }
   ],
   "source": [
    "number = 8\n",
    "number1 = \" number + 10 \"\n",
    "print(type(number1))\n",
    "print(eval(number1))\n",
    "print(type(eval(number1)))"
   ]
  }
 ],
 "metadata": {
  "kernelspec": {
   "display_name": "Python 3 (ipykernel)",
   "language": "python",
   "name": "python3"
  },
  "language_info": {
   "codemirror_mode": {
    "name": "ipython",
    "version": 3
   },
   "file_extension": ".py",
   "mimetype": "text/x-python",
   "name": "python",
   "nbconvert_exporter": "python",
   "pygments_lexer": "ipython3",
   "version": "3.9.13"
  }
 },
 "nbformat": 4,
 "nbformat_minor": 5
}
