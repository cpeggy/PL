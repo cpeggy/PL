{
 "cells": [
  {
   "cell_type": "code",
   "execution_count": 4,
   "id": "288c5fac",
   "metadata": {},
   "outputs": [],
   "source": [
    "import requests\n",
    "import json\n",
    "import pandas as pd\n",
    "import time"
   ]
  },
  {
   "cell_type": "code",
   "execution_count": 5,
   "id": "e43a23b8",
   "metadata": {},
   "outputs": [],
   "source": [
    "keyword = '鞋櫃'\n",
    "# 要抓取的網址\n",
    "url = 'https://ecshweb.pchome.com.tw/search/v3.3/all/results?q='+keyword+'&page=1&sort=sale/dc'\n",
    "#請求網站\n",
    "list_req = requests.get(url)\n",
    "#將整個網站的程式碼爬下來\n",
    "getdata = json.loads(list_req.content)\n",
    "\n",
    "\n",
    "# 蒐集多頁的資料，打包成csv檔案\n",
    "alldata = pd.DataFrame() # 準備一個容器\n",
    "for i in range(1,10):\n",
    "    # 要抓取的網址\n",
    "    url = 'https://ecshweb.pchome.com.tw/search/v3.3/all/results?q='+keyword+'&page='+str(i)+'&sort=sale/dc'\n",
    "    #請求網站\n",
    "    list_req = requests.get(url)\n",
    "    #將整個網站的程式碼爬下來\n",
    "    getdata = json.loads(list_req.content)\n",
    "    todataFrame = pd.DataFrame(getdata['prods']) # 轉成Dataframe格式\n",
    "    alldata = pd.concat([alldata, todataFrame]) # 將結果裝進容器\n",
    "    \n",
    "    time.sleep(5) #拖延時間\n",
    "    \n",
    "# 儲存檔案\n",
    "alldata.to_csv('PChome.csv', # 名稱\n",
    "               encoding='utf-8-sig', # 編碼 \n",
    "               index=False) # 是否保留Index"
   ]
  },
  {
   "cell_type": "code",
   "execution_count": 6,
   "id": "1d3b2420",
   "metadata": {},
   "outputs": [
    {
     "data": {
      "text/plain": [
       "requests.models.Response"
      ]
     },
     "execution_count": 6,
     "metadata": {},
     "output_type": "execute_result"
    }
   ],
   "source": [
    "type(list_req)"
   ]
  },
  {
   "cell_type": "code",
   "execution_count": null,
   "id": "ccd620ec",
   "metadata": {},
   "outputs": [],
   "source": []
  }
 ],
 "metadata": {
  "kernelspec": {
   "display_name": "Python 3 (ipykernel)",
   "language": "python",
   "name": "python3"
  },
  "language_info": {
   "codemirror_mode": {
    "name": "ipython",
    "version": 3
   },
   "file_extension": ".py",
   "mimetype": "text/x-python",
   "name": "python",
   "nbconvert_exporter": "python",
   "pygments_lexer": "ipython3",
   "version": "3.9.12"
  }
 },
 "nbformat": 4,
 "nbformat_minor": 5
}
