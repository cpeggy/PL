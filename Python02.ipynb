{
 "cells": [
  {
   "cell_type": "code",
   "execution_count": 1,
   "id": "f0da8982",
   "metadata": {},
   "outputs": [],
   "source": [
    "money = 25688\n",
    "rate1 = 0.7\n",
    "rate2 = 0.3"
   ]
  },
  {
   "cell_type": "code",
   "execution_count": 2,
   "id": "9fa961c0",
   "metadata": {},
   "outputs": [
    {
     "name": "stdout",
     "output_type": "stream",
     "text": [
      "被告 need to pay 17981 money.\n",
      "原告 need to pay 7706 money.\n"
     ]
    }
   ],
   "source": [
    "print (\"被告 need to pay\", int(money*rate1),\"money.\")\n",
    "print (\"原告 need to pay\", int(money*rate2),\"money.\")"
   ]
  },
  {
   "cell_type": "code",
   "execution_count": 6,
   "id": "8ba8a7cb",
   "metadata": {},
   "outputs": [
    {
     "name": "stdout",
     "output_type": "stream",
     "text": [
      "丁oo 需要付新台幣 12459 元。\n"
     ]
    }
   ],
   "source": [
    "money1 = 11805\n",
    "rate1 = 0.0005\n",
    "moneyr = 150\n",
    "total_moneyp = money1*(1+rate1*60) + moneyr*2\n",
    "print(\"丁oo 需要付新台幣\", int(total_moneyp),\"元。\")"
   ]
  },
  {
   "cell_type": "code",
   "execution_count": 11,
   "id": "05656920",
   "metadata": {},
   "outputs": [
    {
     "name": "stdout",
     "output_type": "stream",
     "text": [
      "請輸入案件：被告闖紅燈\n",
      "被告賠100%\n"
     ]
    }
   ],
   "source": [
    "event = input(\"請輸入案件：\")\n",
    "\n",
    "if event == \"被告闖紅燈\":\n",
    "        print(\"被告賠100%\")\n",
    "elif event == \"原告闖紅燈\":\n",
    "        print(\"原告多被告少\")\n",
    "elif event == \"被告原告皆闖紅燈\":\n",
    "        print(\"原告50% 被告50%\")\n",
    "else:\n",
    "        print(\"請輸入有效訊息\")"
   ]
  },
  {
   "cell_type": "code",
   "execution_count": null,
   "id": "bbf237ed",
   "metadata": {},
   "outputs": [],
   "source": []
  }
 ],
 "metadata": {
  "kernelspec": {
   "display_name": "Python 3 (ipykernel)",
   "language": "python",
   "name": "python3"
  },
  "language_info": {
   "codemirror_mode": {
    "name": "ipython",
    "version": 3
   },
   "file_extension": ".py",
   "mimetype": "text/x-python",
   "name": "python",
   "nbconvert_exporter": "python",
   "pygments_lexer": "ipython3",
   "version": "3.9.12"
  }
 },
 "nbformat": 4,
 "nbformat_minor": 5
}
